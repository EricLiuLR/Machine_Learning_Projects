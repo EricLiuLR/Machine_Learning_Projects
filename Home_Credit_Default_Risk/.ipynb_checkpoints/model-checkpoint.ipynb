{
 "cells": [
  {
   "cell_type": "code",
   "execution_count": 1,
   "metadata": {
    "_cell_guid": "b1076dfc-b9ad-4769-8c92-a6c4dae69d19",
    "_uuid": "8f2839f25d086af736a60e9eeb907d3b93b6e0e5"
   },
   "outputs": [],
   "source": [
    "import numpy as np\n",
    "import pandas as pd\n",
    "from time import time, sleep\n",
    "import gc"
   ]
  },
  {
   "cell_type": "markdown",
   "metadata": {},
   "source": [
    "### Load the dataset"
   ]
  },
  {
   "cell_type": "code",
   "execution_count": 2,
   "metadata": {
    "_cell_guid": "79c7e3d0-c299-4dcb-8224-4455121ee9b0",
    "_uuid": "d629ff2d2480ee46fbb7e2d37f6b5fab8052498a"
   },
   "outputs": [
    {
     "name": "stdout",
     "output_type": "stream",
     "text": [
      "app_train.shape: (307511, 122)\n",
      "app_test.shape: (48744, 121)\n",
      "bureau.shape: (1716428, 17)\n",
      "bureau_balance.shape: (27299925, 3)\n",
      "pos_cash_balance.shape: (10001358, 8)\n",
      "credit_card_balance.shape: (3840312, 23)\n",
      "previous_application.shape: (1670214, 37)\n",
      "installments_payments.shape: (13605401, 8)\n"
     ]
    }
   ],
   "source": [
    "app_train = pd.read_csv('../input/home-credit-default-risk/application_train.csv')\n",
    "app_test = pd.read_csv('../input/home-credit-default-risk/application_test.csv')\n",
    "bureau = pd.read_csv('../input/home-credit-default-risk/bureau.csv')\n",
    "bureau_balance = pd.read_csv('../input/home-credit-default-risk/bureau_balance.csv')\n",
    "pos_cash_balance = pd.read_csv('../input/home-credit-default-risk/POS_CASH_balance.csv')\n",
    "credit_card_balance = pd.read_csv('../input/home-credit-default-risk/credit_card_balance.csv')\n",
    "previous_application = pd.read_csv('../input/home-credit-default-risk/previous_application.csv')\n",
    "installments_payments = pd.read_csv('../input/home-credit-default-risk/installments_payments.csv')\n",
    "\n",
    "print('app_train.shape: {}'.format(app_train.shape))\n",
    "print('app_test.shape: {}'.format(app_test.shape))\n",
    "print('bureau.shape: {}'.format(bureau.shape))\n",
    "print('bureau_balance.shape: {}'.format(bureau_balance.shape))\n",
    "print('pos_cash_balance.shape: {}'.format(pos_cash_balance.shape))\n",
    "print('credit_card_balance.shape: {}'.format(credit_card_balance.shape))\n",
    "print('previous_application.shape: {}'.format(previous_application.shape))\n",
    "print('installments_payments.shape: {}'.format(installments_payments.shape))"
   ]
  },
  {
   "cell_type": "markdown",
   "metadata": {},
   "source": [
    "### Combine the dataset for easy processing"
   ]
  },
  {
   "cell_type": "code",
   "execution_count": 3,
   "metadata": {},
   "outputs": [
    {
     "name": "stdout",
     "output_type": "stream",
     "text": [
      "combine.shape: (356255, 122)\n"
     ]
    }
   ],
   "source": [
    "app_train['istestset'] = 0\n",
    "app_test['istestset'] = 1\n",
    "\n",
    "combine = pd.concat([app_train.drop('TARGET', axis=1), app_test], axis=0, ignore_index=True)\n",
    "print('combine.shape: {}'.format(combine.shape))"
   ]
  },
  {
   "cell_type": "markdown",
   "metadata": {},
   "source": [
    "### Fill in missing values & Feature engineering"
   ]
  },
  {
   "cell_type": "code",
   "execution_count": 4,
   "metadata": {},
   "outputs": [],
   "source": [
    "binary_features = [\n",
    "    'NAME_CONTRACT_TYPE', 'CODE_GENDER', 'FLAG_OWN_CAR', 'FLAG_OWN_REALTY', 'FLAG_MOBIL', 'FLAG_EMP_PHONE',\n",
    "    'FLAG_WORK_PHONE', 'FLAG_CONT_MOBILE', 'FLAG_PHONE', 'FLAG_EMAIL', 'REG_REGION_NOT_LIVE_REGION',\n",
    "    'REG_REGION_NOT_WORK_REGION', 'LIVE_REGION_NOT_WORK_REGION', 'REG_CITY_NOT_LIVE_CITY',\n",
    "    'REG_CITY_NOT_WORK_CITY', 'LIVE_CITY_NOT_WORK_CITY',\n",
    "    'FLAG_DOCUMENT_2', 'FLAG_DOCUMENT_3', 'FLAG_DOCUMENT_4', 'FLAG_DOCUMENT_5', 'FLAG_DOCUMENT_6',\n",
    "    'FLAG_DOCUMENT_7', 'FLAG_DOCUMENT_8', 'FLAG_DOCUMENT_9', 'FLAG_DOCUMENT_10', 'FLAG_DOCUMENT_11',\n",
    "    'FLAG_DOCUMENT_12', 'FLAG_DOCUMENT_13', 'FLAG_DOCUMENT_14', 'FLAG_DOCUMENT_15', 'FLAG_DOCUMENT_16',\n",
    "    'FLAG_DOCUMENT_17', 'FLAG_DOCUMENT_18', 'FLAG_DOCUMENT_19', 'FLAG_DOCUMENT_20', 'FLAG_DOCUMENT_21'\n",
    "]\n",
    "\n",
    "categorical_features = [\n",
    "    'NAME_TYPE_SUITE', 'NAME_INCOME_TYPE', 'NAME_EDUCATION_TYPE', 'NAME_FAMILY_STATUS',\n",
    "    'NAME_HOUSING_TYPE', 'OCCUPATION_TYPE', 'WEEKDAY_APPR_PROCESS_START', 'ORGANIZATION_TYPE',\n",
    "    'FONDKAPREMONT_MODE', 'HOUSETYPE_MODE', 'WALLSMATERIAL_MODE', 'EMERGENCYSTATE_MODE',\n",
    "    'REGION_POPULATION_RELATIVE'\n",
    "]\n",
    "\n",
    "numeric_features = [\n",
    "    'CNT_CHILDREN', 'AMT_INCOME_TOTAL', 'AMT_CREDIT', 'AMT_ANNUITY', 'AMT_GOODS_PRICE',\n",
    "    'DAYS_BIRTH', 'DAYS_EMPLOYED', 'DAYS_REGISTRATION',\n",
    "    'DAYS_ID_PUBLISH', 'OWN_CAR_AGE', 'CNT_FAM_MEMBERS', 'HOUR_APPR_PROCESS_START', 'REGION_RATING_CLIENT',\n",
    "    'REGION_RATING_CLIENT_W_CITY', 'EXT_SOURCE_1', 'EXT_SOURCE_2', 'EXT_SOURCE_3',\n",
    "    'APARTMENTS_AVG', 'BASEMENTAREA_AVG', 'YEARS_BEGINEXPLUATATION_AVG', 'YEARS_BUILD_AVG',\n",
    "    'COMMONAREA_AVG', 'ELEVATORS_AVG', 'ENTRANCES_AVG', 'FLOORSMAX_AVG', 'FLOORSMIN_AVG',\n",
    "    'LANDAREA_AVG', 'LIVINGAPARTMENTS_AVG', 'LIVINGAREA_AVG', 'NONLIVINGAPARTMENTS_AVG',\n",
    "    'NONLIVINGAREA_AVG', 'APARTMENTS_MODE', 'BASEMENTAREA_MODE', 'YEARS_BEGINEXPLUATATION_MODE',\n",
    "    'YEARS_BUILD_MODE', 'COMMONAREA_MODE', 'ELEVATORS_MODE', 'ENTRANCES_MODE', 'FLOORSMAX_MODE',\n",
    "    'FLOORSMIN_MODE', 'LANDAREA_MODE', 'LIVINGAPARTMENTS_MODE', 'LIVINGAREA_MODE',\n",
    "    'NONLIVINGAPARTMENTS_MODE', 'NONLIVINGAREA_MODE', 'APARTMENTS_MEDI', 'BASEMENTAREA_MEDI',\n",
    "    'YEARS_BEGINEXPLUATATION_MEDI', 'YEARS_BUILD_MEDI', 'COMMONAREA_MEDI', 'ELEVATORS_MEDI',\n",
    "    'ENTRANCES_MEDI', 'FLOORSMAX_MEDI', 'FLOORSMIN_MEDI', 'LANDAREA_MEDI', 'LIVINGAPARTMENTS_MEDI',\n",
    "    'LIVINGAREA_MEDI', 'NONLIVINGAPARTMENTS_MEDI', 'NONLIVINGAREA_MEDI', 'TOTALAREA_MODE',\n",
    "    'OBS_30_CNT_SOCIAL_CIRCLE', 'DEF_30_CNT_SOCIAL_CIRCLE', 'OBS_60_CNT_SOCIAL_CIRCLE',\n",
    "    'DEF_60_CNT_SOCIAL_CIRCLE', 'DAYS_LAST_PHONE_CHANGE', 'AMT_REQ_CREDIT_BUREAU_HOUR',\n",
    "    'AMT_REQ_CREDIT_BUREAU_DAY', 'AMT_REQ_CREDIT_BUREAU_WEEK', 'AMT_REQ_CREDIT_BUREAU_MON',\n",
    "    'AMT_REQ_CREDIT_BUREAU_QRT', 'AMT_REQ_CREDIT_BUREAU_YEAR'\n",
    "]\n",
    "\n",
    "todrop_features = [\n",
    "    'SK_ID_CURR'\n",
    "]"
   ]
  },
  {
   "cell_type": "markdown",
   "metadata": {},
   "source": [
    "#### Fill in missing values"
   ]
  },
  {
   "cell_type": "code",
   "execution_count": 5,
   "metadata": {},
   "outputs": [],
   "source": [
    "# Fill in CODE_GENDER with mode\n",
    "combine['CODE_GENDER'] = combine.CODE_GENDER.replace({'XNA': 'F'})\n",
    "\n",
    "# Fill in NAME_TYPE_SUITE with mode\n",
    "combine['NAME_TYPE_SUITE'] = combine.NAME_TYPE_SUITE.fillna(combine.NAME_TYPE_SUITE.mode()[0])\n",
    "\n",
    "# Fill in NAME_FAMILY_STATUS with mode\n",
    "combine['NAME_FAMILY_STATUS'] = combine.NAME_FAMILY_STATUS.fillna(combine.NAME_FAMILY_STATUS.mode()[0])\n",
    "\n",
    "# Fill in OCCUPATION_TYPE with None\n",
    "combine['OCCUPATION_TYPE'] = combine.OCCUPATION_TYPE.fillna('NONE')\n",
    "\n",
    "# Fill in CNT_FAM_MEMBERS with median\n",
    "combine['CNT_FAM_MEMBERS'] = combine.CNT_FAM_MEMBERS.fillna(combine.CNT_FAM_MEMBERS.median())\n",
    "\n",
    "# Fill in APARTMENTS related categorical features with None\n",
    "apartment_related_categorical_features = [\n",
    "    'FONDKAPREMONT_MODE', 'HOUSETYPE_MODE', 'WALLSMATERIAL_MODE', 'EMERGENCYSTATE_MODE'\n",
    "]\n",
    "for feat in apartment_related_categorical_features:\n",
    "    combine[feat] = combine[feat].fillna('NONE')"
   ]
  },
  {
   "cell_type": "markdown",
   "metadata": {},
   "source": [
    "#### Feature engineering"
   ]
  },
  {
   "cell_type": "markdown",
   "metadata": {},
   "source": [
    "##### Feature engineering within the main application table"
   ]
  },
  {
   "cell_type": "code",
   "execution_count": 6,
   "metadata": {},
   "outputs": [],
   "source": [
    "from sklearn.preprocessing import LabelEncoder\n",
    "\n",
    "le = LabelEncoder()\n",
    "\n",
    "for feat in binary_features:\n",
    "    combine[feat] = le.fit_transform(combine[feat])\n",
    "    \n",
    "for feat in categorical_features:\n",
    "    combine[feat] = combine[feat].astype('category')\n",
    "    \n",
    "# Create a CONSUMER_LOAN feature based on whether it's consumer loan or not\n",
    "combine['CONSUMER_LOAN'] = combine.AMT_GOODS_PRICE.notnull().astype(int)\n",
    "\n",
    "# Change those too large DAYS_EMPLOYED values to no.nan\n",
    "combine.loc[combine.DAYS_EMPLOYED>300000, 'DAYS_EMPLOYED'] = np.nan\n",
    "\n",
    "# Create several ratio based features:\n",
    "combine['AMT_CREDIT_OVER_INCOME'] = combine['AMT_CREDIT'] / combine['AMT_INCOME_TOTAL']\n",
    "combine['AMT_GOODS_PRICE_OVER_INCOME'] = combine['AMT_GOODS_PRICE'] / combine['AMT_INCOME_TOTAL']\n",
    "combine['AMT_ANNUITY_OVER_INCOME'] = combine['AMT_ANNUITY'] / combine['AMT_INCOME_TOTAL']\n",
    "combine['AMT_ANNUITY_OVER_CREDIT'] = combine['AMT_ANNUITY'] / combine['AMT_CREDIT']\n",
    "combine['AMT_GOODS_PRICE_OVER_CREDIT'] = combine['AMT_GOODS_PRICE'] / combine['AMT_CREDIT']\n",
    "combine['AMT_GOODS_PRICE_OVER_ANNUITY'] = combine['AMT_GOODS_PRICE'] / combine['AMT_ANNUITY']\n",
    "combine['DAYS_BIRTH_OVER_DAYS_EMPLOYED'] = combine['DAYS_BIRTH'] / combine['DAYS_EMPLOYED']\n",
    "combine['OWN_CAR_AGE_OVER_DAYS_BIRTH'] = combine['OWN_CAR_AGE'] / (- combine['DAYS_BIRTH'] / 365)\n",
    "combine['OWN_CAR_AGE_OVER_DAYE_EMPLOYED'] = combine['OWN_CAR_AGE'] / (- combine['DAYS_EMPLOYED'] / 365)\n",
    "combine['DAYS_LAST_PHONE_CHANGE_OVER_DAYS_BIRTH'] = combine['DAYS_LAST_PHONE_CHANGE'] / combine['DAYS_BIRTH']\n",
    "combine['DAYS_LAST_PHONE_CHANGE_OVER_DAYS_EMPLOYED'] = combine['DAYS_LAST_PHONE_CHANGE'] / combine['DAYS_EMPLOYED']\n",
    "\n",
    "combine['AMT_INCOME_TOTAL_OVER_CNT_CHILDREN'] = combine['AMT_INCOME_TOTAL'] / combine['CNT_CHILDREN']\n",
    "combine['AMT_INCOME_TOTAL_OVER_CNT_FAM_MEMBERS'] = combine['AMT_INCOME_TOTAL'] / combine['CNT_FAM_MEMBERS']\n",
    "\n",
    "# Create EXT_SOURCE_MEAN, EXT_SOURCE_STD, CNT_EXT_SOURCE\n",
    "ext_source_features = ['EXT_SOURCE_1', 'EXT_SOURCE_2', 'EXT_SOURCE_3']\n",
    "combine['EXT_SOURCE_MEAN'] = combine[ext_source_features].mean(axis=1)\n",
    "combine['EXT_SOURCE_STD'] = combine[ext_source_features].std(axis=1)\n",
    "combine['CNT_EXT_SOURCE'] = combine[ext_source_features].count(axis=1)\n",
    "\n",
    "# Create CNT_DOCUMENTS\n",
    "document_related_features = [_ for _ in combine.columns if 'DOCUMENT' in _]\n",
    "combine['CNT_DOCUMENTS'] = combine[document_related_features].sum(axis=1)\n",
    "\n",
    "# Create CNT_CONTACT_INFO\n",
    "contact_info_related_features = ['FLAG_MOBIL', 'FLAG_EMP_PHONE', 'FLAG_WORK_PHONE', 'FLAG_CONT_MOBILE', 'FLAG_PHONE', 'FLAG_EMAIL']\n",
    "combine['CNT_CONTACT_INFO'] = combine[contact_info_related_features].sum(axis=1)"
   ]
  },
  {
   "cell_type": "markdown",
   "metadata": {},
   "source": [
    "##### Grab more feature from other tables"
   ]
  },
  {
   "cell_type": "code",
   "execution_count": 7,
   "metadata": {},
   "outputs": [
    {
     "name": "stdout",
     "output_type": "stream",
     "text": [
      "Preparing BUREAU, LAST_BUREAU, ACTIVE_BUREAU and CLOSED_BUREAU...\n",
      "Preparing PREVIOUS_APPLICATION...\n",
      "Preparing INSTALLMENTS_PAYMENTS...\n",
      "Extracting information from LAST_BUREAU...\n",
      "Extracting information from BUREAU...\n",
      "Extracting information from ACTIVE_BUREAU...\n",
      "Extracting information from CLOSED_BUREAU...\n",
      "Extracting information from POS_CASH_BALANCE...\n",
      "Extracting information from CREDIT_CARD_BALANCE...\n",
      "Extracting information from PREVIOUS_APPLICATION...\n",
      "Extracting information from INSTALLMENTS_PAYMENTS...\n",
      "Done\n"
     ]
    }
   ],
   "source": [
    "print('Preparing BUREAU, LAST_BUREAU, ACTIVE_BUREAU and CLOSED_BUREAU...')\n",
    "sk_id_bureau = bureau_balance.groupby('SK_ID_BUREAU').SK_ID_BUREAU.agg(['size'])\n",
    "sk_id_bureau.columns = ['BUREAU_BALANCE_'+'SK_ID_BUREAU_'+_.upper() for _ in sk_id_bureau.columns]\n",
    "months_balance = bureau_balance.groupby('SK_ID_BUREAU').MONTHS_BALANCE.agg(['mean'])\n",
    "months_balance.columns = ['BUREAU_BALANCE_'+'MONTHS_BALANCE_'+_.upper() for _ in months_balance.columns]\n",
    "status = bureau_balance.groupby('SK_ID_BUREAU').STATUS.value_counts().unstack().fillna(0)\n",
    "status.columns = ['BUREAU_BALANCE_'+'STATUS_'+_.upper() for _ in status.columns]\n",
    "\n",
    "bureau = pd.merge(bureau, months_balance, how='left', on='SK_ID_BUREAU')\n",
    "bureau['AMT_CREDIT_SUM_DEBT_OVER_AMT_CREDIT_SUM'] = bureau['AMT_CREDIT_SUM_DEBT'] / bureau['AMT_CREDIT_SUM']\n",
    "\n",
    "active_bureau = bureau[bureau.CREDIT_ACTIVE=='Active'].select_dtypes(exclude='object').drop('SK_ID_BUREAU', axis=1)\n",
    "closed_bureau = bureau[bureau.CREDIT_ACTIVE=='Closed'].select_dtypes(exclude='object').drop('SK_ID_BUREAU', axis=1)\n",
    "\n",
    "bureau = pd.merge(bureau, sk_id_bureau, how='left', on='SK_ID_BUREAU')\n",
    "bureau = pd.merge(bureau, status, how='left', on='SK_ID_BUREAU')\n",
    "\n",
    "last_days_credit = bureau.groupby('SK_ID_CURR').DAYS_CREDIT.max()\n",
    "last_bureau = pd.merge(last_days_credit, bureau, how='left', on=['SK_ID_CURR', 'DAYS_CREDIT'])\n",
    "last_bureau = last_bureau.drop_duplicates(['SK_ID_CURR'])\n",
    "last_bureau = pd.get_dummies(last_bureau).drop('SK_ID_BUREAU', axis=1)\n",
    "\n",
    "other_features = [_ for _ in bureau.columns if _ not in active_bureau.columns]\n",
    "bureau = pd.concat([bureau[bureau.columns[:2]], bureau[other_features]], axis=1).drop('SK_ID_BUREAU', axis=1)\n",
    "\n",
    "print('Preparing PREVIOUS_APPLICATION...')\n",
    "# Change too large DAYS in previous_application to np.nan\n",
    "previous_application['DAYS_FIRST_DRAWING'].replace(365243, np.nan, inplace= True)\n",
    "previous_application['DAYS_FIRST_DUE'].replace(365243, np.nan, inplace= True)\n",
    "previous_application['DAYS_LAST_DUE_1ST_VERSION'].replace(365243, np.nan, inplace= True)\n",
    "previous_application['DAYS_LAST_DUE'].replace(365243, np.nan, inplace= True)\n",
    "previous_application['DAYS_TERMINATION'].replace(365243, np.nan, inplace= True)\n",
    "\n",
    "# Create AMT_APPLICATION_OVER_AMT_CREDIT\n",
    "previous_application['AMT_APPLICATION_OVER_AMT_CREDIT'] = previous_application['AMT_APPLICATION'] / previous_application['AMT_CREDIT']\n",
    "\n",
    "print('Preparing INSTALLMENTS_PAYMENTS...')\n",
    "# Create some more feature from installments_payments\n",
    "installments_payments['AMT_PAYMENT_OVER_AMT_INSTALMENT'] = installments_payments['AMT_PAYMENT'] / installments_payments['AMT_INSTALMENT']\n",
    "installments_payments['AMT_INSTALMENT_MINUS_AMT_PAYMENT'] = installments_payments['AMT_INSTALMENT'] - installments_payments['AMT_PAYMENT']\n",
    "installments_payments['DPD'] = installments_payments['DAYS_ENTRY_PAYMENT'] - installments_payments['DAYS_INSTALMENT']\n",
    "installments_payments['DBD'] = installments_payments['DAYS_INSTALMENT'] - installments_payments['DAYS_ENTRY_PAYMENT']\n",
    "installments_payments['DPD'] = installments_payments['DPD'].apply(lambda x: x if x > 0 else 0)\n",
    "installments_payments['DBD'] = installments_payments['DBD'].apply(lambda x: x if x > 0 else 0)\n",
    "\n",
    "the_zip = zip(\n",
    "    [bureau, active_bureau, closed_bureau, pos_cash_balance, credit_card_balance, previous_application, installments_payments], \n",
    "    ['BUREAU_', 'ACTIVE_BUREAU_', 'CLOSED_BUREAU_', 'POS_CASH_BALANCE_', 'CREDIT_CARD_BALANCE_', 'PREVIOUS_APPLICATION_', 'INSTALLMENTS_PAYMENTS_']\n",
    ")\n",
    "\n",
    "# print('combine.shape: {}'.format(combine.shape))\n",
    "print('Extracting information from LAST_BUREAU...')\n",
    "combine = pd.merge(combine, last_bureau, how='left', on='SK_ID_CURR')\n",
    "# print('combine.shape: {}'.format(combine.shape))\n",
    "\n",
    "for df, df_name_pref in the_zip:\n",
    "    print('Extracting information from {}...'.format(df_name_pref[:-1]))\n",
    "    info_dict = {feat: (lambda x: 'value_counts' if df[x].dtype=='object' else ['min', 'max', 'mean', 'std', 'sum', 'count'])(feat) for feat in df.columns[2:]}\n",
    "    info_dict['SK_ID_CURR'] = ['count']\n",
    "    for feat in info_dict.keys():\n",
    "        info = info_dict[feat]\n",
    "        if isinstance(info, list):\n",
    "            tmp_info_df = df.groupby('SK_ID_CURR')[feat].agg(info)\n",
    "            tmp_info_df.columns = [df_name_pref+feat+'_'+_.upper() for _ in tmp_info_df.columns]\n",
    "            combine = pd.merge(combine, tmp_info_df, how='left', on='SK_ID_CURR')\n",
    "        else:\n",
    "            tmp_info_df = df.groupby('SK_ID_CURR')[feat].value_counts().unstack().fillna(0)\n",
    "            tmp_info_df.columns = [df_name_pref+feat+'_'+_.upper() for _ in tmp_info_df.columns]\n",
    "            combine = pd.merge(combine, tmp_info_df, how='left', on='SK_ID_CURR')\n",
    "#     print('combine.shape: {}'.format(combine.shape))\n",
    "    \n",
    "del [bureau, active_bureau, closed_bureau, pos_cash_balance, credit_card_balance, previous_application, installments_payments]\n",
    "gc.collect()\n",
    "print('Done')"
   ]
  },
  {
   "cell_type": "markdown",
   "metadata": {},
   "source": [
    "##### Turning categorical features into dummy variables"
   ]
  },
  {
   "cell_type": "code",
   "execution_count": 8,
   "metadata": {},
   "outputs": [
    {
     "name": "stdout",
     "output_type": "stream",
     "text": [
      "combine.shape: (356255, 1114)\n"
     ]
    }
   ],
   "source": [
    "# Drop unecessary features\n",
    "combine = combine.drop(todrop_features, axis=1)\n",
    "\n",
    "# Get dummy variables\n",
    "combine = pd.get_dummies(combine)\n",
    "print('combine.shape: {}'.format(combine.shape))"
   ]
  },
  {
   "cell_type": "markdown",
   "metadata": {},
   "source": [
    "### Prepare the data for modeling"
   ]
  },
  {
   "cell_type": "code",
   "execution_count": 9,
   "metadata": {},
   "outputs": [],
   "source": [
    "X_train = combine[combine.istestset==0].drop('istestset', axis=1)\n",
    "X_test = combine[combine.istestset==1].drop('istestset', axis=1)\n",
    "y_train = app_train.TARGET\n",
    "\n",
    "gc.collect()\n",
    "del combine"
   ]
  },
  {
   "cell_type": "markdown",
   "metadata": {},
   "source": [
    "### Set up the metric"
   ]
  },
  {
   "cell_type": "code",
   "execution_count": 10,
   "metadata": {},
   "outputs": [],
   "source": [
    "from lightgbm.sklearn import LGBMClassifier\n",
    "from sklearn.model_selection import StratifiedKFold\n",
    "from sklearn.model_selection import cross_val_score\n",
    "from sklearn.model_selection import GridSearchCV\n",
    "from sklearn.metrics import roc_auc_score\n",
    "from sklearn.model_selection import train_test_split\n",
    "from sklearn.utils import resample\n",
    "import lightgbm as lgb"
   ]
  },
  {
   "cell_type": "code",
   "execution_count": 11,
   "metadata": {},
   "outputs": [],
   "source": [
    "kf = StratifiedKFold(n_splits=4, shuffle=True, random_state=0)\n",
    "mt = 'roc_auc'\n",
    "\n",
    "def performance_cv(model, X_train, y_train):\n",
    "    scores = cross_val_score(model, X_train, y_train, cv=kf, scoring=mt, verbose=True)\n",
    "    return scores.mean()\n",
    "    \n",
    "def grid_search(model, params):\n",
    "    g = GridSearchCV(model, params, scoring=mt, cv=kf, verbose=True).fit(X_train, y_train)\n",
    "    print('Best Score: {:.4f}'.format(g.best_score_))\n",
    "    print('Best parameters:\\n{}'.format(g.best_params_))\n",
    "    return g.best_estimator_"
   ]
  },
  {
   "cell_type": "markdown",
   "metadata": {},
   "source": [
    "### Feature selection"
   ]
  },
  {
   "cell_type": "code",
   "execution_count": 12,
   "metadata": {},
   "outputs": [
    {
     "name": "stdout",
     "output_type": "stream",
     "text": [
      "Start backward feature selection...\n",
      "Selecting from 1113 features, totally 100 clfs to fit.\n",
      "Fitting No.01-10 classifiers...\n",
      "Fitting No.11-20 classifiers...\n",
      "Fitting No.21-30 classifiers...\n",
      "Fitting No.31-40 classifiers...\n",
      "Fitting No.41-50 classifiers...\n",
      "Fitting No.51-60 classifiers...\n",
      "Fitting No.61-70 classifiers...\n",
      "Fitting No.71-80 classifiers...\n",
      "Fitting No.81-90 classifiers...\n",
      "Fitting No.91-100 classifiers...\n",
      "All classifiers fitted, selecting features...\n",
      "Selected 181 features, time used: 1596.9s\n"
     ]
    }
   ],
   "source": [
    "def feature_selection(features, n_clfs, importance_type='gain', subsample=0.1):\n",
    "    print('Selecting from {} features, totally {} clfs to fit.'.format(len(features), n_clfs))\n",
    "    X, y = X_train[features], y_train\n",
    "    feature_importance = pd.DataFrame()\n",
    "    feature_importance['feature'] = X.columns.values\n",
    "    clf =  LGBMClassifier(boosting_type='goss', random_state=0, importance_type=importance_type)\n",
    "    for i in range(n_clfs):\n",
    "        sleep(1)\n",
    "        if i % 10 == 0:\n",
    "            tmp_start = time()\n",
    "            print('Fitting No.{:0>2d}-{} classifiers...'.format(i+1, i+10))\n",
    "        tmp_X, tmp_y = resample(X, y, random_state=i, n_samples=int(X.shape[0]*subsample), stratify=y)\n",
    "        tmp_y = np.random.permutation(tmp_y)\n",
    "        importance =clf.fit(tmp_X, tmp_y).feature_importances_\n",
    "        feature_importance['importance_'+str(i)] = importance\n",
    "    return feature_importance\n",
    "\n",
    "n_clfs=100\n",
    "threshold=2\n",
    "start = time()\n",
    "print('Start backward feature selection...')\n",
    "feature_importance = feature_selection(X_train.columns.values.tolist(), n_clfs)\n",
    "print('All classifiers fitted, selecting features...')\n",
    "imp_feats = ['importance_'+str(i) for i in range(100)]\n",
    "feature_importance['importance_mean'] = feature_importance[imp_feats].mean(axis=1)\n",
    "feature_importance['importance_std'] = feature_importance[imp_feats].std(axis=1) + 1e-7\n",
    "std_mean = feature_importance.importance_std.mean()\n",
    "feature_importance.loc[feature_importance.importance_std<std_mean, 'importance_std'] = std_mean\n",
    "sleep(30)\n",
    "feature_importance['importance'] = LGBMClassifier(random_state=0, importance_type='gain').fit(X_train, y_train).feature_importances_\n",
    "feature_importance['importance_zscore'] = np.abs(feature_importance['importance'] - feature_importance['importance_mean']) / feature_importance['importance_std']\n",
    "features = feature_importance[feature_importance.importance_zscore>threshold].feature.tolist()\n",
    "X_train, X_test = X_train[features], X_test[features]\n",
    "print('Selected {} features, time used: {:.1f}s'.format(len(features), time()-start))"
   ]
  },
  {
   "cell_type": "markdown",
   "metadata": {},
   "source": [
    "### Define the model"
   ]
  },
  {
   "cell_type": "code",
   "execution_count": 13,
   "metadata": {},
   "outputs": [],
   "source": [
    "# The parameter setting below was found by greedy GridSearch\n",
    "clf = LGBMClassifier(\n",
    "    random_state=0,\n",
    "    importance_type='gain',\n",
    "    n_estimators=5000,\n",
    "    learning_rate=0.01,\n",
    "    num_leaves=29,\n",
    "    min_split_gain=0.01,\n",
    "    reg_alpha=0.001,\n",
    "    reg_lambda=1e-6,\n",
    "    subsample=0.1,\n",
    "    colsample_bytree=0.34\n",
    ")"
   ]
  },
  {
   "cell_type": "markdown",
   "metadata": {},
   "source": [
    "### Using K-Fold cross validation to see the performance"
   ]
  },
  {
   "cell_type": "code",
   "execution_count": 14,
   "metadata": {},
   "outputs": [
    {
     "name": "stderr",
     "output_type": "stream",
     "text": [
      "[Parallel(n_jobs=1)]: Using backend SequentialBackend with 1 concurrent workers.\n",
      "[Parallel(n_jobs=1)]: Done   4 out of   4 | elapsed: 15.4min finished\n"
     ]
    },
    {
     "data": {
      "text/plain": [
       "0.7935715371594901"
      ]
     },
     "execution_count": 14,
     "metadata": {},
     "output_type": "execute_result"
    }
   ],
   "source": [
    "performance_cv(clf, X_train, y_train)"
   ]
  },
  {
   "cell_type": "markdown",
   "metadata": {},
   "source": [
    "### Feature importance"
   ]
  },
  {
   "cell_type": "code",
   "execution_count": 15,
   "metadata": {},
   "outputs": [
    {
     "data": {
      "image/png": "[encoded data removed]",
      "text/plain": [
       "<Figure size 1080x864 with 1 Axes>"
      ]
     },
     "metadata": {
      "needs_background": "light"
     },
     "output_type": "display_data"
    }
   ],
   "source": [
    "import seaborn as sns\n",
    "import matplotlib.pyplot as plt\n",
    "\n",
    "importance = clf.fit(X_train, y_train).feature_importances_\n",
    "feature_importance = pd.DataFrame()\n",
    "feature_importance['feature'] = X_train.columns.values\n",
    "feature_importance['importance'] = importance\n",
    "feature_importance = feature_importance.sort_values('importance', ascending=False)\n",
    "\n",
    "plt.figure(figsize=(15, 12))\n",
    "sns.barplot(data=feature_importance[:30], x='importance', y='feature')\n",
    "plt.show()"
   ]
  },
  {
   "cell_type": "markdown",
   "metadata": {},
   "source": [
    "### Make submission"
   ]
  },
  {
   "cell_type": "code",
   "execution_count": 16,
   "metadata": {},
   "outputs": [],
   "source": [
    "test_id = app_test['SK_ID_CURR']\n",
    "y_pred = clf.fit(X_train, y_train).predict_proba(X_test)[:, 1]\n",
    "y_pred = pd.Series(y_pred, name='TARGET')\n",
    "sub = pd.concat([test_id, y_pred], axis=1)\n",
    "sub.to_csv('sub.csv', index=False)"
   ]
  }
 ],
 "metadata": {
  "kernelspec": {
   "display_name": "Python 3",
   "language": "python",
   "name": "python3"
  },
  "language_info": {
   "codemirror_mode": {
    "name": "ipython",
    "version": 3
   },
   "file_extension": ".py",
   "mimetype": "text/x-python",
   "name": "python",
   "nbconvert_exporter": "python",
   "pygments_lexer": "ipython3",
   "version": "3.6.6"
  }
 },
 "nbformat": 4,
 "nbformat_minor": 1
}
