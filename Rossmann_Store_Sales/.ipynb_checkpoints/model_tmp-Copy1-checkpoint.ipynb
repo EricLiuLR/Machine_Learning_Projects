{
 "cells": [
  {
   "cell_type": "code",
   "execution_count": 1,
   "metadata": {
    "_cell_guid": "b1076dfc-b9ad-4769-8c92-a6c4dae69d19",
    "_uuid": "8f2839f25d086af736a60e9eeb907d3b93b6e0e5"
   },
   "outputs": [],
   "source": [
    "import numpy as np\n",
    "import pandas as pd\n",
    "import seaborn as sns\n",
    "import matplotlib.pyplot as plt\n",
    "\n",
    "from sklearn.model_selection import train_test_split\n",
    "\n",
    "plt.style.use('ggplot')\n",
    "np.set_printoptions(precision=4)\n",
    "pd.set_option('display.max_columns', None)\n",
    "pd.set_option('display.max_rows', None)\n",
    "pd.set_option('display.width', 100)\n",
    "pd.set_option('precision', 6)"
   ]
  },
  {
   "cell_type": "markdown",
   "metadata": {},
   "source": [
    "### Load the dataset"
   ]
  },
  {
   "cell_type": "code",
   "execution_count": 2,
   "metadata": {
    "_cell_guid": "79c7e3d0-c299-4dcb-8224-4455121ee9b0",
    "_uuid": "d629ff2d2480ee46fbb7e2d37f6b5fab8052498a"
   },
   "outputs": [
    {
     "name": "stderr",
     "output_type": "stream",
     "text": [
      "/opt/conda/lib/python3.6/site-packages/IPython/core/interactiveshell.py:3058: DtypeWarning: Columns (7) have mixed types. Specify dtype option on import or set low_memory=False.\n",
      "  interactivity=interactivity, compiler=compiler, result=result)\n"
     ]
    },
    {
     "name": "stdout",
     "output_type": "stream",
     "text": [
      "train.shape: (1017209, 9)\n",
      "test.shape: (41088, 8)\n",
      "store.shape: (1115, 10)\n"
     ]
    }
   ],
   "source": [
    "train = pd.read_csv('/kaggle/input/rossmann-store-sales/train.csv', parse_dates=['Date'])\n",
    "test = pd.read_csv('/kaggle/input/rossmann-store-sales/test.csv', parse_dates=['Date'])\n",
    "store = pd.read_csv('/kaggle/input/rossmann-store-sales/store.csv')\n",
    "\n",
    "print('train.shape: {}'.format(train.shape))\n",
    "print('test.shape: {}'.format(test.shape))\n",
    "print('store.shape: {}'.format(store.shape))"
   ]
  },
  {
   "cell_type": "markdown",
   "metadata": {},
   "source": [
    "### Prepare the store table"
   ]
  },
  {
   "cell_type": "code",
   "execution_count": 3,
   "metadata": {},
   "outputs": [],
   "source": [
    "# Drop all the rows with store open but zero sales\n",
    "train = train.drop(train[(train.Sales==0) & (train.Open==1)].index, axis=0)\n",
    "\n",
    "# For each store, year, and month, drop the abnormal sales"
   ]
  },
  {
   "cell_type": "code",
   "execution_count": 4,
   "metadata": {},
   "outputs": [],
   "source": [
    "# Convert Competition date information to datetime for comparing\n",
    "def convert_competition_open(row):\n",
    "    try:\n",
    "        date = '{}-{}'.format(int(row['CompetitionOpenSinceYear']), int(row['CompetitionOpenSinceMonth']))\n",
    "        return pd.to_datetime(date)\n",
    "    except:\n",
    "        return np.nan\n",
    "store['CompetitionOpen'] = store.apply(convert_competition_open, axis=1)\n",
    "store = store.drop(['CompetitionOpenSinceYear', 'CompetitionOpenSinceMonth'], axis=1)\n",
    "\n",
    "# Convert Promo2 information to datetime for comparing\n",
    "def convert_promo2(row):\n",
    "    try:\n",
    "        date = '{}{}1'.format(int(row['Promo2SinceYear']), int(row['Promo2SinceWeek']))\n",
    "        return pd.to_datetime(date, format='%Y%W%w')\n",
    "    except:\n",
    "        return np.nan\n",
    "store['Promo2Since'] = store.apply(convert_promo2, axis=1)\n",
    "store = store.drop(['Promo2', 'Promo2SinceYear', 'Promo2SinceWeek'], axis=1)\n",
    "\n",
    "# Add 12 attributes of the months each store is running promo2\n",
    "months = {\n",
    "    'Jan': 1,\n",
    "    'Feb' : 2,\n",
    "    'Mar' : 3,\n",
    "    'Apr' : 4,\n",
    "    'May' : 5,\n",
    "    'Jun' : 6,\n",
    "    'Jul' : 7,\n",
    "    'Aug' : 8,\n",
    "    'Sept' : 9, \n",
    "    'Oct' : 10,\n",
    "    'Nov' : 11,\n",
    "    'Dec' : 12\n",
    "}\n",
    "def add_promo2_month(interval, month):\n",
    "    if pd.isnull(interval):\n",
    "        return np.nan\n",
    "    else:\n",
    "        if month in interval.split(','):\n",
    "            return 1\n",
    "        else:\n",
    "            return 0\n",
    "\n",
    "for month in months.keys():\n",
    "    store['Promo2_on_month' + '_' + str(months[month])] = store.PromoInterval.apply(add_promo2_month, args=(month,))\n",
    "store = store.drop('PromoInterval', axis=1)\n"
   ]
  },
  {
   "cell_type": "code",
   "execution_count": 5,
   "metadata": {},
   "outputs": [
    {
     "name": "stdout",
     "output_type": "stream",
     "text": [
      "<class 'pandas.core.frame.DataFrame'>\n",
      "RangeIndex: 1115 entries, 0 to 1114\n",
      "Data columns (total 18 columns):\n",
      "Store                  1115 non-null int64\n",
      "StoreType              1115 non-null object\n",
      "Assortment             1115 non-null object\n",
      "CompetitionDistance    1112 non-null float64\n",
      "CompetitionOpen        761 non-null datetime64[ns]\n",
      "Promo2Since            571 non-null datetime64[ns]\n",
      "Promo2_on_month_1      571 non-null float64\n",
      "Promo2_on_month_2      571 non-null float64\n",
      "Promo2_on_month_3      571 non-null float64\n",
      "Promo2_on_month_4      571 non-null float64\n",
      "Promo2_on_month_5      571 non-null float64\n",
      "Promo2_on_month_6      571 non-null float64\n",
      "Promo2_on_month_7      571 non-null float64\n",
      "Promo2_on_month_8      571 non-null float64\n",
      "Promo2_on_month_9      571 non-null float64\n",
      "Promo2_on_month_10     571 non-null float64\n",
      "Promo2_on_month_11     571 non-null float64\n",
      "Promo2_on_month_12     571 non-null float64\n",
      "dtypes: datetime64[ns](2), float64(13), int64(1), object(2)\n",
      "memory usage: 156.9+ KB\n"
     ]
    }
   ],
   "source": [
    "store.info()"
   ]
  },
  {
   "cell_type": "markdown",
   "metadata": {},
   "source": [
    "### Drop the outliers"
   ]
  },
  {
   "cell_type": "code",
   "execution_count": 6,
   "metadata": {},
   "outputs": [],
   "source": [
    "# Drop all the rows with store open but zero sales\n",
    "train = train.drop(train[(train.Sales==0) & (train.Open==1)].index, axis=0)\n",
    "\n",
    "# For each store, year, and month, drop the abnormal sales\n",
    "stats = train.groupby('Store').Sales.agg(['mean', 'std']).reset_index()\n",
    "sales = train[['Store', 'Sales']].copy().reset_index()\n",
    "sales = pd.merge(sales, stats, on='Store')\n",
    "sales['z_score'] = (sales['Sales'] - sales['mean']) / sales['std']\n",
    "\n",
    "index_to_drop = sales.loc[sales.z_score>=3, 'index']\n",
    "train = train.drop(index_to_drop, axis=0)"
   ]
  },
  {
   "cell_type": "markdown",
   "metadata": {},
   "source": [
    "### Combine the data for easy processing"
   ]
  },
  {
   "cell_type": "code",
   "execution_count": 7,
   "metadata": {},
   "outputs": [],
   "source": [
    "train['istestset'] = 0\n",
    "test['istestset'] = 1\n",
    "combine = pd.concat([train.drop(['Sales', 'Customers'], axis=1), test.drop('Id', axis=1)], axis=0, ignore_index=True)"
   ]
  },
  {
   "cell_type": "markdown",
   "metadata": {},
   "source": [
    "### Add the store table information"
   ]
  },
  {
   "cell_type": "code",
   "execution_count": 8,
   "metadata": {},
   "outputs": [],
   "source": [
    "combine = pd.merge(combine, store, how='left', on='Store')"
   ]
  },
  {
   "cell_type": "code",
   "execution_count": 9,
   "metadata": {},
   "outputs": [
    {
     "name": "stdout",
     "output_type": "stream",
     "text": [
      "<class 'pandas.core.frame.DataFrame'>\n",
      "Int64Index: 1057131 entries, 0 to 1057130\n",
      "Data columns (total 25 columns):\n",
      "Store                  1057131 non-null int64\n",
      "DayOfWeek              1057131 non-null int64\n",
      "Date                   1057131 non-null datetime64[ns]\n",
      "Open                   1057120 non-null float64\n",
      "Promo                  1057131 non-null int64\n",
      "StateHoliday           1057131 non-null object\n",
      "SchoolHoliday          1057131 non-null int64\n",
      "istestset              1057131 non-null int64\n",
      "StoreType              1057131 non-null object\n",
      "Assortment             1057131 non-null object\n",
      "CompetitionDistance    1054398 non-null float64\n",
      "CompetitionOpen        718946 non-null datetime64[ns]\n",
      "Promo2Since            532356 non-null datetime64[ns]\n",
      "Promo2_on_month_1      532356 non-null float64\n",
      "Promo2_on_month_2      532356 non-null float64\n",
      "Promo2_on_month_3      532356 non-null float64\n",
      "Promo2_on_month_4      532356 non-null float64\n",
      "Promo2_on_month_5      532356 non-null float64\n",
      "Promo2_on_month_6      532356 non-null float64\n",
      "Promo2_on_month_7      532356 non-null float64\n",
      "Promo2_on_month_8      532356 non-null float64\n",
      "Promo2_on_month_9      532356 non-null float64\n",
      "Promo2_on_month_10     532356 non-null float64\n",
      "Promo2_on_month_11     532356 non-null float64\n",
      "Promo2_on_month_12     532356 non-null float64\n",
      "dtypes: datetime64[ns](3), float64(14), int64(5), object(3)\n",
      "memory usage: 209.7+ MB\n"
     ]
    }
   ],
   "source": [
    "combine.info()"
   ]
  },
  {
   "cell_type": "markdown",
   "metadata": {},
   "source": [
    "### Fill in missing values"
   ]
  },
  {
   "cell_type": "code",
   "execution_count": 10,
   "metadata": {},
   "outputs": [],
   "source": [
    "# Fill in Open with mode\n",
    "combine['Open'] = combine.Open.fillna(1.0)\n",
    "\n",
    "# Fill in all the promo2 related attributes with -1, which indicates a special case(not participate in promo2)\n",
    "promo2_related_feats = [_ for _ in combine.columns if 'Promo2' in _]\n",
    "for feat in promo2_related_feats:\n",
    "    combine[feat] = combine[feat].fillna(-1)\n",
    "    \n",
    "# Fill in the missing values in CompetitionDistance with the max + 1000, which means no nearby competition\n",
    "combine['CompetitionDistance'] = combine['CompetitionDistance'].fillna(combine.CompetitionDistance.max() + 1000)\n",
    "\n",
    "# For the missing values in CompetitionOpen, I just chenge it to categorical attribute (with 0 means not open yet, 1 means opened, -1 means unclear)\n",
    "def convert_CompetitionOpen_cat(row):\n",
    "    if pd.isnull(row['CompetitionOpen']):\n",
    "        return -1\n",
    "    else:\n",
    "        if row['Date'] >= row['CompetitionOpen']:\n",
    "            return 1\n",
    "        else:\n",
    "            return 0\n",
    "combine['CompetitionOpen'] = combine.apply(convert_CompetitionOpen_cat, axis=1)"
   ]
  },
  {
   "cell_type": "code",
   "execution_count": 11,
   "metadata": {},
   "outputs": [
    {
     "name": "stdout",
     "output_type": "stream",
     "text": [
      "<class 'pandas.core.frame.DataFrame'>\n",
      "Int64Index: 1057131 entries, 0 to 1057130\n",
      "Data columns (total 25 columns):\n",
      "Store                  1057131 non-null int64\n",
      "DayOfWeek              1057131 non-null int64\n",
      "Date                   1057131 non-null datetime64[ns]\n",
      "Open                   1057131 non-null float64\n",
      "Promo                  1057131 non-null int64\n",
      "StateHoliday           1057131 non-null object\n",
      "SchoolHoliday          1057131 non-null int64\n",
      "istestset              1057131 non-null int64\n",
      "StoreType              1057131 non-null object\n",
      "Assortment             1057131 non-null object\n",
      "CompetitionDistance    1057131 non-null float64\n",
      "CompetitionOpen        1057131 non-null int64\n",
      "Promo2Since            1057131 non-null object\n",
      "Promo2_on_month_1      1057131 non-null float64\n",
      "Promo2_on_month_2      1057131 non-null float64\n",
      "Promo2_on_month_3      1057131 non-null float64\n",
      "Promo2_on_month_4      1057131 non-null float64\n",
      "Promo2_on_month_5      1057131 non-null float64\n",
      "Promo2_on_month_6      1057131 non-null float64\n",
      "Promo2_on_month_7      1057131 non-null float64\n",
      "Promo2_on_month_8      1057131 non-null float64\n",
      "Promo2_on_month_9      1057131 non-null float64\n",
      "Promo2_on_month_10     1057131 non-null float64\n",
      "Promo2_on_month_11     1057131 non-null float64\n",
      "Promo2_on_month_12     1057131 non-null float64\n",
      "dtypes: datetime64[ns](1), float64(14), int64(6), object(4)\n",
      "memory usage: 209.7+ MB\n"
     ]
    }
   ],
   "source": [
    "combine.info()"
   ]
  },
  {
   "cell_type": "markdown",
   "metadata": {},
   "source": [
    "### Feature engineering"
   ]
  },
  {
   "cell_type": "code",
   "execution_count": null,
   "metadata": {},
   "outputs": [],
   "source": [
    "# DayOfWeek\n",
    "combine['DayOfWeek'] = combine.DayOfWeek.astype(int)\n",
    "\n",
    "# Date\n",
    "combine['Date'] = pd.to_datetime(combine.Date)\n",
    "combine['Year'] = combine.Date.dt.year.astype(int)\n",
    "combine['Month'] = combine.Date.dt.month.astype(int)\n",
    "combine['Day'] = combine.Date.dt.day.astype(int)\n",
    "combine['Week'] = combine.Date.dt.week.astype(int)\n",
    "\n",
    "# Open ...\n",
    "# Promo ...\n",
    "\n",
    "# StateHoliday\n",
    "combine['StateHoliday'] = combine.StateHoliday.replace({0:'0'}).astype('category').cat.codes\n",
    "\n",
    "# SchoolHoliday ...\n",
    "\n",
    "# StoreType\n",
    "combine['StoreType'] = combine.StoreType.astype('category').cat.codes\n",
    "\n",
    "# Assortment\n",
    "combine['Assortment'] = combine.Assortment.astype('category').cat.codes\n",
    "\n",
    "# Promo2 conver into catigorical feature(with 0 means not on, 1 means on, -1 means not participate)\n",
    "def create_promo2(row):\n",
    "    if row['Promo2Since'] == -1:\n",
    "        return -1\n",
    "    else:\n",
    "        month = row['Month']\n",
    "        if row['Promo2_on_month_' + str(month)] == 1 and row['Date'] > row['Promo2Since']:\n",
    "            return 1\n",
    "        else:\n",
    "            return 0\n",
    "combine['Promo2'] = combine.apply(create_promo2, axis=1)\n",
    "combine = combine.drop(promo2_related_feats, axis=1)\n",
    "\n",
    "combine = combine.drop('Date', axis=1)\n",
    "\n",
    "combine = pd.get_dummies(combine)"
   ]
  },
  {
   "cell_type": "code",
   "execution_count": null,
   "metadata": {},
   "outputs": [],
   "source": [
    "combine.info()"
   ]
  },
  {
   "cell_type": "markdown",
   "metadata": {},
   "source": [
    "### Prepare the data for modeling"
   ]
  },
  {
   "cell_type": "code",
   "execution_count": null,
   "metadata": {},
   "outputs": [],
   "source": [
    "data_train = combine[combine.istestset==0].drop('istestset', axis=1)\n",
    "label_train = train['Sales']\n",
    "label_train_log = np.log1p(train['Sales'])\n",
    "data_test = combine[combine.istestset==1].drop('istestset', axis=1)"
   ]
  },
  {
   "cell_type": "markdown",
   "metadata": {},
   "source": [
    "### Find the basic setting of the model and Set up the metrics"
   ]
  },
  {
   "cell_type": "code",
   "execution_count": null,
   "metadata": {},
   "outputs": [],
   "source": [
    "from sklearn.model_selection import GridSearchCV\n",
    "from sklearn.model_selection import cross_val_score\n",
    "from sklearn.model_selection import train_test_split\n",
    "from lightgbm.sklearn import LGBMRegressor\n",
    "import lightgbm as lgb\n",
    "from sklearn.model_selection import KFold\n",
    "from sklearn.metrics import make_scorer"
   ]
  },
  {
   "cell_type": "markdown",
   "metadata": {},
   "source": [
    "#### I tried the following 4 settings for the model and choose the best:\n",
    "\n",
    "- Default objective function without taking log of the target\n",
    "- Default objective function with taking log of the target\n",
    "- Custom objective function without taking log of the target\n",
    "- Custom objective function with taking log of the target"
   ]
  },
  {
   "cell_type": "code",
   "execution_count": null,
   "metadata": {},
   "outputs": [],
   "source": [
    "X_train, X_eval, y_train, y_eval = train_test_split(data_train, label_train, test_size=0.1, random_state=0)\n",
    "X_train, X_eval, y_train_log, y_eval_log = train_test_split(data_train, label_train_log, test_size=0.1, random_state=0)\n",
    "\n",
    "dataset_train = lgb.Dataset(X_train, y_train)\n",
    "dataset_eval = lgb.Dataset(X_eval, y_eval, reference=dataset_train)\n",
    "\n",
    "dataset_train_log = lgb.Dataset(X_train, y_train_log)\n",
    "dataset_eval_log = lgb.Dataset(X_eval, y_eval_log, reference=dataset_train_log)"
   ]
  },
  {
   "cell_type": "code",
   "execution_count": null,
   "metadata": {},
   "outputs": [],
   "source": [
    "num_rounds = 2000\n",
    "verb_rounds = 100\n",
    "earlystop_rounds = 100"
   ]
  },
  {
   "cell_type": "markdown",
   "metadata": {},
   "source": [
    "### Default objective function without taking log of the target"
   ]
  },
  {
   "cell_type": "code",
   "execution_count": null,
   "metadata": {},
   "outputs": [],
   "source": [
    "def loss(y_pred, y):\n",
    "    y = y.get_label()\n",
    "    n = y.shape[0]\n",
    "    ind = (y!=0)\n",
    "    y_pred, y = y_pred[ind], y[ind]\n",
    "    dis_percent_squared = ((y - y_pred) / y) ** 2\n",
    "    loss = np.sqrt(dis_percent_squared.sum() / n)\n",
    "    return 'rmspe', loss, False\n",
    "\n",
    "# lgb.train({}, dataset_train, num_rounds, \n",
    "#           valid_sets=[dataset_train, dataset_eval], valid_names=['training set', 'validation set'], \n",
    "#           feval=loss, verbose_eval=verb_rounds, early_stopping_rounds=earlystop_rounds)"
   ]
  },
  {
   "cell_type": "markdown",
   "metadata": {},
   "source": [
    "### Default objective function with taking log of the target"
   ]
  },
  {
   "cell_type": "code",
   "execution_count": null,
   "metadata": {},
   "outputs": [],
   "source": [
    "def loss_log(y_pred, y):\n",
    "    y = y.get_label()\n",
    "    n = y.shape[0]\n",
    "    y_pred = np.exp(y_pred) - 1\n",
    "    y = np.exp(y) - 1\n",
    "    ind = (y!=0)\n",
    "    y_pred, y = y_pred[ind], y[ind]\n",
    "    dis_percent_squared = ((y - y_pred) / y) ** 2\n",
    "    loss = np.sqrt(dis_percent_squared.sum() / n)\n",
    "    return 'rmspe_log', loss, False\n",
    "\n",
    "# lgb.train({}, dataset_train_log, num_rounds, \n",
    "#           valid_sets = [dataset_train_log, dataset_eval_log], valid_names=['training set', 'validation set'], \n",
    "#           feval=loss_log, verbose_eval=verb_rounds, early_stopping_rounds=earlystop_rounds)"
   ]
  },
  {
   "cell_type": "markdown",
   "metadata": {},
   "source": [
    "### Custom objective function without taking log of the target"
   ]
  },
  {
   "cell_type": "code",
   "execution_count": null,
   "metadata": {},
   "outputs": [],
   "source": [
    "def rmspe_loss(y_pred, y):\n",
    "    y = y.get_label()\n",
    "    dis = y - y_pred\n",
    "    ind = (dis!=0) & (y!=0)\n",
    "    gradient = np.zeros(y.shape)\n",
    "    hession = np.zeros(y.shape)\n",
    "    n = y.shape[0]\n",
    "    gradient[ind] = 2 * (y_pred[ind] - y[ind]) / y[ind] ** 2\n",
    "    hession[ind] = 2 / y[ind] ** 2\n",
    "    return gradient, hession\n",
    "\n",
    "# lgb.train({}, dataset_train, num_rounds, \n",
    "#           valid_sets = [dataset_train, dataset_eval], \n",
    "#           valid_names=['training set', 'validation set'], \n",
    "#           fobj=rmspe_loss, feval=loss, \n",
    "#           verbose_eval=verb_rounds, early_stopping_rounds=earlystop_rounds)"
   ]
  },
  {
   "cell_type": "markdown",
   "metadata": {},
   "source": [
    "### Custom objective function with taking log of the target"
   ]
  },
  {
   "cell_type": "code",
   "execution_count": null,
   "metadata": {},
   "outputs": [],
   "source": [
    "def rmspe_loss(y_pred, y):\n",
    "    y = y.get_label()\n",
    "    dis = y - y_pred\n",
    "    ind = (dis!=0) & (y!=0)\n",
    "    gradient = np.zeros(y.shape)\n",
    "    hession = np.zeros(y.shape)\n",
    "    n = y.shape[0]\n",
    "    gradient[ind] = 2 * (y_pred[ind] - y[ind]) / y[ind] ** 2\n",
    "    hession[ind] = 2 / y[ind] ** 2\n",
    "    return gradient, hession\n",
    "\n",
    "# lgb.train({}, dataset_train_log, num_rounds, \n",
    "#           valid_sets = [dataset_train_log, dataset_eval_log], \n",
    "#           valid_names=['training set', 'validation set'], \n",
    "#           fobj=rmspe_loss, feval=loss_log, \n",
    "#           verbose_eval=verb_rounds, early_stopping_rounds=earlystop_rounds)"
   ]
  },
  {
   "cell_type": "markdown",
   "metadata": {},
   "source": [
    "### Gridsearch for best parameters"
   ]
  },
  {
   "cell_type": "code",
   "execution_count": null,
   "metadata": {},
   "outputs": [],
   "source": [
    "# KFold for consistant cv:\n",
    "kf = KFold(n_splits=4, shuffle=True, random_state=0)\n",
    "\n",
    "# Custom scoring function\n",
    "def loss_log(y, y_pred):\n",
    "    n = y.shape[0]\n",
    "    y_pred = np.exp(y_pred) - 1\n",
    "    y = np.exp(y) - 1\n",
    "    ind = (y!=0)\n",
    "    y_pred, y = y_pred[ind], y[ind]\n",
    "    dis_percent_squared = ((y - y_pred) / y) ** 2\n",
    "    loss = np.sqrt(dis_percent_squared.sum() / n)\n",
    "    return loss\n",
    "mt = make_scorer(loss_log, greater_is_better=False)\n",
    "\n",
    "# Simple performance measure function\n",
    "def performance(model):\n",
    "    scores = cross_val_score(model, X_train, y_train, cv=kf, scoring=mt, n_jobs=4, verbose=True)\n",
    "    score_mean = scores.mean()\n",
    "    score_std = scores.std()\n",
    "    print('score mean: {}'.format(-score_mean))\n",
    "    print('score std: {}'.format(score_std))\n",
    "\n",
    "# Grid search function\n",
    "def grid_search(model, params):\n",
    "    grid = GridSearchCV(model, params, cv=kf, scoring=mt, n_jobs=4, verbose=True).fit(X_train, y_train)\n",
    "    print('grid.best_score_: {}'.format(-grid.best_score_))\n",
    "    print('grid.best_params_: \\n{}'.format(grid.best_params_))\n",
    "    return grid.best_estimator_\n",
    "\n",
    "# Custom objective function for sklearn api\n",
    "def rmspe_loss(y, y_pred):\n",
    "    dis = y - y_pred\n",
    "    ind = (dis!=0) & (y!=0)\n",
    "    gradient = np.zeros(y.shape)\n",
    "    hession = np.zeros(y.shape)\n",
    "    n = y.shape[0]\n",
    "    gradient[ind] = 2 * (y_pred[ind] - y[ind]) / y[ind] ** 2\n",
    "    hession[ind] = 2 / y[ind] ** 2\n",
    "    return gradient, hession"
   ]
  },
  {
   "cell_type": "code",
   "execution_count": null,
   "metadata": {},
   "outputs": [],
   "source": [
    "performance(LGBMRegressor())"
   ]
  },
  {
   "cell_type": "code",
   "execution_count": null,
   "metadata": {},
   "outputs": [],
   "source": []
  },
  {
   "cell_type": "code",
   "execution_count": null,
   "metadata": {},
   "outputs": [],
   "source": []
  },
  {
   "cell_type": "code",
   "execution_count": null,
   "metadata": {},
   "outputs": [],
   "source": []
  },
  {
   "cell_type": "code",
   "execution_count": null,
   "metadata": {},
   "outputs": [],
   "source": [
    "dataset = lgb.Dataset(data_train, label_train_log)\n",
    "reg = lgb.train({}, dataset, num_rounds,\n",
    "                valid_sets=[dataset],\n",
    "                valid_names=['training set'],\n",
    "                fobj=rmspe_loss, feval=loss_log, \n",
    "                verbose_eval=verb_rounds, early_stopping_rounds=earlystop_rounds)"
   ]
  },
  {
   "cell_type": "code",
   "execution_count": null,
   "metadata": {},
   "outputs": [],
   "source": [
    "sns.barplot(x=reg.feature_importance(), y=reg.feature_name())"
   ]
  },
  {
   "cell_type": "code",
   "execution_count": null,
   "metadata": {},
   "outputs": [],
   "source": [
    "y_pred = np.exp(reg.predict(data_test)) - 1\n",
    "y_pred = pd.Series(y_pred, name='Sales')\n",
    "sub = pd.concat([test['Id'], y_pred], axis=1)\n",
    "sub.to_csv('sub.csv', index=False)"
   ]
  },
  {
   "cell_type": "markdown",
   "metadata": {},
   "source": [
    "**Since the custom objective function with taking log performs the best, I choose this setting**"
   ]
  },
  {
   "cell_type": "code",
   "execution_count": null,
   "metadata": {},
   "outputs": [],
   "source": [
    "# reg = LGBMRegressor().fit(X_train, y_train)\n",
    "# y_pred = np.exp(reg.predict(X_test)) - 1\n",
    "# y_pred = pd.Series(y_pred, name='Sales')\n",
    "# sub = pd.concat([test['Id'], y_pred], axis=1)\n",
    "# sub.to_csv('sub.csv', index=False)"
   ]
  }
 ],
 "metadata": {
  "kernelspec": {
   "display_name": "Python 3",
   "language": "python",
   "name": "python3"
  },
  "language_info": {
   "codemirror_mode": {
    "name": "ipython",
    "version": 3
   },
   "file_extension": ".py",
   "mimetype": "text/x-python",
   "name": "python",
   "nbconvert_exporter": "python",
   "pygments_lexer": "ipython3",
   "version": "3.6.4"
  }
 },
 "nbformat": 4,
 "nbformat_minor": 1
}
