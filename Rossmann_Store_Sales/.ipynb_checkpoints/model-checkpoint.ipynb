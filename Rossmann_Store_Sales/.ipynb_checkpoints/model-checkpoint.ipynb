{
 "cells": [
  {
   "cell_type": "code",
   "execution_count": 1,
   "metadata": {},
   "outputs": [],
   "source": [
    "import numpy as np\n",
    "import pandas as pd"
   ]
  },
  {
   "cell_type": "markdown",
   "metadata": {},
   "source": [
    "### Load the dataset"
   ]
  },
  {
   "cell_type": "code",
   "execution_count": 3,
   "metadata": {},
   "outputs": [
    {
     "name": "stdout",
     "output_type": "stream",
     "text": [
      "train.shape: (1017209, 9)\n",
      "test.shape: (41088, 8)\n",
      "store.shape: (1115, 10)\n"
     ]
    }
   ],
   "source": [
    "train = pd.read_csv('train.csv')\n",
    "test = pd.read_csv('test.csv')\n",
    "store = pd.read_csv('store.csv')\n",
    "\n",
    "print('train.shape: {}'.format(train.shape))\n",
    "print('test.shape: {}'.format(test.shape))\n",
    "print('store.shape: {}'.format(store.shape))"
   ]
  },
  {
   "cell_type": "markdown",
   "metadata": {},
   "source": [
    "### Drop the outliers"
   ]
  },
  {
   "cell_type": "code",
   "execution_count": 4,
   "metadata": {},
   "outputs": [],
   "source": [
    "train = train.drop(train[(train.Sales==0) & (train.Open==1)].index, axis=0)"
   ]
  },
  {
   "cell_type": "markdown",
   "metadata": {},
   "source": [
    "### Fill in the missing values"
   ]
  },
  {
   "cell_type": "code",
   "execution_count": 6,
   "metadata": {},
   "outputs": [],
   "source": [
    "test['Open'] = test.Open.fillna(test.Open.mode()[0])\n",
    "\n",
    "store.loc[store.CompetitionDistance.isnull(), ['CompetitionOpenSinceMonth']] = store.CompetitionOpenSinceMonth.max()\n",
    "store.loc[store.CompetitionDistance.isnull(), ['CompetitionOpenSinceYear']] = store.CompetitionOpenSinceYear.max()\n",
    "store['CompetitionDistance'] = store.CompetitionDistance.fillna(store.CompetitionDistance.max() + 10000)\n",
    "store['CompetitionOpenSinceMonth'] = store.CompetitionOpenSinceMonth.fillna(store.CompetitionOpenSinceMonth.mode()[0])\n",
    "store['CompetitionOpenSinceYear'] = store.CompetitionOpenSinceYear.fillna(store.CompetitionOpenSinceYear.mode()[0])\n",
    "store['Promo2SinceWeek'] = store.Promo2SinceWeek.fillna(store.Promo2SinceWeek.max() + 100)\n",
    "store['Promo2SinceYear'] = store.Promo2SinceYear.fillna(store.Promo2SinceYear.max() + 100)\n",
    "store['PromoInterval'] = store.PromoInterval.fillna('None')"
   ]
  },
  {
   "cell_type": "markdown",
   "metadata": {},
   "source": [
    "### Combine the data for easy processing"
   ]
  },
  {
   "cell_type": "code",
   "execution_count": 12,
   "metadata": {},
   "outputs": [],
   "source": [
    "sep = train.shape[0]\n",
    "combine = pd.concat([train.drop(['Sales', 'Customers'], axis=1), test.drop('Id', axis=1)], axis=0, ignore_index=True)"
   ]
  },
  {
   "cell_type": "code",
   "execution_count": 13,
   "metadata": {},
   "outputs": [
    {
     "data": {
      "text/plain": [
       "(1058243, 7)"
      ]
     },
     "execution_count": 13,
     "metadata": {},
     "output_type": "execute_result"
    }
   ],
   "source": [
    "combine.shape"
   ]
  },
  {
   "cell_type": "markdown",
   "metadata": {},
   "source": [
    "### Add the store table information"
   ]
  },
  {
   "cell_type": "code",
   "execution_count": 14,
   "metadata": {},
   "outputs": [],
   "source": [
    "combine = pd.merge(combine, store, how='left', on='Store')\n",
    "combine = combine.drop('Store', axis=1)"
   ]
  },
  {
   "cell_type": "code",
   "execution_count": 16,
   "metadata": {},
   "outputs": [
    {
     "data": {
      "text/plain": [
       "DayOfWeek                    0\n",
       "Date                         0\n",
       "Open                         0\n",
       "Promo                        0\n",
       "StateHoliday                 0\n",
       "SchoolHoliday                0\n",
       "StoreType                    0\n",
       "Assortment                   0\n",
       "CompetitionDistance          0\n",
       "CompetitionOpenSinceMonth    0\n",
       "CompetitionOpenSinceYear     0\n",
       "Promo2                       0\n",
       "Promo2SinceWeek              0\n",
       "Promo2SinceYear              0\n",
       "PromoInterval                0\n",
       "dtype: int64"
      ]
     },
     "execution_count": 16,
     "metadata": {},
     "output_type": "execute_result"
    }
   ],
   "source": [
    "combine.isnull().sum()"
   ]
  },
  {
   "cell_type": "markdown",
   "metadata": {},
   "source": [
    "### Feature engineering"
   ]
  },
  {
   "cell_type": "code",
   "execution_count": null,
   "metadata": {},
   "outputs": [],
   "source": [
    "# DayOfWeek\n",
    "combine['DayOfWeek'] = combine.DayOfWeek.astype('category')\n",
    "\n",
    "# Date\n",
    "combine['Date'] = pd.to_datetime(combine.Date)\n",
    "combine['Year'] = combine.Date.dt.year.astype('category')\n",
    "combine['Month'] = combine.Date.dt.month.astype('category')\n",
    "combine['Day'] = combine.Date.dt.day.astype('category')\n",
    "combine = combine.drop('Date', axis=1)\n",
    "\n",
    "# Open ...\n",
    "# Promo ...\n",
    "\n",
    "# StateHoliday\n",
    "combine['StateHoliday'] = combine.StateHoliday.astype('category')\n",
    "\n",
    "# SchoolHoliday ...\n",
    "\n"
   ]
  }
 ],
 "metadata": {
  "kernelspec": {
   "display_name": "Python 3",
   "language": "python",
   "name": "python3"
  },
  "language_info": {
   "codemirror_mode": {
    "name": "ipython",
    "version": 3
   },
   "file_extension": ".py",
   "mimetype": "text/x-python",
   "name": "python",
   "nbconvert_exporter": "python",
   "pygments_lexer": "ipython3",
   "version": "3.7.3"
  }
 },
 "nbformat": 4,
 "nbformat_minor": 2
}
