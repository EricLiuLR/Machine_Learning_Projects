{
 "cells": [
  {
   "cell_type": "code",
   "execution_count": 1,
   "metadata": {
    "_cell_guid": "b1076dfc-b9ad-4769-8c92-a6c4dae69d19",
    "_uuid": "8f2839f25d086af736a60e9eeb907d3b93b6e0e5"
   },
   "outputs": [],
   "source": [
    "import numpy as np\n",
    "import pandas as pd\n",
    "import warnings\n",
    "warnings.filterwarnings('ignore')"
   ]
  },
  {
   "cell_type": "markdown",
   "metadata": {},
   "source": [
    "### Load the dataset"
   ]
  },
  {
   "cell_type": "code",
   "execution_count": 2,
   "metadata": {
    "_cell_guid": "79c7e3d0-c299-4dcb-8224-4455121ee9b0",
    "_uuid": "d629ff2d2480ee46fbb7e2d37f6b5fab8052498a"
   },
   "outputs": [
    {
     "name": "stdout",
     "output_type": "stream",
     "text": [
      "train.shape: (1017209, 9)\n",
      "test.shape: (41088, 8)\n",
      "store.shape: (1115, 10)\n"
     ]
    }
   ],
   "source": [
    "train = pd.read_csv('/kaggle/input/rossmann-store-sales/train.csv', parse_dates=['Date'])\n",
    "test = pd.read_csv('/kaggle/input/rossmann-store-sales/test.csv', parse_dates=['Date'])\n",
    "store = pd.read_csv('/kaggle/input/rossmann-store-sales/store.csv')\n",
    "\n",
    "print('train.shape: {}'.format(train.shape))\n",
    "print('test.shape: {}'.format(test.shape))\n",
    "print('store.shape: {}'.format(store.shape))"
   ]
  },
  {
   "cell_type": "markdown",
   "metadata": {},
   "source": [
    "### Prepare the store table"
   ]
  },
  {
   "cell_type": "code",
   "execution_count": 3,
   "metadata": {},
   "outputs": [],
   "source": [
    "# Convert Competition date information to datetime for comparing\n",
    "def convert_competition_open(row):\n",
    "    try:\n",
    "        date = '{}-{}'.format(int(row['CompetitionOpenSinceYear']), int(row['CompetitionOpenSinceMonth']))\n",
    "        return pd.to_datetime(date)\n",
    "    except:\n",
    "        return np.nan\n",
    "store['CompetitionOpen'] = store.apply(convert_competition_open, axis=1)\n",
    "store = store.drop(['CompetitionOpenSinceYear', 'CompetitionOpenSinceMonth'], axis=1)\n",
    "\n",
    "# Convert Promo2 information to datetime for comparing\n",
    "def convert_promo2(row):\n",
    "    try:\n",
    "        date = '{}{}1'.format(int(row['Promo2SinceYear']), int(row['Promo2SinceWeek']))\n",
    "        return pd.to_datetime(date, format='%Y%W%w')\n",
    "    except:\n",
    "        return np.nan\n",
    "store['Promo2Since'] = store.apply(convert_promo2, axis=1)\n",
    "store = store.drop(['Promo2', 'Promo2SinceYear', 'Promo2SinceWeek'], axis=1)\n",
    "\n",
    "# Add 12 attributes of the months each store is running promo2\n",
    "months = {\n",
    "    'Jan': 1,\n",
    "    'Feb' : 2,\n",
    "    'Mar' : 3,\n",
    "    'Apr' : 4,\n",
    "    'May' : 5,\n",
    "    'Jun' : 6,\n",
    "    'Jul' : 7,\n",
    "    'Aug' : 8,\n",
    "    'Sept' : 9, \n",
    "    'Oct' : 10,\n",
    "    'Nov' : 11,\n",
    "    'Dec' : 12\n",
    "}\n",
    "def add_promo2_month(interval, month):\n",
    "    if pd.isnull(interval):\n",
    "        return np.nan\n",
    "    else:\n",
    "        if month in interval.split(','):\n",
    "            return 1\n",
    "        else:\n",
    "            return 0\n",
    "\n",
    "for month in months.keys():\n",
    "    store['Promo2_on_month' + '_' + str(months[month])] = store.PromoInterval.apply(add_promo2_month, args=(month,))\n",
    "store = store.drop('PromoInterval', axis=1)"
   ]
  },
  {
   "cell_type": "code",
   "execution_count": 4,
   "metadata": {},
   "outputs": [
    {
     "name": "stdout",
     "output_type": "stream",
     "text": [
      "<class 'pandas.core.frame.DataFrame'>\n",
      "RangeIndex: 1115 entries, 0 to 1114\n",
      "Data columns (total 18 columns):\n",
      "Store                  1115 non-null int64\n",
      "StoreType              1115 non-null object\n",
      "Assortment             1115 non-null object\n",
      "CompetitionDistance    1112 non-null float64\n",
      "CompetitionOpen        761 non-null datetime64[ns]\n",
      "Promo2Since            571 non-null datetime64[ns]\n",
      "Promo2_on_month_1      571 non-null float64\n",
      "Promo2_on_month_2      571 non-null float64\n",
      "Promo2_on_month_3      571 non-null float64\n",
      "Promo2_on_month_4      571 non-null float64\n",
      "Promo2_on_month_5      571 non-null float64\n",
      "Promo2_on_month_6      571 non-null float64\n",
      "Promo2_on_month_7      571 non-null float64\n",
      "Promo2_on_month_8      571 non-null float64\n",
      "Promo2_on_month_9      571 non-null float64\n",
      "Promo2_on_month_10     571 non-null float64\n",
      "Promo2_on_month_11     571 non-null float64\n",
      "Promo2_on_month_12     571 non-null float64\n",
      "dtypes: datetime64[ns](2), float64(13), int64(1), object(2)\n",
      "memory usage: 156.9+ KB\n"
     ]
    }
   ],
   "source": [
    "store.info()"
   ]
  },
  {
   "cell_type": "markdown",
   "metadata": {},
   "source": [
    "### Drop the outliers"
   ]
  },
  {
   "cell_type": "code",
   "execution_count": 5,
   "metadata": {},
   "outputs": [],
   "source": [
    "# Drop all the rows with store open but zero sales\n",
    "train = train.drop(train[(train.Sales==0) & (train.Open==1)].index, axis=0)\n",
    "\n",
    "# For each store, drop the abnormal sales\n",
    "stats = train.groupby('Store').Sales.agg(['mean', 'std']).reset_index()\n",
    "sales = train[['Store', 'Sales']].copy().reset_index()\n",
    "sales = pd.merge(sales, stats, on='Store')\n",
    "sales['z_score'] = (sales['Sales'] - sales['mean']) / sales['std']\n",
    "\n",
    "index_to_drop = sales.loc[sales.z_score>=3, 'index']\n",
    "train = train.drop(index_to_drop, axis=0)"
   ]
  },
  {
   "cell_type": "markdown",
   "metadata": {},
   "source": [
    "### Combine the data for easy processing"
   ]
  },
  {
   "cell_type": "code",
   "execution_count": 6,
   "metadata": {},
   "outputs": [],
   "source": [
    "train['istestset'] = 0\n",
    "test['istestset'] = 1\n",
    "combine = pd.concat([train.drop(['Sales', 'Customers'], axis=1), test.drop('Id', axis=1)], axis=0, ignore_index=True)"
   ]
  },
  {
   "cell_type": "markdown",
   "metadata": {},
   "source": [
    "### Add the store table information"
   ]
  },
  {
   "cell_type": "code",
   "execution_count": 7,
   "metadata": {},
   "outputs": [],
   "source": [
    "combine = pd.merge(combine, store, how='left', on='Store')"
   ]
  },
  {
   "cell_type": "markdown",
   "metadata": {},
   "source": [
    "### Fill in missing values"
   ]
  },
  {
   "cell_type": "code",
   "execution_count": 8,
   "metadata": {},
   "outputs": [],
   "source": [
    "# Fill in Open with mode\n",
    "combine['Open'] = combine.Open.fillna(1.0)\n",
    "\n",
    "# Fill in all the promo2 related attributes with -1, which indicates a special case(not participate in promo2)\n",
    "promo2_related_feats = [_ for _ in combine.columns if 'Promo2' in _]\n",
    "for feat in promo2_related_feats:\n",
    "    combine[feat] = combine[feat].fillna(-1)\n",
    "    \n",
    "# Fill in the missing values in CompetitionDistance with the max + 1000, which means no nearby competition\n",
    "combine['CompetitionDistance'] = combine['CompetitionDistance'].fillna(combine.CompetitionDistance.max() + 1000)\n",
    "\n",
    "# For the missing values in CompetitionOpen, I just chenge it to categorical attribute (with 0 means not open yet, 1 means opened, -1 means unclear)\n",
    "def convert_CompetitionOpen_cat(row):\n",
    "    if pd.isnull(row['CompetitionOpen']):\n",
    "        return -1\n",
    "    else:\n",
    "        if row['Date'] >= row['CompetitionOpen']:\n",
    "            return 1\n",
    "        else:\n",
    "            return 0\n",
    "combine['CompetitionOpen'] = combine.apply(convert_CompetitionOpen_cat, axis=1)"
   ]
  },
  {
   "cell_type": "markdown",
   "metadata": {},
   "source": [
    "### Feature engineering"
   ]
  },
  {
   "cell_type": "code",
   "execution_count": 9,
   "metadata": {},
   "outputs": [],
   "source": [
    "# DayOfWeek\n",
    "combine['DayOfWeek'] = combine.DayOfWeek.astype(int)\n",
    "\n",
    "# Date\n",
    "combine['Date'] = pd.to_datetime(combine.Date)\n",
    "combine['Year'] = combine.Date.dt.year.astype(int)\n",
    "combine['Month'] = combine.Date.dt.month.astype(int)\n",
    "combine['Day'] = combine.Date.dt.day.astype(int)\n",
    "combine['Week'] = combine.Date.dt.week.astype(int)\n",
    "\n",
    "# Open ...\n",
    "# Promo ...\n",
    "\n",
    "# StateHoliday\n",
    "combine['StateHoliday'] = combine.StateHoliday.replace({0:'0'}).astype('category').cat.codes\n",
    "\n",
    "# SchoolHoliday ...\n",
    "\n",
    "# StoreType\n",
    "combine['StoreType'] = combine.StoreType.astype('category').cat.codes\n",
    "\n",
    "# Assortment\n",
    "combine['Assortment'] = combine.Assortment.astype('category').cat.codes\n",
    "\n",
    "# Promo2 conver into catigorical feature(with 0 means not on, 1 means on, -1 means not participate)\n",
    "def create_promo2(row):\n",
    "    if row['Promo2Since'] == -1:\n",
    "        return -1\n",
    "    else:\n",
    "        month = row['Month']\n",
    "        if row['Promo2_on_month_' + str(month)] == 1 and row['Date'] > row['Promo2Since']:\n",
    "            return 1\n",
    "        else:\n",
    "            return 0\n",
    "combine['Promo2'] = combine.apply(create_promo2, axis=1)\n",
    "combine = combine.drop(promo2_related_feats, axis=1)\n",
    "\n",
    "combine = combine.drop('Date', axis=1)\n",
    "\n",
    "combine = pd.get_dummies(combine)"
   ]
  },
  {
   "cell_type": "markdown",
   "metadata": {},
   "source": [
    "### Prepare the data for modeling"
   ]
  },
  {
   "cell_type": "code",
   "execution_count": 10,
   "metadata": {},
   "outputs": [],
   "source": [
    "data_train = combine[combine.istestset==0].drop('istestset', axis=1)\n",
    "label_train = train['Sales']\n",
    "label_train_log = np.log1p(train['Sales'])\n",
    "data_test = combine[combine.istestset==1].drop('istestset', axis=1)"
   ]
  },
  {
   "cell_type": "markdown",
   "metadata": {},
   "source": [
    "### Find the basic setting of the model and Set up the metrics"
   ]
  },
  {
   "cell_type": "code",
   "execution_count": 11,
   "metadata": {},
   "outputs": [],
   "source": [
    "from sklearn.model_selection import GridSearchCV\n",
    "from sklearn.model_selection import cross_val_score\n",
    "from sklearn.model_selection import train_test_split\n",
    "from lightgbm.sklearn import LGBMRegressor\n",
    "import lightgbm as lgb\n",
    "from sklearn.model_selection import KFold\n",
    "from sklearn.metrics import make_scorer"
   ]
  },
  {
   "cell_type": "markdown",
   "metadata": {},
   "source": [
    "#### I tried the following 4 settings for the model and chose the best:\n",
    "\n",
    "- Default objective function without taking log of the target\n",
    "- Default objective function with taking log of the target\n",
    "- Custom objective function without taking log of the target\n",
    "- Custom objective function with taking log of the target"
   ]
  },
  {
   "cell_type": "code",
   "execution_count": 12,
   "metadata": {},
   "outputs": [],
   "source": [
    "X_train, X_eval, y_train, y_eval = train_test_split(data_train, label_train, test_size=0.1, random_state=0)\n",
    "X_train, X_eval, y_train_log, y_eval_log = train_test_split(data_train, label_train_log, test_size=0.1, random_state=0)\n",
    "\n",
    "dataset_train = lgb.Dataset(X_train, y_train)\n",
    "dataset_eval = lgb.Dataset(X_eval, y_eval, reference=dataset_train)\n",
    "\n",
    "dataset_train_log = lgb.Dataset(X_train, y_train_log)\n",
    "dataset_eval_log = lgb.Dataset(X_eval, y_eval_log, reference=dataset_train_log)"
   ]
  },
  {
   "cell_type": "code",
   "execution_count": 13,
   "metadata": {},
   "outputs": [],
   "source": [
    "num_rounds = 2000\n",
    "verb_rounds = 200\n",
    "earlystop_rounds = 100"
   ]
  },
  {
   "cell_type": "markdown",
   "metadata": {},
   "source": [
    "### Default objective function without taking log of the target"
   ]
  },
  {
   "cell_type": "code",
   "execution_count": 14,
   "metadata": {},
   "outputs": [
    {
     "name": "stdout",
     "output_type": "stream",
     "text": [
      "Training until validation scores don't improve for 100 rounds.\n",
      "[200]\ttraining set's rmspe: 0.294888\tvalidation set's rmspe: 0.268289\n",
      "[400]\ttraining set's rmspe: 0.241588\tvalidation set's rmspe: 0.213323\n",
      "[600]\ttraining set's rmspe: 0.217571\tvalidation set's rmspe: 0.189241\n",
      "[800]\ttraining set's rmspe: 0.205693\tvalidation set's rmspe: 0.175445\n",
      "[1000]\ttraining set's rmspe: 0.19638\tvalidation set's rmspe: 0.165255\n",
      "[1200]\ttraining set's rmspe: 0.190344\tvalidation set's rmspe: 0.159234\n",
      "[1400]\ttraining set's rmspe: 0.185443\tvalidation set's rmspe: 0.154303\n",
      "[1600]\ttraining set's rmspe: 0.181671\tvalidation set's rmspe: 0.15063\n",
      "[1800]\ttraining set's rmspe: 0.178757\tvalidation set's rmspe: 0.148736\n",
      "[2000]\ttraining set's rmspe: 0.175992\tvalidation set's rmspe: 0.146256\n",
      "Did not meet early stopping. Best iteration is:\n",
      "[2000]\ttraining set's rmspe: 0.175992\tvalidation set's rmspe: 0.146256\n"
     ]
    }
   ],
   "source": [
    "def loss(y_pred, y):\n",
    "    y = y.get_label()\n",
    "    n = y.shape[0]\n",
    "    ind = (y!=0)\n",
    "    y_pred, y = y_pred[ind], y[ind]\n",
    "    dis_percent_squared = ((y - y_pred) / y) ** 2\n",
    "    loss = np.sqrt(dis_percent_squared.sum() / n)\n",
    "    return 'rmspe', loss, False\n",
    "\n",
    "bst = lgb.train({}, dataset_train, num_rounds, \n",
    "          valid_sets=[dataset_train, dataset_eval], valid_names=['training set', 'validation set'], \n",
    "          feval=loss, verbose_eval=verb_rounds, early_stopping_rounds=earlystop_rounds)"
   ]
  },
  {
   "cell_type": "markdown",
   "metadata": {},
   "source": [
    "### Default objective function with taking log of the target"
   ]
  },
  {
   "cell_type": "code",
   "execution_count": 15,
   "metadata": {},
   "outputs": [
    {
     "name": "stdout",
     "output_type": "stream",
     "text": [
      "Training until validation scores don't improve for 100 rounds.\n",
      "[200]\ttraining set's rmspe_log: 0.244215\tvalidation set's rmspe_log: 0.222901\n",
      "[400]\ttraining set's rmspe_log: 0.204562\tvalidation set's rmspe_log: 0.180372\n",
      "[600]\ttraining set's rmspe_log: 0.186844\tvalidation set's rmspe_log: 0.162092\n",
      "[800]\ttraining set's rmspe_log: 0.177329\tvalidation set's rmspe_log: 0.151472\n",
      "[1000]\ttraining set's rmspe_log: 0.168835\tvalidation set's rmspe_log: 0.144647\n",
      "[1200]\ttraining set's rmspe_log: 0.162481\tvalidation set's rmspe_log: 0.140195\n",
      "[1400]\ttraining set's rmspe_log: 0.157999\tvalidation set's rmspe_log: 0.137242\n",
      "[1600]\ttraining set's rmspe_log: 0.154079\tvalidation set's rmspe_log: 0.134373\n",
      "[1800]\ttraining set's rmspe_log: 0.148071\tvalidation set's rmspe_log: 0.132366\n",
      "[2000]\ttraining set's rmspe_log: 0.146299\tvalidation set's rmspe_log: 0.130339\n",
      "Did not meet early stopping. Best iteration is:\n",
      "[2000]\ttraining set's rmspe_log: 0.146299\tvalidation set's rmspe_log: 0.130339\n"
     ]
    }
   ],
   "source": [
    "def loss_log(y_pred, y):\n",
    "    y = y.get_label()\n",
    "    n = y.shape[0]\n",
    "    y_pred = np.exp(y_pred) - 1\n",
    "    y = np.exp(y) - 1\n",
    "    ind = (y!=0)\n",
    "    y_pred, y = y_pred[ind], y[ind]\n",
    "    dis_percent_squared = ((y - y_pred) / y) ** 2\n",
    "    loss = np.sqrt(dis_percent_squared.sum() / n)\n",
    "    return 'rmspe_log', loss, False\n",
    "\n",
    "bst = lgb.train({}, dataset_train_log, num_rounds, \n",
    "          valid_sets = [dataset_train_log, dataset_eval_log], valid_names=['training set', 'validation set'], \n",
    "          feval=loss_log, verbose_eval=verb_rounds, early_stopping_rounds=earlystop_rounds)"
   ]
  },
  {
   "cell_type": "markdown",
   "metadata": {},
   "source": [
    "### Custom objective function without taking log of the target"
   ]
  },
  {
   "cell_type": "code",
   "execution_count": 16,
   "metadata": {},
   "outputs": [
    {
     "name": "stdout",
     "output_type": "stream",
     "text": [
      "Training until validation scores don't improve for 100 rounds.\n",
      "[200]\ttraining set's rmspe: 0.237106\tvalidation set's rmspe: 0.242441\n",
      "[400]\ttraining set's rmspe: 0.211457\tvalidation set's rmspe: 0.21837\n",
      "[600]\ttraining set's rmspe: 0.197416\tvalidation set's rmspe: 0.205294\n",
      "[800]\ttraining set's rmspe: 0.187602\tvalidation set's rmspe: 0.196257\n",
      "[1000]\ttraining set's rmspe: 0.180059\tvalidation set's rmspe: 0.189421\n",
      "[1200]\ttraining set's rmspe: 0.174244\tvalidation set's rmspe: 0.183894\n",
      "[1400]\ttraining set's rmspe: 0.169223\tvalidation set's rmspe: 0.179328\n",
      "[1600]\ttraining set's rmspe: 0.165168\tvalidation set's rmspe: 0.175633\n",
      "[1800]\ttraining set's rmspe: 0.161698\tvalidation set's rmspe: 0.172382\n",
      "[2000]\ttraining set's rmspe: 0.15853\tvalidation set's rmspe: 0.169646\n",
      "Did not meet early stopping. Best iteration is:\n",
      "[2000]\ttraining set's rmspe: 0.15853\tvalidation set's rmspe: 0.169646\n"
     ]
    }
   ],
   "source": [
    "def rmspe_loss(y_pred, y):\n",
    "    y = y.get_label()\n",
    "    dis = y - y_pred\n",
    "    ind = (dis!=0) & (y!=0)\n",
    "    gradient = np.zeros(y.shape)\n",
    "    hession = np.zeros(y.shape)\n",
    "    n = y.shape[0]\n",
    "    gradient[ind] = 2 * (y_pred[ind] - y[ind]) / y[ind] ** 2\n",
    "    hession[ind] = 2 / y[ind] ** 2\n",
    "    return gradient, hession\n",
    "\n",
    "bst = lgb.train({}, dataset_train, num_rounds, \n",
    "          valid_sets = [dataset_train, dataset_eval], \n",
    "          valid_names=['training set', 'validation set'], \n",
    "          fobj=rmspe_loss, feval=loss, \n",
    "          verbose_eval=verb_rounds, early_stopping_rounds=earlystop_rounds)"
   ]
  },
  {
   "cell_type": "markdown",
   "metadata": {},
   "source": [
    "### Custom objective function with taking log of the target"
   ]
  },
  {
   "cell_type": "code",
   "execution_count": 17,
   "metadata": {},
   "outputs": [
    {
     "name": "stdout",
     "output_type": "stream",
     "text": [
      "Training until validation scores don't improve for 100 rounds.\n",
      "[200]\ttraining set's rmspe_log: 0.223255\tvalidation set's rmspe_log: 0.200649\n",
      "[400]\ttraining set's rmspe_log: 0.176031\tvalidation set's rmspe_log: 0.163059\n",
      "[600]\ttraining set's rmspe_log: 0.155076\tvalidation set's rmspe_log: 0.147874\n",
      "[800]\ttraining set's rmspe_log: 0.137531\tvalidation set's rmspe_log: 0.139298\n",
      "[1000]\ttraining set's rmspe_log: 0.127034\tvalidation set's rmspe_log: 0.136196\n",
      "[1200]\ttraining set's rmspe_log: 0.116847\tvalidation set's rmspe_log: 0.132746\n",
      "[1400]\ttraining set's rmspe_log: 0.111347\tvalidation set's rmspe_log: 0.13031\n",
      "[1600]\ttraining set's rmspe_log: 0.108136\tvalidation set's rmspe_log: 0.128519\n",
      "[1800]\ttraining set's rmspe_log: 0.105072\tvalidation set's rmspe_log: 0.12749\n",
      "[2000]\ttraining set's rmspe_log: 0.102408\tvalidation set's rmspe_log: 0.126228\n",
      "Did not meet early stopping. Best iteration is:\n",
      "[2000]\ttraining set's rmspe_log: 0.102408\tvalidation set's rmspe_log: 0.126228\n"
     ]
    }
   ],
   "source": [
    "def rmspe_loss(y_pred, y):\n",
    "    y = y.get_label()\n",
    "    dis = y - y_pred\n",
    "    ind = (dis!=0) & (y!=0)\n",
    "    gradient = np.zeros(y.shape)\n",
    "    hession = np.zeros(y.shape)\n",
    "    n = y.shape[0]\n",
    "    gradient[ind] = 2 * (y_pred[ind] - y[ind]) / y[ind] ** 2\n",
    "    hession[ind] = 2 / y[ind] ** 2\n",
    "    return gradient, hession\n",
    "\n",
    "bst = lgb.train({}, dataset_train_log, num_rounds, \n",
    "          valid_sets = [dataset_train_log, dataset_eval_log], \n",
    "          valid_names=['training set', 'validation set'], \n",
    "          fobj=rmspe_loss, feval=loss_log, \n",
    "          verbose_eval=verb_rounds, early_stopping_rounds=earlystop_rounds)"
   ]
  },
  {
   "cell_type": "markdown",
   "metadata": {},
   "source": [
    "**Since the custom objective function with taking log performs the best, I choose this setting**"
   ]
  },
  {
   "cell_type": "markdown",
   "metadata": {},
   "source": [
    "### Gridsearch for best parameters"
   ]
  },
  {
   "cell_type": "code",
   "execution_count": 18,
   "metadata": {},
   "outputs": [],
   "source": [
    "# KFold for consistant cv:\n",
    "kf = KFold(n_splits=4, shuffle=True, random_state=0)\n",
    "\n",
    "# Custom scoring function\n",
    "def loss_log_sk(y, y_pred):\n",
    "    n = y.shape[0]\n",
    "    y_pred = np.exp(y_pred) - 1\n",
    "    y = np.exp(y) - 1\n",
    "    ind = (y!=0)\n",
    "    y_pred, y = y_pred[ind], y[ind]\n",
    "    dis_percent_squared = ((y - y_pred) / y) ** 2\n",
    "    loss = np.sqrt(dis_percent_squared.sum() / n)\n",
    "    return loss\n",
    "mt = make_scorer(loss_log_sk, greater_is_better=False)\n",
    "\n",
    "# Simple performance measure function\n",
    "def performance(model):\n",
    "    scores = cross_val_score(model, data_train, label_train_log, cv=kf, scoring=mt, n_jobs=4, verbose=True)\n",
    "    score_mean = scores.mean()\n",
    "    score_std = scores.std()\n",
    "    print('score mean: {}'.format(-score_mean))\n",
    "    print('score std: {}'.format(score_std))\n",
    "\n",
    "# Grid search function\n",
    "def grid_search(model, params):\n",
    "    grid = GridSearchCV(model, params, cv=kf, scoring=mt, verbose=True).fit(data_train, label_train_log)\n",
    "    print('grid.best_score_: {}'.format(-grid.best_score_))\n",
    "    print('grid.best_params_: \\n{}'.format(grid.best_params_))\n",
    "    return grid.best_estimator_\n",
    "\n",
    "# Custom objective function for sklearn api\n",
    "def rmspe_loss_sk(y, y_pred):\n",
    "    dis = y - y_pred\n",
    "    ind = (dis!=0) & (y!=0)\n",
    "    gradient = np.zeros(y.shape)\n",
    "    hession = np.zeros(y.shape)\n",
    "    n = y.shape[0]\n",
    "    gradient[ind] = 2 * (y_pred[ind] - y[ind]) / y[ind] ** 2\n",
    "    hession[ind] = 2 / y[ind] ** 2\n",
    "    return gradient, hession"
   ]
  },
  {
   "cell_type": "code",
   "execution_count": 19,
   "metadata": {},
   "outputs": [
    {
     "name": "stdout",
     "output_type": "stream",
     "text": [
      "Fitting 4 folds for each of 1 candidates, totalling 4 fits\n"
     ]
    },
    {
     "name": "stderr",
     "output_type": "stream",
     "text": [
      "[Parallel(n_jobs=1)]: Using backend SequentialBackend with 1 concurrent workers.\n",
      "[Parallel(n_jobs=1)]: Done   4 out of   4 | elapsed:   55.3s finished\n"
     ]
    },
    {
     "name": "stdout",
     "output_type": "stream",
     "text": [
      "grid.best_score_: 0.15277929148837271\n",
      "grid.best_params_: \n",
      "{'colsample_bytree': 1.0, 'learning_rate': 0.7, 'max_depth': -1, 'n_estimators': 100, 'num_leaves': 315, 'objective': <function rmspe_loss_sk at 0x7f38c222c8c8>, 'random_state': 0, 'reg_alpha': 1e-07, 'reg_lambda': 1e-05, 'subsample': 0.7}\n"
     ]
    }
   ],
   "source": [
    "params = {\n",
    "    'random_state': [0],\n",
    "    'n_estimators': [100],\n",
    "    'learning_rate': [0.7],\n",
    "    'objective': [rmspe_loss_sk],\n",
    "    'num_leaves': [315],\n",
    "    'max_depth': [-1],\n",
    "    'reg_alpha': [1e-7],\n",
    "    'reg_lambda': [1e-5],\n",
    "    'subsample': [0.7],\n",
    "    'colsample_bytree': [1.0]\n",
    "}\n",
    "reg = grid_search(LGBMRegressor(), params)"
   ]
  },
  {
   "cell_type": "markdown",
   "metadata": {},
   "source": [
    "### Set small learning_rate, then use early stopping to find the optimal iteration rounds"
   ]
  },
  {
   "cell_type": "code",
   "execution_count": 20,
   "metadata": {},
   "outputs": [
    {
     "name": "stdout",
     "output_type": "stream",
     "text": [
      "Training until validation scores don't improve for 300 rounds.\n",
      "[500]\ttraining set's rmspe_log: 0.174575\tvalidation set's rmspe_log: 0.171556\n",
      "[1000]\ttraining set's rmspe_log: 0.124728\tvalidation set's rmspe_log: 0.140717\n",
      "[1500]\ttraining set's rmspe_log: 0.108971\tvalidation set's rmspe_log: 0.13233\n",
      "[2000]\ttraining set's rmspe_log: 0.101931\tvalidation set's rmspe_log: 0.128243\n",
      "[2500]\ttraining set's rmspe_log: 0.0966869\tvalidation set's rmspe_log: 0.125934\n",
      "[3000]\ttraining set's rmspe_log: 0.0929191\tvalidation set's rmspe_log: 0.124043\n",
      "[3500]\ttraining set's rmspe_log: 0.0901291\tvalidation set's rmspe_log: 0.122513\n",
      "[4000]\ttraining set's rmspe_log: 0.087874\tvalidation set's rmspe_log: 0.121311\n",
      "[4500]\ttraining set's rmspe_log: 0.085884\tvalidation set's rmspe_log: 0.120109\n",
      "[5000]\ttraining set's rmspe_log: 0.0842569\tvalidation set's rmspe_log: 0.119263\n",
      "[5500]\ttraining set's rmspe_log: 0.0826492\tvalidation set's rmspe_log: 0.118661\n",
      "[6000]\ttraining set's rmspe_log: 0.0813986\tvalidation set's rmspe_log: 0.118189\n",
      "[6500]\ttraining set's rmspe_log: 0.0800204\tvalidation set's rmspe_log: 0.117428\n",
      "[7000]\ttraining set's rmspe_log: 0.0789532\tvalidation set's rmspe_log: 0.116807\n",
      "[7500]\ttraining set's rmspe_log: 0.0778762\tvalidation set's rmspe_log: 0.116125\n",
      "[8000]\ttraining set's rmspe_log: 0.0768284\tvalidation set's rmspe_log: 0.115749\n",
      "[8500]\ttraining set's rmspe_log: 0.0758158\tvalidation set's rmspe_log: 0.114805\n",
      "[9000]\ttraining set's rmspe_log: 0.0748281\tvalidation set's rmspe_log: 0.114498\n",
      "[9500]\ttraining set's rmspe_log: 0.0739593\tvalidation set's rmspe_log: 0.114286\n",
      "[10000]\ttraining set's rmspe_log: 0.0731683\tvalidation set's rmspe_log: 0.114206\n",
      "[10500]\ttraining set's rmspe_log: 0.0723723\tvalidation set's rmspe_log: 0.11407\n",
      "[11000]\ttraining set's rmspe_log: 0.0717011\tvalidation set's rmspe_log: 0.113489\n",
      "[11500]\ttraining set's rmspe_log: 0.0710546\tvalidation set's rmspe_log: 0.112981\n",
      "[12000]\ttraining set's rmspe_log: 0.0704143\tvalidation set's rmspe_log: 0.112646\n",
      "[12500]\ttraining set's rmspe_log: 0.0698434\tvalidation set's rmspe_log: 0.11219\n",
      "[13000]\ttraining set's rmspe_log: 0.069266\tvalidation set's rmspe_log: 0.111986\n",
      "[13500]\ttraining set's rmspe_log: 0.0687342\tvalidation set's rmspe_log: 0.111885\n",
      "[14000]\ttraining set's rmspe_log: 0.068256\tvalidation set's rmspe_log: 0.111801\n",
      "[14500]\ttraining set's rmspe_log: 0.0677553\tvalidation set's rmspe_log: 0.111638\n",
      "[15000]\ttraining set's rmspe_log: 0.0672886\tvalidation set's rmspe_log: 0.111564\n",
      "[15500]\ttraining set's rmspe_log: 0.0667922\tvalidation set's rmspe_log: 0.111369\n",
      "[16000]\ttraining set's rmspe_log: 0.0662975\tvalidation set's rmspe_log: 0.11123\n",
      "[16500]\ttraining set's rmspe_log: 0.065835\tvalidation set's rmspe_log: 0.111114\n",
      "[17000]\ttraining set's rmspe_log: 0.0653947\tvalidation set's rmspe_log: 0.111173\n",
      "Early stopping, best iteration is:\n",
      "[16716]\ttraining set's rmspe_log: 0.0656541\tvalidation set's rmspe_log: 0.111088\n"
     ]
    }
   ],
   "source": [
    "num_rounds = 20000\n",
    "verb_rounds = 500\n",
    "earlystop_rounds = 300\n",
    "\n",
    "params = {\n",
    "    'random_state': [0],\n",
    "    'learning_rate': [0.01],\n",
    "    'num_leaves': [315],\n",
    "    'max_depth': [-1],\n",
    "    'reg_alpha': [1e-7],\n",
    "    'reg_lambda': [1e-5],\n",
    "    'subsample': [0.7],\n",
    "    'colsample_bytree': [1.0]\n",
    "}\n",
    "\n",
    "reg = lgb.train(params, dataset_train_log, num_rounds,\n",
    "                valid_sets=[dataset_train_log, dataset_eval_log],\n",
    "                valid_names=['training set', 'validation set'],\n",
    "                fobj=rmspe_loss, feval=loss_log,\n",
    "                verbose_eval=verb_rounds, early_stopping_rounds=earlystop_rounds)"
   ]
  },
  {
   "cell_type": "markdown",
   "metadata": {},
   "source": [
    "### Retrain the model on the whole dataset"
   ]
  },
  {
   "cell_type": "code",
   "execution_count": 21,
   "metadata": {},
   "outputs": [
    {
     "name": "stdout",
     "output_type": "stream",
     "text": [
      "Training until validation scores don't improve for 300 rounds.\n",
      "[500]\ttraining set's rmspe_log: 0.176323\n",
      "[1000]\ttraining set's rmspe_log: 0.126947\n",
      "[1500]\ttraining set's rmspe_log: 0.111427\n",
      "[2000]\ttraining set's rmspe_log: 0.103172\n",
      "[2500]\ttraining set's rmspe_log: 0.097354\n",
      "[3000]\ttraining set's rmspe_log: 0.0937061\n",
      "[3500]\ttraining set's rmspe_log: 0.0907031\n",
      "[4000]\ttraining set's rmspe_log: 0.0882972\n",
      "[4500]\ttraining set's rmspe_log: 0.086509\n",
      "[5000]\ttraining set's rmspe_log: 0.0849142\n",
      "[5500]\ttraining set's rmspe_log: 0.0833527\n",
      "[6000]\ttraining set's rmspe_log: 0.0821277\n",
      "[6500]\ttraining set's rmspe_log: 0.080944\n",
      "[7000]\ttraining set's rmspe_log: 0.0798273\n",
      "[7500]\ttraining set's rmspe_log: 0.0787102\n",
      "[8000]\ttraining set's rmspe_log: 0.0777794\n",
      "[8500]\ttraining set's rmspe_log: 0.0769674\n",
      "[9000]\ttraining set's rmspe_log: 0.0761108\n",
      "[9500]\ttraining set's rmspe_log: 0.075293\n",
      "[10000]\ttraining set's rmspe_log: 0.0745407\n",
      "[10500]\ttraining set's rmspe_log: 0.0738616\n",
      "[11000]\ttraining set's rmspe_log: 0.0731945\n",
      "[11500]\ttraining set's rmspe_log: 0.0725494\n",
      "[12000]\ttraining set's rmspe_log: 0.0719607\n",
      "[12500]\ttraining set's rmspe_log: 0.0713442\n",
      "[13000]\ttraining set's rmspe_log: 0.0707908\n",
      "[13500]\ttraining set's rmspe_log: 0.0702081\n",
      "[14000]\ttraining set's rmspe_log: 0.0696945\n",
      "[14500]\ttraining set's rmspe_log: 0.0691116\n",
      "[15000]\ttraining set's rmspe_log: 0.0685574\n",
      "[15500]\ttraining set's rmspe_log: 0.0680701\n",
      "[16000]\ttraining set's rmspe_log: 0.06764\n",
      "[16500]\ttraining set's rmspe_log: 0.0671838\n",
      "Did not meet early stopping. Best iteration is:\n",
      "[16716]\ttraining set's rmspe_log: 0.0670087\n"
     ]
    }
   ],
   "source": [
    "num_iter = reg.best_iteration\n",
    "\n",
    "dataset = lgb.Dataset(data_train, label_train_log)\n",
    "reg = lgb.train(params, dataset, num_iter,\n",
    "                valid_sets=[dataset],\n",
    "                valid_names=['training set'],\n",
    "                fobj=rmspe_loss, feval=loss_log, \n",
    "                verbose_eval=verb_rounds, early_stopping_rounds=earlystop_rounds)"
   ]
  },
  {
   "cell_type": "markdown",
   "metadata": {},
   "source": [
    "### Feature importance"
   ]
  },
  {
   "cell_type": "code",
   "execution_count": 22,
   "metadata": {},
   "outputs": [
    {
     "data": {
      "text/plain": [
       "<matplotlib.axes._subplots.AxesSubplot at 0x7f38bdaa8a90>"
      ]
     },
     "execution_count": 22,
     "metadata": {},
     "output_type": "execute_result"
    },
    {
     "data": {
      "image/png": "[encoded data removed]",
      "text/plain": [
       "<Figure size 720x432 with 1 Axes>"
      ]
     },
     "metadata": {
      "needs_background": "light"
     },
     "output_type": "display_data"
    }
   ],
   "source": [
    "import matplotlib.pyplot as plt\n",
    "import seaborn as sns\n",
    "\n",
    "plt.figure(figsize=(10, 6))\n",
    "feature_importance = pd.DataFrame()\n",
    "feature_importance['feature'] = reg.feature_name()\n",
    "feature_importance['importance'] = reg.feature_importance()\n",
    "feature_importance = feature_importance.sort_values('importance', ascending=False)\n",
    "sns.barplot(data=feature_importance, x='importance', y='feature')"
   ]
  },
  {
   "cell_type": "markdown",
   "metadata": {},
   "source": [
    "### Make submission"
   ]
  },
  {
   "cell_type": "code",
   "execution_count": 23,
   "metadata": {},
   "outputs": [],
   "source": [
    "y_pred = np.exp(reg.predict(data_test)) - 1\n",
    "y_pred = pd.Series(y_pred, name='Sales')\n",
    "sub = pd.concat([test['Id'], y_pred], axis=1)\n",
    "sub.to_csv('sub.csv', index=False)"
   ]
  }
 ],
 "metadata": {
  "kernelspec": {
   "display_name": "Python 3",
   "language": "python",
   "name": "python3"
  },
  "language_info": {
   "codemirror_mode": {
    "name": "ipython",
    "version": 3
   },
   "file_extension": ".py",
   "mimetype": "text/x-python",
   "name": "python",
   "nbconvert_exporter": "python",
   "pygments_lexer": "ipython3",
   "version": "3.7.3"
  }
 },
 "nbformat": 4,
 "nbformat_minor": 2
}
