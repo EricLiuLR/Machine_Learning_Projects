{
 "cells": [
  {
   "cell_type": "code",
   "execution_count": 1,
   "metadata": {
    "_cell_guid": "b1076dfc-b9ad-4769-8c92-a6c4dae69d19",
    "_uuid": "8f2839f25d086af736a60e9eeb907d3b93b6e0e5"
   },
   "outputs": [],
   "source": [
    "import numpy as np\n",
    "import pandas as pd\n",
    "import seaborn as sns\n",
    "import matplotlib.pyplot as plt\n",
    "\n",
    "from sklearn.model_selection import train_test_split\n",
    "\n",
    "plt.style.use('ggplot')\n",
    "np.set_printoptions(precision=4)\n",
    "pd.set_option('display.max_columns', None)\n",
    "pd.set_option('display.max_rows', None)\n",
    "pd.set_option('display.width', 100)\n",
    "pd.set_option('precision', 6)"
   ]
  },
  {
   "cell_type": "markdown",
   "metadata": {},
   "source": [
    "### Load the dataset"
   ]
  },
  {
   "cell_type": "code",
   "execution_count": 2,
   "metadata": {
    "_cell_guid": "79c7e3d0-c299-4dcb-8224-4455121ee9b0",
    "_uuid": "d629ff2d2480ee46fbb7e2d37f6b5fab8052498a"
   },
   "outputs": [
    {
     "name": "stderr",
     "output_type": "stream",
     "text": [
      "/opt/conda/lib/python3.6/site-packages/IPython/core/interactiveshell.py:3058: DtypeWarning: Columns (7) have mixed types. Specify dtype option on import or set low_memory=False.\n",
      "  interactivity=interactivity, compiler=compiler, result=result)\n"
     ]
    },
    {
     "name": "stdout",
     "output_type": "stream",
     "text": [
      "train.shape: (1017209, 9)\n",
      "test.shape: (41088, 8)\n",
      "store.shape: (1115, 10)\n"
     ]
    }
   ],
   "source": [
    "train = pd.read_csv('/kaggle/input/rossmann-store-sales/train.csv', parse_dates=['Date'])\n",
    "test = pd.read_csv('/kaggle/input/rossmann-store-sales/test.csv', parse_dates=['Date'])\n",
    "store = pd.read_csv('/kaggle/input/rossmann-store-sales/store.csv')\n",
    "\n",
    "print('train.shape: {}'.format(train.shape))\n",
    "print('test.shape: {}'.format(test.shape))\n",
    "print('store.shape: {}'.format(store.shape))"
   ]
  },
  {
   "cell_type": "markdown",
   "metadata": {},
   "source": [
    "### Prepare the store table"
   ]
  },
  {
   "cell_type": "code",
   "execution_count": 3,
   "metadata": {},
   "outputs": [],
   "source": [
    "# Drop all the rows with store open but zero sales\n",
    "train = train.drop(train[(train.Sales==0) & (train.Open==1)].index, axis=0)\n",
    "\n",
    "# For each store, year, and month, drop the abnormal sales"
   ]
  },
  {
   "cell_type": "code",
   "execution_count": 4,
   "metadata": {},
   "outputs": [],
   "source": [
    "# Convert Competition date information to datetime for comparing\n",
    "def convert_competition_open(row):\n",
    "    try:\n",
    "        date = '{}-{}'.format(int(row['CompetitionOpenSinceYear']), int(row['CompetitionOpenSinceMonth']))\n",
    "        return pd.to_datetime(date)\n",
    "    except:\n",
    "        return np.nan\n",
    "store['CompetitionOpen'] = store.apply(convert_competition_open, axis=1)\n",
    "store = store.drop(['CompetitionOpenSinceYear', 'CompetitionOpenSinceMonth'], axis=1)\n",
    "\n",
    "# Convert Promo2 information to datetime for comparing\n",
    "def convert_promo2(row):\n",
    "    try:\n",
    "        date = '{}{}1'.format(int(row['Promo2SinceYear']), int(row['Promo2SinceWeek']))\n",
    "        return pd.to_datetime(date, format='%Y%W%w')\n",
    "    except:\n",
    "        return np.nan\n",
    "store['Promo2Since'] = store.apply(convert_promo2, axis=1)\n",
    "store = store.drop(['Promo2', 'Promo2SinceYear', 'Promo2SinceWeek'], axis=1)\n",
    "\n",
    "# Add 12 attributes of the months each store is running promo2\n",
    "months = {\n",
    "    'Jan': 1,\n",
    "    'Feb' : 2,\n",
    "    'Mar' : 3,\n",
    "    'Apr' : 4,\n",
    "    'May' : 5,\n",
    "    'Jun' : 6,\n",
    "    'Jul' : 7,\n",
    "    'Aug' : 8,\n",
    "    'Sept' : 9, \n",
    "    'Oct' : 10,\n",
    "    'Nov' : 11,\n",
    "    'Dec' : 12\n",
    "}\n",
    "def add_promo2_month(interval, month):\n",
    "    if pd.isnull(interval):\n",
    "        return np.nan\n",
    "    else:\n",
    "        if month in interval.split(','):\n",
    "            return 1\n",
    "        else:\n",
    "            return 0\n",
    "\n",
    "for month in months.keys():\n",
    "    store['Promo2_on_month' + '_' + str(months[month])] = store.PromoInterval.apply(add_promo2_month, args=(month,))\n",
    "store = store.drop('PromoInterval', axis=1)\n"
   ]
  },
  {
   "cell_type": "code",
   "execution_count": 5,
   "metadata": {},
   "outputs": [
    {
     "name": "stdout",
     "output_type": "stream",
     "text": [
      "<class 'pandas.core.frame.DataFrame'>\n",
      "RangeIndex: 1115 entries, 0 to 1114\n",
      "Data columns (total 18 columns):\n",
      "Store                  1115 non-null int64\n",
      "StoreType              1115 non-null object\n",
      "Assortment             1115 non-null object\n",
      "CompetitionDistance    1112 non-null float64\n",
      "CompetitionOpen        761 non-null datetime64[ns]\n",
      "Promo2Since            571 non-null datetime64[ns]\n",
      "Promo2_on_month_1      571 non-null float64\n",
      "Promo2_on_month_2      571 non-null float64\n",
      "Promo2_on_month_3      571 non-null float64\n",
      "Promo2_on_month_4      571 non-null float64\n",
      "Promo2_on_month_5      571 non-null float64\n",
      "Promo2_on_month_6      571 non-null float64\n",
      "Promo2_on_month_7      571 non-null float64\n",
      "Promo2_on_month_8      571 non-null float64\n",
      "Promo2_on_month_9      571 non-null float64\n",
      "Promo2_on_month_10     571 non-null float64\n",
      "Promo2_on_month_11     571 non-null float64\n",
      "Promo2_on_month_12     571 non-null float64\n",
      "dtypes: datetime64[ns](2), float64(13), int64(1), object(2)\n",
      "memory usage: 156.9+ KB\n"
     ]
    }
   ],
   "source": [
    "store.info()"
   ]
  },
  {
   "cell_type": "markdown",
   "metadata": {},
   "source": [
    "### Drop the outliers"
   ]
  },
  {
   "cell_type": "code",
   "execution_count": 6,
   "metadata": {},
   "outputs": [],
   "source": [
    "# Drop all the rows with store open but zero sales\n",
    "train = train.drop(train[(train.Sales==0) & (train.Open==1)].index, axis=0)\n",
    "\n",
    "# For each store, year, and month, drop the abnormal sales\n",
    "stats = train.groupby('Store').Sales.agg(['mean', 'std']).reset_index()\n",
    "sales = train[['Store', 'Sales']].copy().reset_index()\n",
    "sales = pd.merge(sales, stats, on='Store')\n",
    "sales['z_score'] = (sales['Sales'] - sales['mean']) / sales['std']\n",
    "\n",
    "index_to_drop = sales.loc[sales.z_score>=3, 'index']\n",
    "train = train.drop(index_to_drop, axis=0)"
   ]
  },
  {
   "cell_type": "markdown",
   "metadata": {},
   "source": [
    "### Combine the data for easy processing"
   ]
  },
  {
   "cell_type": "code",
   "execution_count": 7,
   "metadata": {},
   "outputs": [],
   "source": [
    "train['istestset'] = 0\n",
    "test['istestset'] = 1\n",
    "combine = pd.concat([train.drop(['Sales', 'Customers'], axis=1), test.drop('Id', axis=1)], axis=0, ignore_index=True)"
   ]
  },
  {
   "cell_type": "markdown",
   "metadata": {},
   "source": [
    "### Add the store table information"
   ]
  },
  {
   "cell_type": "code",
   "execution_count": 8,
   "metadata": {},
   "outputs": [],
   "source": [
    "combine = pd.merge(combine, store, how='left', on='Store')"
   ]
  },
  {
   "cell_type": "code",
   "execution_count": 9,
   "metadata": {},
   "outputs": [
    {
     "name": "stdout",
     "output_type": "stream",
     "text": [
      "<class 'pandas.core.frame.DataFrame'>\n",
      "Int64Index: 1057131 entries, 0 to 1057130\n",
      "Data columns (total 25 columns):\n",
      "Store                  1057131 non-null int64\n",
      "DayOfWeek              1057131 non-null int64\n",
      "Date                   1057131 non-null datetime64[ns]\n",
      "Open                   1057120 non-null float64\n",
      "Promo                  1057131 non-null int64\n",
      "StateHoliday           1057131 non-null object\n",
      "SchoolHoliday          1057131 non-null int64\n",
      "istestset              1057131 non-null int64\n",
      "StoreType              1057131 non-null object\n",
      "Assortment             1057131 non-null object\n",
      "CompetitionDistance    1054398 non-null float64\n",
      "CompetitionOpen        718946 non-null datetime64[ns]\n",
      "Promo2Since            532356 non-null datetime64[ns]\n",
      "Promo2_on_month_1      532356 non-null float64\n",
      "Promo2_on_month_2      532356 non-null float64\n",
      "Promo2_on_month_3      532356 non-null float64\n",
      "Promo2_on_month_4      532356 non-null float64\n",
      "Promo2_on_month_5      532356 non-null float64\n",
      "Promo2_on_month_6      532356 non-null float64\n",
      "Promo2_on_month_7      532356 non-null float64\n",
      "Promo2_on_month_8      532356 non-null float64\n",
      "Promo2_on_month_9      532356 non-null float64\n",
      "Promo2_on_month_10     532356 non-null float64\n",
      "Promo2_on_month_11     532356 non-null float64\n",
      "Promo2_on_month_12     532356 non-null float64\n",
      "dtypes: datetime64[ns](3), float64(14), int64(5), object(3)\n",
      "memory usage: 209.7+ MB\n"
     ]
    }
   ],
   "source": [
    "combine.info()"
   ]
  },
  {
   "cell_type": "markdown",
   "metadata": {},
   "source": [
    "### Fill in missing values"
   ]
  },
  {
   "cell_type": "code",
   "execution_count": 10,
   "metadata": {},
   "outputs": [],
   "source": [
    "# Fill in Open with mode\n",
    "combine['Open'] = combine.Open.fillna(1.0)\n",
    "\n",
    "# Fill in all the promo2 related attributes with -1, which indicates a special case(not participate in promo2)\n",
    "promo2_related_feats = [_ for _ in combine.columns if 'Promo2' in _]\n",
    "for feat in promo2_related_feats:\n",
    "    combine[feat] = combine[feat].fillna(-1)\n",
    "    \n",
    "# Fill in the missing values in CompetitionDistance with the max + 1000, which means no nearby competition\n",
    "combine['CompetitionDistance'] = combine['CompetitionDistance'].fillna(combine.CompetitionDistance.max() + 1000)\n",
    "\n",
    "# For the missing values in CompetitionOpen, I just chenge it to categorical attribute (with 0 means not open yet, 1 means opened, -1 means unclear)\n",
    "def convert_CompetitionOpen_cat(row):\n",
    "    if pd.isnull(row['CompetitionOpen']):\n",
    "        return -1\n",
    "    else:\n",
    "        if row['Date'] >= row['CompetitionOpen']:\n",
    "            return 1\n",
    "        else:\n",
    "            return 0\n",
    "combine['CompetitionOpen'] = combine.apply(convert_CompetitionOpen_cat, axis=1)"
   ]
  },
  {
   "cell_type": "code",
   "execution_count": 11,
   "metadata": {},
   "outputs": [
    {
     "name": "stdout",
     "output_type": "stream",
     "text": [
      "<class 'pandas.core.frame.DataFrame'>\n",
      "Int64Index: 1057131 entries, 0 to 1057130\n",
      "Data columns (total 25 columns):\n",
      "Store                  1057131 non-null int64\n",
      "DayOfWeek              1057131 non-null int64\n",
      "Date                   1057131 non-null datetime64[ns]\n",
      "Open                   1057131 non-null float64\n",
      "Promo                  1057131 non-null int64\n",
      "StateHoliday           1057131 non-null object\n",
      "SchoolHoliday          1057131 non-null int64\n",
      "istestset              1057131 non-null int64\n",
      "StoreType              1057131 non-null object\n",
      "Assortment             1057131 non-null object\n",
      "CompetitionDistance    1057131 non-null float64\n",
      "CompetitionOpen        1057131 non-null int64\n",
      "Promo2Since            1057131 non-null object\n",
      "Promo2_on_month_1      1057131 non-null float64\n",
      "Promo2_on_month_2      1057131 non-null float64\n",
      "Promo2_on_month_3      1057131 non-null float64\n",
      "Promo2_on_month_4      1057131 non-null float64\n",
      "Promo2_on_month_5      1057131 non-null float64\n",
      "Promo2_on_month_6      1057131 non-null float64\n",
      "Promo2_on_month_7      1057131 non-null float64\n",
      "Promo2_on_month_8      1057131 non-null float64\n",
      "Promo2_on_month_9      1057131 non-null float64\n",
      "Promo2_on_month_10     1057131 non-null float64\n",
      "Promo2_on_month_11     1057131 non-null float64\n",
      "Promo2_on_month_12     1057131 non-null float64\n",
      "dtypes: datetime64[ns](1), float64(14), int64(6), object(4)\n",
      "memory usage: 209.7+ MB\n"
     ]
    }
   ],
   "source": [
    "combine.info()"
   ]
  },
  {
   "cell_type": "markdown",
   "metadata": {},
   "source": [
    "### Feature engineering"
   ]
  },
  {
   "cell_type": "code",
   "execution_count": 12,
   "metadata": {},
   "outputs": [],
   "source": [
    "# DayOfWeek\n",
    "combine['DayOfWeek'] = combine.DayOfWeek.astype(int)\n",
    "\n",
    "# Date\n",
    "combine['Date'] = pd.to_datetime(combine.Date)\n",
    "combine['Year'] = combine.Date.dt.year.astype(int)\n",
    "combine['Month'] = combine.Date.dt.month.astype(int)\n",
    "combine['Day'] = combine.Date.dt.day.astype(int)\n",
    "combine['Week'] = combine.Date.dt.week.astype(int)\n",
    "\n",
    "# Open ...\n",
    "# Promo ...\n",
    "\n",
    "# StateHoliday\n",
    "combine['StateHoliday'] = combine.StateHoliday.replace({0:'0'}).astype('category').cat.codes\n",
    "\n",
    "# SchoolHoliday ...\n",
    "\n",
    "# StoreType\n",
    "combine['StoreType'] = combine.StoreType.astype('category').cat.codes\n",
    "\n",
    "# Assortment\n",
    "combine['Assortment'] = combine.Assortment.astype('category').cat.codes\n",
    "\n",
    "# Promo2 conver into catigorical feature(with 0 means not on, 1 means on, -1 means not participate)\n",
    "def create_promo2(row):\n",
    "    if row['Promo2Since'] == -1:\n",
    "        return -1\n",
    "    else:\n",
    "        month = row['Month']\n",
    "        if row['Promo2_on_month_' + str(month)] == 1 and row['Date'] > row['Promo2Since']:\n",
    "            return 1\n",
    "        else:\n",
    "            return 0\n",
    "combine['Promo2'] = combine.apply(create_promo2, axis=1)\n",
    "combine = combine.drop(promo2_related_feats, axis=1)\n",
    "\n",
    "combine = combine.drop('Date', axis=1)\n",
    "\n",
    "combine = pd.get_dummies(combine)"
   ]
  },
  {
   "cell_type": "code",
   "execution_count": 13,
   "metadata": {},
   "outputs": [
    {
     "name": "stdout",
     "output_type": "stream",
     "text": [
      "<class 'pandas.core.frame.DataFrame'>\n",
      "Int64Index: 1057131 entries, 0 to 1057130\n",
      "Data columns (total 16 columns):\n",
      "Store                  1057131 non-null int64\n",
      "DayOfWeek              1057131 non-null int64\n",
      "Open                   1057131 non-null float64\n",
      "Promo                  1057131 non-null int64\n",
      "StateHoliday           1057131 non-null int8\n",
      "SchoolHoliday          1057131 non-null int64\n",
      "istestset              1057131 non-null int64\n",
      "StoreType              1057131 non-null int8\n",
      "Assortment             1057131 non-null int8\n",
      "CompetitionDistance    1057131 non-null float64\n",
      "CompetitionOpen        1057131 non-null int64\n",
      "Year                   1057131 non-null int64\n",
      "Month                  1057131 non-null int64\n",
      "Day                    1057131 non-null int64\n",
      "Week                   1057131 non-null int64\n",
      "Promo2                 1057131 non-null int64\n",
      "dtypes: float64(2), int64(11), int8(3)\n",
      "memory usage: 115.9 MB\n"
     ]
    }
   ],
   "source": [
    "combine.info()"
   ]
  },
  {
   "cell_type": "markdown",
   "metadata": {},
   "source": [
    "### Prepare the data for modeling"
   ]
  },
  {
   "cell_type": "code",
   "execution_count": 14,
   "metadata": {},
   "outputs": [],
   "source": [
    "data_train = combine[combine.istestset==0].drop('istestset', axis=1)\n",
    "label_train = train['Sales']\n",
    "label_train_log = np.log1p(train['Sales'])\n",
    "data_test = combine[combine.istestset==1].drop('istestset', axis=1)"
   ]
  },
  {
   "cell_type": "markdown",
   "metadata": {},
   "source": [
    "### Find the basic setting of the model and Set up the metrics"
   ]
  },
  {
   "cell_type": "code",
   "execution_count": 15,
   "metadata": {},
   "outputs": [],
   "source": [
    "from sklearn.model_selection import GridSearchCV\n",
    "from sklearn.model_selection import cross_val_score\n",
    "from sklearn.model_selection import train_test_split\n",
    "from lightgbm.sklearn import LGBMRegressor\n",
    "import lightgbm as lgb\n",
    "from sklearn.model_selection import KFold\n",
    "from sklearn.metrics import make_scorer"
   ]
  },
  {
   "cell_type": "markdown",
   "metadata": {},
   "source": [
    "#### I tried the following 4 settings for the model and choose the best:\n",
    "\n",
    "- Default objective function without taking log of the target\n",
    "- Default objective function with taking log of the target\n",
    "- Custom objective function without taking log of the target\n",
    "- Custom objective function with taking log of the target"
   ]
  },
  {
   "cell_type": "code",
   "execution_count": 16,
   "metadata": {},
   "outputs": [],
   "source": [
    "X_train, X_eval, y_train, y_eval = train_test_split(data_train, label_train, test_size=0.1, random_state=0)\n",
    "X_train, X_eval, y_train_log, y_eval_log = train_test_split(data_train, label_train_log, test_size=0.1, random_state=0)\n",
    "\n",
    "dataset_train = lgb.Dataset(X_train, y_train)\n",
    "dataset_eval = lgb.Dataset(X_eval, y_eval, reference=dataset_train)\n",
    "\n",
    "dataset_train_log = lgb.Dataset(X_train, y_train_log)\n",
    "dataset_eval_log = lgb.Dataset(X_eval, y_eval_log, reference=dataset_train_log)"
   ]
  },
  {
   "cell_type": "code",
   "execution_count": 17,
   "metadata": {},
   "outputs": [],
   "source": [
    "num_rounds = 2000\n",
    "verb_rounds = 100\n",
    "earlystop_rounds = 100"
   ]
  },
  {
   "cell_type": "markdown",
   "metadata": {},
   "source": [
    "### Default objective function without taking log of the target"
   ]
  },
  {
   "cell_type": "code",
   "execution_count": 18,
   "metadata": {},
   "outputs": [
    {
     "name": "stdout",
     "output_type": "stream",
     "text": [
      "Training until validation scores don't improve for 100 rounds.\n",
      "[100]\ttraining set's rmspe: 0.353539\tvalidation set's rmspe: 0.328529\n",
      "[200]\ttraining set's rmspe: 0.294888\tvalidation set's rmspe: 0.268289\n",
      "[300]\ttraining set's rmspe: 0.260906\tvalidation set's rmspe: 0.234064\n",
      "[400]\ttraining set's rmspe: 0.241588\tvalidation set's rmspe: 0.213323\n",
      "[500]\ttraining set's rmspe: 0.226319\tvalidation set's rmspe: 0.197813\n",
      "[600]\ttraining set's rmspe: 0.217571\tvalidation set's rmspe: 0.189241\n",
      "[700]\ttraining set's rmspe: 0.211076\tvalidation set's rmspe: 0.181455\n",
      "[800]\ttraining set's rmspe: 0.205693\tvalidation set's rmspe: 0.175445\n",
      "[900]\ttraining set's rmspe: 0.200428\tvalidation set's rmspe: 0.1696\n",
      "[1000]\ttraining set's rmspe: 0.19638\tvalidation set's rmspe: 0.165255\n",
      "[1100]\ttraining set's rmspe: 0.19253\tvalidation set's rmspe: 0.16175\n",
      "[1200]\ttraining set's rmspe: 0.190344\tvalidation set's rmspe: 0.159234\n",
      "[1300]\ttraining set's rmspe: 0.188339\tvalidation set's rmspe: 0.157061\n",
      "[1400]\ttraining set's rmspe: 0.185443\tvalidation set's rmspe: 0.154303\n",
      "[1500]\ttraining set's rmspe: 0.183394\tvalidation set's rmspe: 0.15226\n",
      "[1600]\ttraining set's rmspe: 0.181671\tvalidation set's rmspe: 0.15063\n",
      "[1700]\ttraining set's rmspe: 0.17981\tvalidation set's rmspe: 0.149895\n",
      "[1800]\ttraining set's rmspe: 0.178757\tvalidation set's rmspe: 0.148736\n",
      "[1900]\ttraining set's rmspe: 0.17785\tvalidation set's rmspe: 0.147365\n",
      "[2000]\ttraining set's rmspe: 0.175992\tvalidation set's rmspe: 0.146256\n",
      "Did not meet early stopping. Best iteration is:\n",
      "[2000]\ttraining set's rmspe: 0.175992\tvalidation set's rmspe: 0.146256\n"
     ]
    },
    {
     "data": {
      "text/plain": [
       "<lightgbm.basic.Booster at 0x7ff4d8e7d630>"
      ]
     },
     "execution_count": 18,
     "metadata": {},
     "output_type": "execute_result"
    }
   ],
   "source": [
    "def loss(y_pred, y):\n",
    "    y = y.get_label()\n",
    "    n = y.shape[0]\n",
    "    ind = (y!=0)\n",
    "    y_pred, y = y_pred[ind], y[ind]\n",
    "    dis_percent_squared = ((y - y_pred) / y) ** 2\n",
    "    loss = np.sqrt(dis_percent_squared.sum() / n)\n",
    "    return 'rmspe', loss, False\n",
    "\n",
    "lgb.train({}, dataset_train, num_rounds, \n",
    "          valid_sets=[dataset_train, dataset_eval], valid_names=['training set', 'validation set'], \n",
    "          feval=loss, verbose_eval=verb_rounds, early_stopping_rounds=earlystop_rounds)"
   ]
  },
  {
   "cell_type": "markdown",
   "metadata": {},
   "source": [
    "### Default objective function with taking log of the target"
   ]
  },
  {
   "cell_type": "code",
   "execution_count": 19,
   "metadata": {},
   "outputs": [
    {
     "name": "stdout",
     "output_type": "stream",
     "text": [
      "Training until validation scores don't improve for 100 rounds.\n",
      "[100]\ttraining set's rmspe_log: 0.288466\tvalidation set's rmspe_log: 0.270907\n",
      "[200]\ttraining set's rmspe_log: 0.244215\tvalidation set's rmspe_log: 0.222901\n",
      "[300]\ttraining set's rmspe_log: 0.218444\tvalidation set's rmspe_log: 0.195883\n",
      "[400]\ttraining set's rmspe_log: 0.204562\tvalidation set's rmspe_log: 0.180372\n",
      "[500]\ttraining set's rmspe_log: 0.194914\tvalidation set's rmspe_log: 0.170031\n",
      "[600]\ttraining set's rmspe_log: 0.186844\tvalidation set's rmspe_log: 0.162092\n",
      "[700]\ttraining set's rmspe_log: 0.181111\tvalidation set's rmspe_log: 0.155561\n",
      "[800]\ttraining set's rmspe_log: 0.177329\tvalidation set's rmspe_log: 0.151472\n",
      "[900]\ttraining set's rmspe_log: 0.173705\tvalidation set's rmspe_log: 0.14815\n",
      "[1000]\ttraining set's rmspe_log: 0.168835\tvalidation set's rmspe_log: 0.144647\n",
      "[1100]\ttraining set's rmspe_log: 0.16548\tvalidation set's rmspe_log: 0.142427\n",
      "[1200]\ttraining set's rmspe_log: 0.162481\tvalidation set's rmspe_log: 0.140195\n",
      "[1300]\ttraining set's rmspe_log: 0.160287\tvalidation set's rmspe_log: 0.138729\n",
      "[1400]\ttraining set's rmspe_log: 0.157999\tvalidation set's rmspe_log: 0.137242\n",
      "[1500]\ttraining set's rmspe_log: 0.156327\tvalidation set's rmspe_log: 0.135985\n",
      "[1600]\ttraining set's rmspe_log: 0.154079\tvalidation set's rmspe_log: 0.134373\n",
      "[1700]\ttraining set's rmspe_log: 0.151471\tvalidation set's rmspe_log: 0.133474\n",
      "[1800]\ttraining set's rmspe_log: 0.148071\tvalidation set's rmspe_log: 0.132366\n",
      "[1900]\ttraining set's rmspe_log: 0.147038\tvalidation set's rmspe_log: 0.131355\n",
      "[2000]\ttraining set's rmspe_log: 0.146299\tvalidation set's rmspe_log: 0.130339\n",
      "Did not meet early stopping. Best iteration is:\n",
      "[2000]\ttraining set's rmspe_log: 0.146299\tvalidation set's rmspe_log: 0.130339\n"
     ]
    },
    {
     "data": {
      "text/plain": [
       "<lightgbm.basic.Booster at 0x7ff4d8e90128>"
      ]
     },
     "execution_count": 19,
     "metadata": {},
     "output_type": "execute_result"
    }
   ],
   "source": [
    "def loss_log(y_pred, y):\n",
    "    y = y.get_label()\n",
    "    n = y.shape[0]\n",
    "    y_pred = np.exp(y_pred) - 1\n",
    "    y = np.exp(y) - 1\n",
    "    ind = (y!=0)\n",
    "    y_pred, y = y_pred[ind], y[ind]\n",
    "    dis_percent_squared = ((y - y_pred) / y) ** 2\n",
    "    loss = np.sqrt(dis_percent_squared.sum() / n)\n",
    "    return 'rmspe_log', loss, False\n",
    "\n",
    "lgb.train({}, dataset_train_log, num_rounds, \n",
    "          valid_sets = [dataset_train_log, dataset_eval_log], valid_names=['training set', 'validation set'], \n",
    "          feval=loss_log, verbose_eval=verb_rounds, early_stopping_rounds=earlystop_rounds)"
   ]
  },
  {
   "cell_type": "markdown",
   "metadata": {},
   "source": [
    "### Custom objective function without taking log of the target"
   ]
  },
  {
   "cell_type": "code",
   "execution_count": 20,
   "metadata": {},
   "outputs": [
    {
     "name": "stdout",
     "output_type": "stream",
     "text": [
      "Training until validation scores don't improve for 100 rounds.\n",
      "[100]\ttraining set's rmspe: 0.263805\tvalidation set's rmspe: 0.266756\n",
      "[200]\ttraining set's rmspe: 0.237106\tvalidation set's rmspe: 0.242441\n",
      "[300]\ttraining set's rmspe: 0.221949\tvalidation set's rmspe: 0.227956\n",
      "[400]\ttraining set's rmspe: 0.211457\tvalidation set's rmspe: 0.21837\n",
      "[500]\ttraining set's rmspe: 0.203762\tvalidation set's rmspe: 0.211221\n",
      "[600]\ttraining set's rmspe: 0.197416\tvalidation set's rmspe: 0.205294\n",
      "[700]\ttraining set's rmspe: 0.192239\tvalidation set's rmspe: 0.200601\n",
      "[800]\ttraining set's rmspe: 0.187602\tvalidation set's rmspe: 0.196257\n",
      "[900]\ttraining set's rmspe: 0.183606\tvalidation set's rmspe: 0.192457\n",
      "[1000]\ttraining set's rmspe: 0.180059\tvalidation set's rmspe: 0.189421\n",
      "[1100]\ttraining set's rmspe: 0.177011\tvalidation set's rmspe: 0.18651\n",
      "[1200]\ttraining set's rmspe: 0.174244\tvalidation set's rmspe: 0.183894\n",
      "[1300]\ttraining set's rmspe: 0.17162\tvalidation set's rmspe: 0.181496\n",
      "[1400]\ttraining set's rmspe: 0.169223\tvalidation set's rmspe: 0.179328\n",
      "[1500]\ttraining set's rmspe: 0.167068\tvalidation set's rmspe: 0.177299\n",
      "[1600]\ttraining set's rmspe: 0.165168\tvalidation set's rmspe: 0.175633\n",
      "[1700]\ttraining set's rmspe: 0.163341\tvalidation set's rmspe: 0.173942\n",
      "[1800]\ttraining set's rmspe: 0.161698\tvalidation set's rmspe: 0.172382\n",
      "[1900]\ttraining set's rmspe: 0.160066\tvalidation set's rmspe: 0.170981\n",
      "[2000]\ttraining set's rmspe: 0.15853\tvalidation set's rmspe: 0.169646\n",
      "Did not meet early stopping. Best iteration is:\n",
      "[2000]\ttraining set's rmspe: 0.15853\tvalidation set's rmspe: 0.169646\n"
     ]
    },
    {
     "data": {
      "text/plain": [
       "<lightgbm.basic.Booster at 0x7ff4da840e48>"
      ]
     },
     "execution_count": 20,
     "metadata": {},
     "output_type": "execute_result"
    }
   ],
   "source": [
    "def rmspe_loss(y_pred, y):\n",
    "    y = y.get_label()\n",
    "    dis = y - y_pred\n",
    "    ind = (dis!=0) & (y!=0)\n",
    "    gradient = np.zeros(y.shape)\n",
    "    hession = np.zeros(y.shape)\n",
    "    n = y.shape[0]\n",
    "    gradient[ind] = 2 * (y_pred[ind] - y[ind]) / y[ind] ** 2\n",
    "    hession[ind] = 2 / y[ind] ** 2\n",
    "    return gradient, hession\n",
    "\n",
    "lgb.train({}, dataset_train, num_rounds, \n",
    "          valid_sets = [dataset_train, dataset_eval], \n",
    "          valid_names=['training set', 'validation set'], \n",
    "          fobj=rmspe_loss, feval=loss, \n",
    "          verbose_eval=verb_rounds, early_stopping_rounds=earlystop_rounds)"
   ]
  },
  {
   "cell_type": "markdown",
   "metadata": {},
   "source": [
    "### Custom objective function with taking log of the target"
   ]
  },
  {
   "cell_type": "code",
   "execution_count": 21,
   "metadata": {},
   "outputs": [
    {
     "name": "stdout",
     "output_type": "stream",
     "text": [
      "Training until validation scores don't improve for 100 rounds.\n",
      "[100]\ttraining set's rmspe_log: 0.272429\tvalidation set's rmspe_log: 0.253568\n",
      "[200]\ttraining set's rmspe_log: 0.223255\tvalidation set's rmspe_log: 0.200649\n",
      "[300]\ttraining set's rmspe_log: 0.201062\tvalidation set's rmspe_log: 0.176837\n",
      "[400]\ttraining set's rmspe_log: 0.176031\tvalidation set's rmspe_log: 0.163059\n",
      "[500]\ttraining set's rmspe_log: 0.162309\tvalidation set's rmspe_log: 0.154052\n",
      "[600]\ttraining set's rmspe_log: 0.155076\tvalidation set's rmspe_log: 0.147874\n",
      "[700]\ttraining set's rmspe_log: 0.146765\tvalidation set's rmspe_log: 0.143103\n",
      "[800]\ttraining set's rmspe_log: 0.137531\tvalidation set's rmspe_log: 0.139298\n",
      "[900]\ttraining set's rmspe_log: 0.131938\tvalidation set's rmspe_log: 0.137782\n",
      "[1000]\ttraining set's rmspe_log: 0.127034\tvalidation set's rmspe_log: 0.136196\n",
      "[1100]\ttraining set's rmspe_log: 0.121354\tvalidation set's rmspe_log: 0.134522\n",
      "[1200]\ttraining set's rmspe_log: 0.116847\tvalidation set's rmspe_log: 0.132746\n",
      "[1300]\ttraining set's rmspe_log: 0.113769\tvalidation set's rmspe_log: 0.13124\n",
      "[1400]\ttraining set's rmspe_log: 0.111347\tvalidation set's rmspe_log: 0.13031\n",
      "[1500]\ttraining set's rmspe_log: 0.109443\tvalidation set's rmspe_log: 0.129468\n",
      "[1600]\ttraining set's rmspe_log: 0.108136\tvalidation set's rmspe_log: 0.128519\n",
      "[1700]\ttraining set's rmspe_log: 0.106711\tvalidation set's rmspe_log: 0.12807\n",
      "[1800]\ttraining set's rmspe_log: 0.105072\tvalidation set's rmspe_log: 0.12749\n",
      "[1900]\ttraining set's rmspe_log: 0.103483\tvalidation set's rmspe_log: 0.126873\n",
      "[2000]\ttraining set's rmspe_log: 0.102408\tvalidation set's rmspe_log: 0.126228\n",
      "Did not meet early stopping. Best iteration is:\n",
      "[2000]\ttraining set's rmspe_log: 0.102408\tvalidation set's rmspe_log: 0.126228\n"
     ]
    },
    {
     "data": {
      "text/plain": [
       "<lightgbm.basic.Booster at 0x7ff4d8e5e470>"
      ]
     },
     "execution_count": 21,
     "metadata": {},
     "output_type": "execute_result"
    }
   ],
   "source": [
    "def rmspe_loss(y_pred, y):\n",
    "    y = y.get_label()\n",
    "    dis = y - y_pred\n",
    "    ind = (dis!=0) & (y!=0)\n",
    "    gradient = np.zeros(y.shape)\n",
    "    hession = np.zeros(y.shape)\n",
    "    n = y.shape[0]\n",
    "    gradient[ind] = 2 * (y_pred[ind] - y[ind]) / y[ind] ** 2\n",
    "    hession[ind] = 2 / y[ind] ** 2\n",
    "    return gradient, hession\n",
    "\n",
    "lgb.train({}, dataset_train_log, num_rounds, \n",
    "          valid_sets = [dataset_train_log, dataset_eval_log], \n",
    "          valid_names=['training set', 'validation set'], \n",
    "          fobj=rmspe_loss, feval=loss_log, \n",
    "          verbose_eval=verb_rounds, early_stopping_rounds=earlystop_rounds)"
   ]
  },
  {
   "cell_type": "markdown",
   "metadata": {},
   "source": [
    "**Since the custom objective function with taking log performs the best, I choose this setting**"
   ]
  },
  {
   "cell_type": "markdown",
   "metadata": {},
   "source": [
    "### Gridsearch for best parameters"
   ]
  },
  {
   "cell_type": "code",
   "execution_count": 22,
   "metadata": {},
   "outputs": [],
   "source": [
    "# KFold for consistant cv:\n",
    "kf = KFold(n_splits=4, shuffle=True, random_state=0)\n",
    "\n",
    "# Custom scoring function\n",
    "def loss_log_sk(y, y_pred):\n",
    "    n = y.shape[0]\n",
    "    y_pred = np.exp(y_pred) - 1\n",
    "    y = np.exp(y) - 1\n",
    "    ind = (y!=0)\n",
    "    y_pred, y = y_pred[ind], y[ind]\n",
    "    dis_percent_squared = ((y - y_pred) / y) ** 2\n",
    "    loss = np.sqrt(dis_percent_squared.sum() / n)\n",
    "    return loss\n",
    "mt = make_scorer(loss_log_sk, greater_is_better=False)\n",
    "\n",
    "# Simple performance measure function\n",
    "def performance(model):\n",
    "    scores = cross_val_score(model, data_train, label_train_log, cv=kf, scoring=mt, n_jobs=4, verbose=True)\n",
    "    score_mean = scores.mean()\n",
    "    score_std = scores.std()\n",
    "    print('score mean: {}'.format(-score_mean))\n",
    "    print('score std: {}'.format(score_std))\n",
    "\n",
    "# Grid search function\n",
    "def grid_search(model, params):\n",
    "    grid = GridSearchCV(model, params, cv=kf, scoring=mt, n_jobs=4, verbose=True).fit(data_train, label_train_log)\n",
    "    print('grid.best_score_: {}'.format(-grid.best_score_))\n",
    "    print('grid.best_params_: \\n{}'.format(grid.best_params_))\n",
    "    return grid.best_estimator_\n",
    "\n",
    "# Custom objective function for sklearn api\n",
    "def rmspe_loss_sk(y, y_pred):\n",
    "    dis = y - y_pred\n",
    "    ind = (dis!=0) & (y!=0)\n",
    "    gradient = np.zeros(y.shape)\n",
    "    hession = np.zeros(y.shape)\n",
    "    n = y.shape[0]\n",
    "    gradient[ind] = 2 * (y_pred[ind] - y[ind]) / y[ind] ** 2\n",
    "    hession[ind] = 2 / y[ind] ** 2\n",
    "    return gradient, hession"
   ]
  },
  {
   "cell_type": "code",
   "execution_count": 23,
   "metadata": {},
   "outputs": [
    {
     "name": "stderr",
     "output_type": "stream",
     "text": [
      "[Parallel(n_jobs=4)]: Using backend LokyBackend with 4 concurrent workers.\n"
     ]
    },
    {
     "name": "stdout",
     "output_type": "stream",
     "text": [
      "score mean: 0.28628034827048887\n",
      "score std: 0.014942754499771175\n"
     ]
    },
    {
     "name": "stderr",
     "output_type": "stream",
     "text": [
      "[Parallel(n_jobs=4)]: Done   2 out of   4 | elapsed:   20.5s remaining:   20.5s\n",
      "[Parallel(n_jobs=4)]: Done   4 out of   4 | elapsed:   20.6s finished\n"
     ]
    }
   ],
   "source": [
    "performance(LGBMRegressor())"
   ]
  },
  {
   "cell_type": "code",
   "execution_count": 24,
   "metadata": {},
   "outputs": [
    {
     "name": "stderr",
     "output_type": "stream",
     "text": [
      "[Parallel(n_jobs=4)]: Using backend LokyBackend with 4 concurrent workers.\n",
      "[Parallel(n_jobs=4)]: Done   2 out of   4 | elapsed:   28.6s remaining:   28.6s\n"
     ]
    },
    {
     "name": "stdout",
     "output_type": "stream",
     "text": [
      "score mean: 0.2707011153408984\n",
      "score std: 0.017801804979838853\n"
     ]
    },
    {
     "name": "stderr",
     "output_type": "stream",
     "text": [
      "[Parallel(n_jobs=4)]: Done   4 out of   4 | elapsed:   29.3s finished\n"
     ]
    }
   ],
   "source": [
    "performance(LGBMRegressor(objective=rmspe_loss_sk))"
   ]
  },
  {
   "cell_type": "code",
   "execution_count": 25,
   "metadata": {},
   "outputs": [
    {
     "name": "stderr",
     "output_type": "stream",
     "text": [
      "[Parallel(n_jobs=4)]: Using backend LokyBackend with 4 concurrent workers.\n"
     ]
    },
    {
     "name": "stdout",
     "output_type": "stream",
     "text": [
      "Fitting 4 folds for each of 1 candidates, totalling 4 fits\n"
     ]
    },
    {
     "name": "stderr",
     "output_type": "stream",
     "text": [
      "[Parallel(n_jobs=4)]: Done   2 out of   4 | elapsed:   42.5s remaining:   42.5s\n",
      "[Parallel(n_jobs=4)]: Done   4 out of   4 | elapsed:   42.8s finished\n"
     ]
    },
    {
     "name": "stdout",
     "output_type": "stream",
     "text": [
      "grid.best_score_: 0.15112112057618407\n",
      "grid.best_params_: \n",
      "{'colsample_bytree': 0.9, 'learning_rate': 0.6, 'max_depth': 10, 'n_estimators': 100, 'num_leaves': 610, 'objective': <function rmspe_loss_sk at 0x7ff4d8e63510>, 'random_state': 0, 'reg_alpha': 0, 'reg_lambda': 0, 'subsample': 0.1}\n"
     ]
    }
   ],
   "source": [
    "params = {\n",
    "    'random_state': [0],\n",
    "    'n_estimators': [100],\n",
    "    'learning_rate': [0.6],\n",
    "    'objective': [rmspe_loss_sk],\n",
    "    'num_leaves': [610],\n",
    "    'max_depth': [10],\n",
    "    'reg_alpha': [0],\n",
    "    'reg_lambda': [0],\n",
    "    'subsample': [0.1],\n",
    "    'colsample_bytree': [0.9]\n",
    "}\n",
    "reg = grid_search(LGBMRegressor(), params)"
   ]
  },
  {
   "cell_type": "markdown",
   "metadata": {},
   "source": [
    "### Set small learning_rate, then use early stopping to find the optimal iteration rounds"
   ]
  },
  {
   "cell_type": "code",
   "execution_count": 26,
   "metadata": {},
   "outputs": [
    {
     "name": "stdout",
     "output_type": "stream",
     "text": [
      "Training until validation scores don't improve for 250 rounds.\n",
      "[250]\ttraining set's rmspe_log: 0.47528\tvalidation set's rmspe_log: 0.473774\n",
      "[500]\ttraining set's rmspe_log: 0.211774\tvalidation set's rmspe_log: 0.209392\n",
      "[750]\ttraining set's rmspe_log: 0.181635\tvalidation set's rmspe_log: 0.184329\n",
      "[1000]\ttraining set's rmspe_log: 0.155773\tvalidation set's rmspe_log: 0.164762\n",
      "[1250]\ttraining set's rmspe_log: 0.134726\tvalidation set's rmspe_log: 0.149248\n",
      "[1500]\ttraining set's rmspe_log: 0.122951\tvalidation set's rmspe_log: 0.14097\n",
      "[1750]\ttraining set's rmspe_log: 0.115119\tvalidation set's rmspe_log: 0.136154\n",
      "[2000]\ttraining set's rmspe_log: 0.108949\tvalidation set's rmspe_log: 0.132017\n",
      "[2250]\ttraining set's rmspe_log: 0.104433\tvalidation set's rmspe_log: 0.129067\n",
      "[2500]\ttraining set's rmspe_log: 0.100758\tvalidation set's rmspe_log: 0.126853\n",
      "[2750]\ttraining set's rmspe_log: 0.098039\tvalidation set's rmspe_log: 0.125481\n",
      "[3000]\ttraining set's rmspe_log: 0.0955919\tvalidation set's rmspe_log: 0.12401\n",
      "[3250]\ttraining set's rmspe_log: 0.093297\tvalidation set's rmspe_log: 0.123113\n",
      "[3500]\ttraining set's rmspe_log: 0.0914006\tvalidation set's rmspe_log: 0.122239\n",
      "[3750]\ttraining set's rmspe_log: 0.0894443\tvalidation set's rmspe_log: 0.121387\n",
      "[4000]\ttraining set's rmspe_log: 0.0879751\tvalidation set's rmspe_log: 0.120579\n",
      "[4250]\ttraining set's rmspe_log: 0.0866566\tvalidation set's rmspe_log: 0.119515\n",
      "[4500]\ttraining set's rmspe_log: 0.0853428\tvalidation set's rmspe_log: 0.11839\n",
      "[4750]\ttraining set's rmspe_log: 0.0841508\tvalidation set's rmspe_log: 0.117802\n",
      "[5000]\ttraining set's rmspe_log: 0.0831121\tvalidation set's rmspe_log: 0.117204\n",
      "[5250]\ttraining set's rmspe_log: 0.0823093\tvalidation set's rmspe_log: 0.116932\n",
      "[5500]\ttraining set's rmspe_log: 0.0815674\tvalidation set's rmspe_log: 0.116728\n",
      "[5750]\ttraining set's rmspe_log: 0.0807852\tvalidation set's rmspe_log: 0.116406\n",
      "[6000]\ttraining set's rmspe_log: 0.0800558\tvalidation set's rmspe_log: 0.116126\n",
      "[6250]\ttraining set's rmspe_log: 0.0793436\tvalidation set's rmspe_log: 0.115407\n",
      "[6500]\ttraining set's rmspe_log: 0.0786982\tvalidation set's rmspe_log: 0.11509\n",
      "[6750]\ttraining set's rmspe_log: 0.0781613\tvalidation set's rmspe_log: 0.115008\n",
      "[7000]\ttraining set's rmspe_log: 0.0775993\tvalidation set's rmspe_log: 0.114527\n",
      "[7250]\ttraining set's rmspe_log: 0.0770203\tvalidation set's rmspe_log: 0.114211\n",
      "[7500]\ttraining set's rmspe_log: 0.0764444\tvalidation set's rmspe_log: 0.114066\n",
      "[7750]\ttraining set's rmspe_log: 0.075906\tvalidation set's rmspe_log: 0.113901\n",
      "[8000]\ttraining set's rmspe_log: 0.0754605\tvalidation set's rmspe_log: 0.113712\n",
      "[8250]\ttraining set's rmspe_log: 0.074986\tvalidation set's rmspe_log: 0.113595\n",
      "[8500]\ttraining set's rmspe_log: 0.074499\tvalidation set's rmspe_log: 0.113426\n",
      "[8750]\ttraining set's rmspe_log: 0.0739653\tvalidation set's rmspe_log: 0.113339\n",
      "[9000]\ttraining set's rmspe_log: 0.0735603\tvalidation set's rmspe_log: 0.113225\n",
      "[9250]\ttraining set's rmspe_log: 0.0730836\tvalidation set's rmspe_log: 0.112891\n",
      "[9500]\ttraining set's rmspe_log: 0.0725195\tvalidation set's rmspe_log: 0.112683\n",
      "[9750]\ttraining set's rmspe_log: 0.07217\tvalidation set's rmspe_log: 0.112717\n",
      "Early stopping, best iteration is:\n",
      "[9617]\ttraining set's rmspe_log: 0.0723262\tvalidation set's rmspe_log: 0.11264\n"
     ]
    }
   ],
   "source": [
    "num_rounds = 20000\n",
    "verb_rounds = 250\n",
    "earlystop_rounds = 250\n",
    "\n",
    "params = {\n",
    "    'random_state': [0],\n",
    "    'learning_rate': [0.01],\n",
    "    'num_leaves': [610],\n",
    "    'max_depth': [10],\n",
    "    'reg_alpha': [0],\n",
    "    'reg_lambda': [0],\n",
    "    'subsample': [0.1],\n",
    "    'colsample_bytree': [0.9]\n",
    "}\n",
    "\n",
    "reg = lgb.train(params, dataset_train_log, num_rounds,\n",
    "                valid_sets=[dataset_train_log, dataset_eval_log],\n",
    "                valid_names=['training set', 'validation set'],\n",
    "                fobj=rmspe_loss, feval=loss_log,\n",
    "                verbose_eval=verb_rounds, early_stopping_rounds=earlystop_rounds)"
   ]
  },
  {
   "cell_type": "markdown",
   "metadata": {},
   "source": [
    "### Retrain the model on the whole dataset"
   ]
  },
  {
   "cell_type": "code",
   "execution_count": 27,
   "metadata": {},
   "outputs": [
    {
     "name": "stdout",
     "output_type": "stream",
     "text": [
      "Training until validation scores don't improve for 250 rounds.\n",
      "[250]\ttraining set's rmspe_log: 0.475483\n",
      "[500]\ttraining set's rmspe_log: 0.223541\n",
      "[750]\ttraining set's rmspe_log: 0.183736\n",
      "[1000]\ttraining set's rmspe_log: 0.155916\n",
      "[1250]\ttraining set's rmspe_log: 0.135365\n",
      "[1500]\ttraining set's rmspe_log: 0.123902\n",
      "[1750]\ttraining set's rmspe_log: 0.115415\n",
      "[2000]\ttraining set's rmspe_log: 0.109643\n",
      "[2250]\ttraining set's rmspe_log: 0.104672\n",
      "[2500]\ttraining set's rmspe_log: 0.101247\n",
      "[2750]\ttraining set's rmspe_log: 0.0986299\n",
      "[3000]\ttraining set's rmspe_log: 0.0962704\n",
      "[3250]\ttraining set's rmspe_log: 0.0940317\n",
      "[3500]\ttraining set's rmspe_log: 0.0921822\n",
      "[3750]\ttraining set's rmspe_log: 0.0903653\n",
      "[4000]\ttraining set's rmspe_log: 0.0892545\n",
      "[4250]\ttraining set's rmspe_log: 0.0877802\n",
      "[4500]\ttraining set's rmspe_log: 0.0863914\n",
      "[4750]\ttraining set's rmspe_log: 0.0852937\n",
      "[5000]\ttraining set's rmspe_log: 0.0843493\n",
      "[5250]\ttraining set's rmspe_log: 0.0834513\n",
      "[5500]\ttraining set's rmspe_log: 0.0825009\n",
      "[5750]\ttraining set's rmspe_log: 0.0818723\n",
      "[6000]\ttraining set's rmspe_log: 0.0811741\n",
      "[6250]\ttraining set's rmspe_log: 0.0803431\n",
      "[6500]\ttraining set's rmspe_log: 0.0797471\n",
      "[6750]\ttraining set's rmspe_log: 0.0791666\n",
      "[7000]\ttraining set's rmspe_log: 0.0785221\n",
      "[7250]\ttraining set's rmspe_log: 0.0779267\n",
      "[7500]\ttraining set's rmspe_log: 0.0773586\n",
      "[7750]\ttraining set's rmspe_log: 0.0769284\n",
      "[8000]\ttraining set's rmspe_log: 0.0764258\n",
      "[8250]\ttraining set's rmspe_log: 0.0758102\n",
      "[8500]\ttraining set's rmspe_log: 0.0753633\n",
      "[8750]\ttraining set's rmspe_log: 0.0748647\n",
      "[9000]\ttraining set's rmspe_log: 0.0743759\n",
      "[9250]\ttraining set's rmspe_log: 0.0739594\n",
      "[9500]\ttraining set's rmspe_log: 0.0735498\n",
      "[9750]\ttraining set's rmspe_log: 0.0731069\n",
      "[10000]\ttraining set's rmspe_log: 0.0727015\n",
      "[10250]\ttraining set's rmspe_log: 0.0723465\n",
      "[10500]\ttraining set's rmspe_log: 0.0719849\n",
      "[10750]\ttraining set's rmspe_log: 0.0716743\n",
      "[11000]\ttraining set's rmspe_log: 0.0713249\n",
      "Did not meet early stopping. Best iteration is:\n",
      "[11000]\ttraining set's rmspe_log: 0.0713249\n"
     ]
    }
   ],
   "source": [
    "dataset = lgb.Dataset(data_train, label_train_log)\n",
    "reg = lgb.train(params, dataset, 11000,\n",
    "                valid_sets=[dataset],\n",
    "                valid_names=['training set'],\n",
    "                fobj=rmspe_loss, feval=loss_log, \n",
    "                verbose_eval=verb_rounds, early_stopping_rounds=earlystop_rounds)"
   ]
  },
  {
   "cell_type": "markdown",
   "metadata": {},
   "source": [
    "### Feature importance"
   ]
  },
  {
   "cell_type": "code",
   "execution_count": 28,
   "metadata": {},
   "outputs": [
    {
     "data": {
      "text/plain": [
       "<matplotlib.axes._subplots.AxesSubplot at 0x7ff4f259d7b8>"
      ]
     },
     "execution_count": 28,
     "metadata": {},
     "output_type": "execute_result"
    },
    {
     "data": {
      "image/png": "[encoded data removed]",
      "text/plain": [
       "<Figure size 720x432 with 1 Axes>"
      ]
     },
     "metadata": {
      "needs_background": "light"
     },
     "output_type": "display_data"
    }
   ],
   "source": [
    "plt.figure(figsize=(10, 6))\n",
    "sns.barplot(x=reg.feature_importance(), y=reg.feature_name())"
   ]
  },
  {
   "cell_type": "markdown",
   "metadata": {},
   "source": [
    "### Make submission"
   ]
  },
  {
   "cell_type": "code",
   "execution_count": 29,
   "metadata": {},
   "outputs": [
    {
     "name": "stderr",
     "output_type": "stream",
     "text": [
      "/opt/conda/lib/python3.6/site-packages/tensorflow/python/framework/dtypes.py:516: FutureWarning: Passing (type, 1) or '1type' as a synonym of type is deprecated; in a future version of numpy, it will be understood as (type, (1,)) / '(1,)type'.\n",
      "  _np_qint8 = np.dtype([(\"qint8\", np.int8, 1)])\n",
      "/opt/conda/lib/python3.6/site-packages/tensorflow/python/framework/dtypes.py:517: FutureWarning: Passing (type, 1) or '1type' as a synonym of type is deprecated; in a future version of numpy, it will be understood as (type, (1,)) / '(1,)type'.\n",
      "  _np_quint8 = np.dtype([(\"quint8\", np.uint8, 1)])\n",
      "/opt/conda/lib/python3.6/site-packages/tensorflow/python/framework/dtypes.py:518: FutureWarning: Passing (type, 1) or '1type' as a synonym of type is deprecated; in a future version of numpy, it will be understood as (type, (1,)) / '(1,)type'.\n",
      "  _np_qint16 = np.dtype([(\"qint16\", np.int16, 1)])\n",
      "/opt/conda/lib/python3.6/site-packages/tensorflow/python/framework/dtypes.py:519: FutureWarning: Passing (type, 1) or '1type' as a synonym of type is deprecated; in a future version of numpy, it will be understood as (type, (1,)) / '(1,)type'.\n",
      "  _np_quint16 = np.dtype([(\"quint16\", np.uint16, 1)])\n",
      "/opt/conda/lib/python3.6/site-packages/tensorflow/python/framework/dtypes.py:520: FutureWarning: Passing (type, 1) or '1type' as a synonym of type is deprecated; in a future version of numpy, it will be understood as (type, (1,)) / '(1,)type'.\n",
      "  _np_qint32 = np.dtype([(\"qint32\", np.int32, 1)])\n",
      "/opt/conda/lib/python3.6/site-packages/tensorflow/python/framework/dtypes.py:525: FutureWarning: Passing (type, 1) or '1type' as a synonym of type is deprecated; in a future version of numpy, it will be understood as (type, (1,)) / '(1,)type'.\n",
      "  np_resource = np.dtype([(\"resource\", np.ubyte, 1)])\n",
      "/opt/conda/lib/python3.6/site-packages/tensorboard/compat/tensorflow_stub/dtypes.py:541: FutureWarning: Passing (type, 1) or '1type' as a synonym of type is deprecated; in a future version of numpy, it will be understood as (type, (1,)) / '(1,)type'.\n",
      "  _np_qint8 = np.dtype([(\"qint8\", np.int8, 1)])\n",
      "/opt/conda/lib/python3.6/site-packages/tensorboard/compat/tensorflow_stub/dtypes.py:542: FutureWarning: Passing (type, 1) or '1type' as a synonym of type is deprecated; in a future version of numpy, it will be understood as (type, (1,)) / '(1,)type'.\n",
      "  _np_quint8 = np.dtype([(\"quint8\", np.uint8, 1)])\n",
      "/opt/conda/lib/python3.6/site-packages/tensorboard/compat/tensorflow_stub/dtypes.py:543: FutureWarning: Passing (type, 1) or '1type' as a synonym of type is deprecated; in a future version of numpy, it will be understood as (type, (1,)) / '(1,)type'.\n",
      "  _np_qint16 = np.dtype([(\"qint16\", np.int16, 1)])\n",
      "/opt/conda/lib/python3.6/site-packages/tensorboard/compat/tensorflow_stub/dtypes.py:544: FutureWarning: Passing (type, 1) or '1type' as a synonym of type is deprecated; in a future version of numpy, it will be understood as (type, (1,)) / '(1,)type'.\n",
      "  _np_quint16 = np.dtype([(\"quint16\", np.uint16, 1)])\n",
      "/opt/conda/lib/python3.6/site-packages/tensorboard/compat/tensorflow_stub/dtypes.py:545: FutureWarning: Passing (type, 1) or '1type' as a synonym of type is deprecated; in a future version of numpy, it will be understood as (type, (1,)) / '(1,)type'.\n",
      "  _np_qint32 = np.dtype([(\"qint32\", np.int32, 1)])\n",
      "/opt/conda/lib/python3.6/site-packages/tensorboard/compat/tensorflow_stub/dtypes.py:550: FutureWarning: Passing (type, 1) or '1type' as a synonym of type is deprecated; in a future version of numpy, it will be understood as (type, (1,)) / '(1,)type'.\n",
      "  np_resource = np.dtype([(\"resource\", np.ubyte, 1)])\n"
     ]
    }
   ],
   "source": [
    "y_pred = np.exp(reg.predict(data_test)) - 1\n",
    "y_pred = pd.Series(y_pred, name='Sales')\n",
    "sub = pd.concat([test['Id'], y_pred], axis=1)\n",
    "sub.to_csv('sub.csv', index=False)"
   ]
  }
 ],
 "metadata": {
  "kernelspec": {
   "display_name": "Python 3",
   "language": "python",
   "name": "python3"
  },
  "language_info": {
   "codemirror_mode": {
    "name": "ipython",
    "version": 3
   },
   "file_extension": ".py",
   "mimetype": "text/x-python",
   "name": "python",
   "nbconvert_exporter": "python",
   "pygments_lexer": "ipython3",
   "version": "3.6.6"
  }
 },
 "nbformat": 4,
 "nbformat_minor": 1
}
