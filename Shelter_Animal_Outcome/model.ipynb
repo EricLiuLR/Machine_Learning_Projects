{
 "cells": [
  {
   "cell_type": "markdown",
   "metadata": {},
   "source": [
    "### Load the dataset"
   ]
  },
  {
   "cell_type": "code",
   "execution_count": 1,
   "metadata": {},
   "outputs": [],
   "source": [
    "import numpy as np\n",
    "import pandas as pd"
   ]
  },
  {
   "cell_type": "code",
   "execution_count": 2,
   "metadata": {},
   "outputs": [
    {
     "name": "stdout",
     "output_type": "stream",
     "text": [
      "train.shape: (26729, 10)\n",
      "test.shape: (11456, 8)\n"
     ]
    }
   ],
   "source": [
    "train = pd.read_csv('train.csv')\n",
    "test = pd.read_csv('test.csv')\n",
    "train.columns = [_.lower() for _ in train.columns]\n",
    "test.columns = [_.lower() for _ in test.columns]\n",
    "print('train.shape: {}'.format(train.shape))\n",
    "print('test.shape: {}'.format(test.shape))"
   ]
  },
  {
   "cell_type": "markdown",
   "metadata": {},
   "source": [
    "### Fill in missing values & Feature engineering"
   ]
  },
  {
   "cell_type": "markdown",
   "metadata": {},
   "source": [
    "#### Drop the useless attribute outcomesubtype"
   ]
  },
  {
   "cell_type": "code",
   "execution_count": 3,
   "metadata": {},
   "outputs": [],
   "source": [
    "train = train.drop('outcomesubtype', axis=1)"
   ]
  },
  {
   "cell_type": "markdown",
   "metadata": {},
   "source": [
    "#### Combine the training and testing data for easy processing"
   ]
  },
  {
   "cell_type": "code",
   "execution_count": 4,
   "metadata": {},
   "outputs": [
    {
     "name": "stdout",
     "output_type": "stream",
     "text": [
      "combine.shape: (38185, 7)\n"
     ]
    }
   ],
   "source": [
    "tmp_train = train.drop(['animalid', 'outcometype'], axis=1)\n",
    "tmp_test = test.drop('id', axis=1)\n",
    "sep = tmp_train.shape[0]\n",
    "combine = pd.concat([tmp_train, tmp_test], axis=0)\n",
    "print('combine.shape: {}'.format(combine.shape))"
   ]
  },
  {
   "cell_type": "code",
   "execution_count": 5,
   "metadata": {},
   "outputs": [
    {
     "data": {
      "text/html": [
       "<div>\n",
       "<style scoped>\n",
       "    .dataframe tbody tr th:only-of-type {\n",
       "        vertical-align: middle;\n",
       "    }\n",
       "\n",
       "    .dataframe tbody tr th {\n",
       "        vertical-align: top;\n",
       "    }\n",
       "\n",
       "    .dataframe thead th {\n",
       "        text-align: right;\n",
       "    }\n",
       "</style>\n",
       "<table border=\"1\" class=\"dataframe\">\n",
       "  <thead>\n",
       "    <tr style=\"text-align: right;\">\n",
       "      <th></th>\n",
       "      <th>name</th>\n",
       "      <th>datetime</th>\n",
       "      <th>animaltype</th>\n",
       "      <th>sexuponoutcome</th>\n",
       "      <th>ageuponoutcome</th>\n",
       "      <th>breed</th>\n",
       "      <th>color</th>\n",
       "    </tr>\n",
       "  </thead>\n",
       "  <tbody>\n",
       "    <tr>\n",
       "      <th>0</th>\n",
       "      <td>Hambone</td>\n",
       "      <td>2014-02-12 18:22:00</td>\n",
       "      <td>Dog</td>\n",
       "      <td>Neutered Male</td>\n",
       "      <td>1 year</td>\n",
       "      <td>Shetland Sheepdog Mix</td>\n",
       "      <td>Brown/White</td>\n",
       "    </tr>\n",
       "    <tr>\n",
       "      <th>1</th>\n",
       "      <td>Emily</td>\n",
       "      <td>2013-10-13 12:44:00</td>\n",
       "      <td>Cat</td>\n",
       "      <td>Spayed Female</td>\n",
       "      <td>1 year</td>\n",
       "      <td>Domestic Shorthair Mix</td>\n",
       "      <td>Cream Tabby</td>\n",
       "    </tr>\n",
       "    <tr>\n",
       "      <th>2</th>\n",
       "      <td>Pearce</td>\n",
       "      <td>2015-01-31 12:28:00</td>\n",
       "      <td>Dog</td>\n",
       "      <td>Neutered Male</td>\n",
       "      <td>2 years</td>\n",
       "      <td>Pit Bull Mix</td>\n",
       "      <td>Blue/White</td>\n",
       "    </tr>\n",
       "    <tr>\n",
       "      <th>3</th>\n",
       "      <td>NaN</td>\n",
       "      <td>2014-07-11 19:09:00</td>\n",
       "      <td>Cat</td>\n",
       "      <td>Intact Male</td>\n",
       "      <td>3 weeks</td>\n",
       "      <td>Domestic Shorthair Mix</td>\n",
       "      <td>Blue Cream</td>\n",
       "    </tr>\n",
       "    <tr>\n",
       "      <th>4</th>\n",
       "      <td>NaN</td>\n",
       "      <td>2013-11-15 12:52:00</td>\n",
       "      <td>Dog</td>\n",
       "      <td>Neutered Male</td>\n",
       "      <td>2 years</td>\n",
       "      <td>Lhasa Apso/Miniature Poodle</td>\n",
       "      <td>Tan</td>\n",
       "    </tr>\n",
       "  </tbody>\n",
       "</table>\n",
       "</div>"
      ],
      "text/plain": [
       "      name             datetime animaltype sexuponoutcome ageuponoutcome  \\\n",
       "0  Hambone  2014-02-12 18:22:00        Dog  Neutered Male         1 year   \n",
       "1    Emily  2013-10-13 12:44:00        Cat  Spayed Female         1 year   \n",
       "2   Pearce  2015-01-31 12:28:00        Dog  Neutered Male        2 years   \n",
       "3      NaN  2014-07-11 19:09:00        Cat    Intact Male        3 weeks   \n",
       "4      NaN  2013-11-15 12:52:00        Dog  Neutered Male        2 years   \n",
       "\n",
       "                         breed        color  \n",
       "0        Shetland Sheepdog Mix  Brown/White  \n",
       "1       Domestic Shorthair Mix  Cream Tabby  \n",
       "2                 Pit Bull Mix   Blue/White  \n",
       "3       Domestic Shorthair Mix   Blue Cream  \n",
       "4  Lhasa Apso/Miniature Poodle          Tan  "
      ]
     },
     "execution_count": 5,
     "metadata": {},
     "output_type": "execute_result"
    }
   ],
   "source": [
    "combine.head()"
   ]
  },
  {
   "cell_type": "markdown",
   "metadata": {},
   "source": [
    "#### Create the hasname attribute and drop the original name"
   ]
  },
  {
   "cell_type": "code",
   "execution_count": 6,
   "metadata": {},
   "outputs": [],
   "source": [
    "combine['hasname'] = combine.name.notnull().astype(int)\n",
    "combine = combine.drop('name', axis=1)"
   ]
  },
  {
   "cell_type": "markdown",
   "metadata": {},
   "source": [
    "#### Get the time attributes and drop the original datetime"
   ]
  },
  {
   "cell_type": "code",
   "execution_count": 7,
   "metadata": {},
   "outputs": [],
   "source": [
    "combine['datetime'] = pd.to_datetime(combine.datetime)\n",
    "combine['year'] = combine.datetime.dt.year\n",
    "combine['month'] = combine.datetime.dt.month\n",
    "combine['day'] = combine.datetime.dt.day\n",
    "combine['hour'] = combine.datetime.dt.hour\n",
    "combine = combine.drop('datetime', axis=1)"
   ]
  },
  {
   "cell_type": "markdown",
   "metadata": {},
   "source": [
    "#### Use 'intact' to replace 'sexuponoutcome'"
   ]
  },
  {
   "cell_type": "code",
   "execution_count": 8,
   "metadata": {},
   "outputs": [],
   "source": [
    "combine['intact'] = combine.sexuponoutcome.fillna('Unknown').map({\n",
    "    'Neutered Male': 0,\n",
    "    'Spayed Female': 0,\n",
    "    'Intact Male': 1,\n",
    "    'Intact Female': 1,\n",
    "    'Unknown': 1\n",
    "})\n",
    "combine['sex_only'] = combine.sexuponoutcome.fillna('Unknown').map({\n",
    "    'Neutered Male': 'Male',\n",
    "    'Spayed Female': 'Female',\n",
    "    'Intact Male': 'Male',\n",
    "    'Intact Female': 'Female',\n",
    "    'Unknown': 'Unknown'\n",
    "}).astype('category').cat.codes\n",
    "combine = combine.drop('sexuponoutcome', axis=1)"
   ]
  },
  {
   "cell_type": "markdown",
   "metadata": {},
   "source": [
    "#### Transfer animaltype into a binary attribute, use 1 to represent dog"
   ]
  },
  {
   "cell_type": "code",
   "execution_count": 9,
   "metadata": {},
   "outputs": [],
   "source": [
    "combine['animaltype'] = combine.animaltype.apply(lambda x: int(x=='Dog'))"
   ]
  },
  {
   "cell_type": "markdown",
   "metadata": {},
   "source": [
    "#### Transfer sexuponoutcome into days and fill in the missing values"
   ]
  },
  {
   "cell_type": "code",
   "execution_count": 10,
   "metadata": {},
   "outputs": [],
   "source": [
    "def age_transfer(age_str):\n",
    "    num = age_str.split(' ')[0]\n",
    "    num = int(num)\n",
    "    if 'day' in age_str:\n",
    "        return num\n",
    "    elif 'week' in age_str:\n",
    "        return num * 7\n",
    "    elif 'month' in age_str:\n",
    "        return num * 30\n",
    "    elif 'year' in age_str:\n",
    "        return num * 365\n",
    "    else:\n",
    "        return np.nan\n",
    "    \n",
    "combine['ageuponoutcome'] = combine.ageuponoutcome.fillna('0').apply(age_transfer)\n",
    "combine['ageuponoutcome'] = combine.groupby(['animaltype', 'intact']).ageuponoutcome.transform(lambda x: x.fillna(x.median()))"
   ]
  },
  {
   "cell_type": "markdown",
   "metadata": {},
   "source": [
    "#### Extract some attributes from breed"
   ]
  },
  {
   "cell_type": "code",
   "execution_count": 11,
   "metadata": {},
   "outputs": [],
   "source": [
    "# Hair\n",
    "combine['hair'] = combine.breed.str.extract(r'(\\w+)\\s?[hH]air', expand=False).fillna('Unclear').astype('category').cat.codes\n",
    "\n",
    "# Mix\n",
    "combine['mix'] = combine.breed.str.contains('Mix').astype(int)\n",
    "\n",
    "# Domestic\n",
    "combine['domestic'] = combine.breed.str.contains('Domestic').astype(int)\n",
    "    \n",
    "# Drop the original\n",
    "combine = combine.drop('breed', axis=1)"
   ]
  },
  {
   "cell_type": "markdown",
   "metadata": {},
   "source": [
    "#### Create attribute 'morethanonecolor' from color and drop color attribute"
   ]
  },
  {
   "cell_type": "code",
   "execution_count": 12,
   "metadata": {},
   "outputs": [],
   "source": [
    "combine['morethanonecolor'] = combine.color.str.contains('/').astype(int)\n",
    "\n",
    "combine = combine.drop('color', axis=1)"
   ]
  },
  {
   "cell_type": "code",
   "execution_count": 13,
   "metadata": {},
   "outputs": [
    {
     "data": {
      "text/html": [
       "<div>\n",
       "<style scoped>\n",
       "    .dataframe tbody tr th:only-of-type {\n",
       "        vertical-align: middle;\n",
       "    }\n",
       "\n",
       "    .dataframe tbody tr th {\n",
       "        vertical-align: top;\n",
       "    }\n",
       "\n",
       "    .dataframe thead th {\n",
       "        text-align: right;\n",
       "    }\n",
       "</style>\n",
       "<table border=\"1\" class=\"dataframe\">\n",
       "  <thead>\n",
       "    <tr style=\"text-align: right;\">\n",
       "      <th></th>\n",
       "      <th>animaltype</th>\n",
       "      <th>ageuponoutcome</th>\n",
       "      <th>hasname</th>\n",
       "      <th>year</th>\n",
       "      <th>month</th>\n",
       "      <th>day</th>\n",
       "      <th>hour</th>\n",
       "      <th>intact</th>\n",
       "      <th>sex_only</th>\n",
       "      <th>hair</th>\n",
       "      <th>mix</th>\n",
       "      <th>domestic</th>\n",
       "      <th>morethanonecolor</th>\n",
       "    </tr>\n",
       "  </thead>\n",
       "  <tbody>\n",
       "    <tr>\n",
       "      <th>0</th>\n",
       "      <td>1</td>\n",
       "      <td>365.0</td>\n",
       "      <td>1</td>\n",
       "      <td>2014</td>\n",
       "      <td>2</td>\n",
       "      <td>12</td>\n",
       "      <td>18</td>\n",
       "      <td>0</td>\n",
       "      <td>1</td>\n",
       "      <td>4</td>\n",
       "      <td>1</td>\n",
       "      <td>0</td>\n",
       "      <td>1</td>\n",
       "    </tr>\n",
       "    <tr>\n",
       "      <th>1</th>\n",
       "      <td>0</td>\n",
       "      <td>365.0</td>\n",
       "      <td>1</td>\n",
       "      <td>2013</td>\n",
       "      <td>10</td>\n",
       "      <td>13</td>\n",
       "      <td>12</td>\n",
       "      <td>0</td>\n",
       "      <td>0</td>\n",
       "      <td>3</td>\n",
       "      <td>1</td>\n",
       "      <td>1</td>\n",
       "      <td>0</td>\n",
       "    </tr>\n",
       "    <tr>\n",
       "      <th>2</th>\n",
       "      <td>1</td>\n",
       "      <td>730.0</td>\n",
       "      <td>1</td>\n",
       "      <td>2015</td>\n",
       "      <td>1</td>\n",
       "      <td>31</td>\n",
       "      <td>12</td>\n",
       "      <td>0</td>\n",
       "      <td>1</td>\n",
       "      <td>4</td>\n",
       "      <td>1</td>\n",
       "      <td>0</td>\n",
       "      <td>1</td>\n",
       "    </tr>\n",
       "    <tr>\n",
       "      <th>3</th>\n",
       "      <td>0</td>\n",
       "      <td>21.0</td>\n",
       "      <td>0</td>\n",
       "      <td>2014</td>\n",
       "      <td>7</td>\n",
       "      <td>11</td>\n",
       "      <td>19</td>\n",
       "      <td>1</td>\n",
       "      <td>1</td>\n",
       "      <td>3</td>\n",
       "      <td>1</td>\n",
       "      <td>1</td>\n",
       "      <td>0</td>\n",
       "    </tr>\n",
       "    <tr>\n",
       "      <th>4</th>\n",
       "      <td>1</td>\n",
       "      <td>730.0</td>\n",
       "      <td>0</td>\n",
       "      <td>2013</td>\n",
       "      <td>11</td>\n",
       "      <td>15</td>\n",
       "      <td>12</td>\n",
       "      <td>0</td>\n",
       "      <td>1</td>\n",
       "      <td>4</td>\n",
       "      <td>0</td>\n",
       "      <td>0</td>\n",
       "      <td>0</td>\n",
       "    </tr>\n",
       "  </tbody>\n",
       "</table>\n",
       "</div>"
      ],
      "text/plain": [
       "   animaltype  ageuponoutcome  hasname  year  month  day  hour  intact  \\\n",
       "0           1           365.0        1  2014      2   12    18       0   \n",
       "1           0           365.0        1  2013     10   13    12       0   \n",
       "2           1           730.0        1  2015      1   31    12       0   \n",
       "3           0            21.0        0  2014      7   11    19       1   \n",
       "4           1           730.0        0  2013     11   15    12       0   \n",
       "\n",
       "   sex_only  hair  mix  domestic  morethanonecolor  \n",
       "0         1     4    1         0                 1  \n",
       "1         0     3    1         1                 0  \n",
       "2         1     4    1         0                 1  \n",
       "3         1     3    1         1                 0  \n",
       "4         1     4    0         0                 0  "
      ]
     },
     "execution_count": 13,
     "metadata": {},
     "output_type": "execute_result"
    }
   ],
   "source": [
    "combine.head()"
   ]
  },
  {
   "cell_type": "markdown",
   "metadata": {},
   "source": [
    "### Prepare the data for modeling"
   ]
  },
  {
   "cell_type": "code",
   "execution_count": 14,
   "metadata": {},
   "outputs": [],
   "source": [
    "X_train = combine[:sep]\n",
    "y_train = train['outcometype']\n",
    "X_test = combine[sep:]"
   ]
  },
  {
   "cell_type": "code",
   "execution_count": 15,
   "metadata": {},
   "outputs": [],
   "source": [
    "from sklearn.model_selection import cross_val_score\n",
    "from sklearn.model_selection import GridSearchCV\n",
    "from sklearn.model_selection import StratifiedKFold\n",
    "from lightgbm.sklearn import LGBMClassifier\n",
    "from sklearn.ensemble import RandomForestClassifier\n",
    "from sklearn.ensemble import VotingClassifier"
   ]
  },
  {
   "cell_type": "markdown",
   "metadata": {},
   "source": [
    "### Set up the metric"
   ]
  },
  {
   "cell_type": "code",
   "execution_count": 16,
   "metadata": {},
   "outputs": [],
   "source": [
    "mt = 'neg_log_loss'\n",
    "kf = StratifiedKFold(n_splits=8, shuffle=True, random_state=0)"
   ]
  },
  {
   "cell_type": "code",
   "execution_count": 17,
   "metadata": {},
   "outputs": [],
   "source": [
    "def performance(model):\n",
    "    scores = - cross_val_score(model, X_train, y_train, cv=kf, scoring=mt, n_jobs=4)\n",
    "    print('score mean: {:.4f}'.format(scores.mean()))\n",
    "    print('score std: {:.4f}'.format(scores.std()))\n",
    "    \n",
    "def grid_search(model, params):\n",
    "    grid = GridSearchCV(model, params, cv=kf, scoring=mt, verbose=True, n_jobs=4).fit(X_train, y_train)\n",
    "    print('grid.best_score_:{:.4f}'.format(- grid.best_score_))\n",
    "    print('grid.best_params_:\\n{}'.format(grid.best_params_))\n",
    "    return grid.best_estimator_"
   ]
  },
  {
   "cell_type": "markdown",
   "metadata": {},
   "source": [
    "### Get the baselines"
   ]
  },
  {
   "cell_type": "code",
   "execution_count": 18,
   "metadata": {},
   "outputs": [
    {
     "name": "stdout",
     "output_type": "stream",
     "text": [
      "score mean: 0.7656\n",
      "score std: 0.0154\n",
      "Wall time: 37 s\n"
     ]
    }
   ],
   "source": [
    "%%time\n",
    "performance(LGBMClassifier())"
   ]
  },
  {
   "cell_type": "code",
   "execution_count": 19,
   "metadata": {},
   "outputs": [
    {
     "name": "stdout",
     "output_type": "stream",
     "text": [
      "score mean: 0.9978\n",
      "score std: 0.0538\n",
      "Wall time: 18.5 s\n"
     ]
    }
   ],
   "source": [
    "%%time\n",
    "performance(RandomForestClassifier(n_estimators=100))"
   ]
  },
  {
   "cell_type": "code",
   "execution_count": 20,
   "metadata": {},
   "outputs": [
    {
     "name": "stdout",
     "output_type": "stream",
     "text": [
      "score mean: 0.7594\n",
      "score std: 0.0161\n"
     ]
    }
   ],
   "source": [
    "performance(VotingClassifier([\n",
    "    ('lgb_clf', LGBMClassifier()),\n",
    "    ('rdf_clf', RandomForestClassifier(n_estimators=100)),\n",
    "], voting='soft'))"
   ]
  },
  {
   "cell_type": "markdown",
   "metadata": {},
   "source": [
    "### Search for the best parameters"
   ]
  },
  {
   "cell_type": "code",
   "execution_count": 21,
   "metadata": {},
   "outputs": [
    {
     "name": "stdout",
     "output_type": "stream",
     "text": [
      "Fitting 8 folds for each of 1 candidates, totalling 8 fits\n"
     ]
    },
    {
     "name": "stderr",
     "output_type": "stream",
     "text": [
      "[Parallel(n_jobs=4)]: Using backend LokyBackend with 4 concurrent workers.\n",
      "[Parallel(n_jobs=4)]: Done   8 out of   8 | elapsed:   23.3s finished\n"
     ]
    },
    {
     "name": "stdout",
     "output_type": "stream",
     "text": [
      "grid.best_score_:0.7733\n",
      "grid.best_params_:\n",
      "{'max_depth': 13, 'max_features': 0.4, 'min_samples_split': 3, 'n_estimators': 100, 'random_state': 0}\n"
     ]
    }
   ],
   "source": [
    "params = {\n",
    "    'random_state': [0],\n",
    "    'n_estimators': [100],\n",
    "    'max_depth': [13],\n",
    "    'min_samples_split': [3],\n",
    "    'max_features': [0.4]\n",
    "}\n",
    "rdf_clf = grid_search(RandomForestClassifier(), params)"
   ]
  },
  {
   "cell_type": "code",
   "execution_count": 22,
   "metadata": {},
   "outputs": [
    {
     "name": "stdout",
     "output_type": "stream",
     "text": [
      "Fitting 8 folds for each of 1 candidates, totalling 8 fits\n"
     ]
    },
    {
     "name": "stderr",
     "output_type": "stream",
     "text": [
      "[Parallel(n_jobs=4)]: Using backend LokyBackend with 4 concurrent workers.\n",
      "[Parallel(n_jobs=4)]: Done   8 out of   8 | elapsed:  3.8min finished\n"
     ]
    },
    {
     "name": "stdout",
     "output_type": "stream",
     "text": [
      "grid.best_score_:0.7543\n",
      "grid.best_params_:\n",
      "{'colsample_bytree': 0.9, 'learning_rate': 0.03, 'max_depth': 16, 'n_estimators': 1000, 'num_leaves': 38, 'random_state': 0, 'reg_alpha': 1e-07, 'reg_lambda': 1, 'subsample': 0.1}\n"
     ]
    }
   ],
   "source": [
    "params = {\n",
    "    'random_state': [0],\n",
    "    'n_estimators': [1000],\n",
    "    'learning_rate': [0.03],\n",
    "    'num_leaves': [38],\n",
    "    'max_depth': [16],\n",
    "    'reg_alpha': [1e-7],\n",
    "    'reg_lambda': [1],\n",
    "    'subsample': [0.1],\n",
    "    'colsample_bytree': [0.9]\n",
    "}\n",
    "\n",
    "lgb_clf = grid_search(LGBMClassifier(), params)"
   ]
  },
  {
   "cell_type": "code",
   "execution_count": 23,
   "metadata": {},
   "outputs": [
    {
     "name": "stdout",
     "output_type": "stream",
     "text": [
      "score mean: 0.7494\n",
      "score std: 0.0162\n"
     ]
    }
   ],
   "source": [
    "performance(VotingClassifier([\n",
    "    ('lgb_clf', lgb_clf),\n",
    "    ('rdf_clf', rdf_clf)\n",
    "], voting='soft'))"
   ]
  },
  {
   "cell_type": "code",
   "execution_count": 24,
   "metadata": {},
   "outputs": [],
   "source": [
    "vote_clf = VotingClassifier([\n",
    "    ('lgb_clf', lgb_clf),\n",
    "    ('rdf_clf', rdf_clf)\n",
    "], voting='soft').fit(X_train, y_train)"
   ]
  },
  {
   "cell_type": "markdown",
   "metadata": {},
   "source": [
    "### Feature importance"
   ]
  },
  {
   "cell_type": "code",
   "execution_count": 27,
   "metadata": {},
   "outputs": [
    {
     "data": {
      "image/png": "[encoded data removed]",
      "text/plain": [
       "<Figure size 1440x576 with 2 Axes>"
      ]
     },
     "metadata": {
      "needs_background": "light"
     },
     "output_type": "display_data"
    }
   ],
   "source": [
    "import seaborn as sns\n",
    "import matplotlib.pyplot as plt\n",
    "\n",
    "plt.figure(figsize=(20, 8))\n",
    "for i, title in enumerate(['LightGBM Feature Importance', 'RandomForest Feature Importance']):\n",
    "    plt.subplot(1, 2, i+1)\n",
    "    clf = vote_clf.estimators_[i]\n",
    "    feature_importance = clf.feature_importances_\n",
    "    feature_importance = pd.Series(feature_importance, index=X_train.columns).reset_index()\n",
    "    feature_importance.columns = ['feature', 'importance']\n",
    "    feature_importance = feature_importance.sort_values('importance', ascending=False).reset_index(drop=True)\n",
    "    sns.barplot(data=feature_importance, x='importance', y='feature')\n",
    "    plt.ylabel(None)\n",
    "    plt.title(title)\n",
    "plt.show()"
   ]
  },
  {
   "cell_type": "markdown",
   "metadata": {},
   "source": [
    "### Make submission"
   ]
  },
  {
   "cell_type": "code",
   "execution_count": 36,
   "metadata": {},
   "outputs": [],
   "source": [
    "test_id = pd.Series(test.id.values, name='ID')\n",
    "y_pred = vote_clf.fit(X_train, y_train).predict_proba(X_test)\n",
    "y_pred = pd.DataFrame(y_pred, columns=vote_clf.classes_)\n",
    "sub = pd.concat([test_id, y_pred], axis=1)\n",
    "sub.to_csv('sub.csv', index=False)"
   ]
  }
 ],
 "metadata": {
  "kernelspec": {
   "display_name": "Python 3",
   "language": "python",
   "name": "python3"
  },
  "language_info": {
   "codemirror_mode": {
    "name": "ipython",
    "version": 3
   },
   "file_extension": ".py",
   "mimetype": "text/x-python",
   "name": "python",
   "nbconvert_exporter": "python",
   "pygments_lexer": "ipython3",
   "version": "3.7.3"
  }
 },
 "nbformat": 4,
 "nbformat_minor": 2
}
