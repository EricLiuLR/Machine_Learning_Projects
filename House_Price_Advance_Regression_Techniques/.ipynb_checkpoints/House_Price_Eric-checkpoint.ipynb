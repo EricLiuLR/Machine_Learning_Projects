{
 "cells": [
  {
   "cell_type": "markdown",
   "metadata": {},
   "source": [
    "## Project Outline\n",
    "* Set up the metric\n",
    "* Prepare the data\n",
    "* Exploratory data analysis(stored in another notebook)\n",
    "* Get rid of outliers\n",
    "* Fill in the missing values\n",
    "* Feature engineering\n",
    "* Feature selection (based on Lasso)\n",
    "* Base model tunning\n",
    "* Blending\n",
    "* Make predictions"
   ]
  },
  {
   "cell_type": "code",
   "execution_count": 1,
   "metadata": {},
   "outputs": [
    {
     "name": "stderr",
     "output_type": "stream",
     "text": [
      "/home/eric/anaconda3/lib/python3.7/site-packages/sklearn/ensemble/weight_boosting.py:29: DeprecationWarning: numpy.core.umath_tests is an internal NumPy module and should not be imported. It will be removed in a future NumPy release.\n",
      "  from numpy.core.umath_tests import inner1d\n"
     ]
    }
   ],
   "source": [
    "import numpy as np\n",
    "import pandas as pd\n",
    "from sklearn.linear_model import Ridge\n",
    "from sklearn.linear_model import Lasso\n",
    "from sklearn.linear_model import ElasticNet\n",
    "from sklearn.ensemble import RandomForestRegressor\n",
    "from sklearn.ensemble import GradientBoostingRegressor\n",
    "from xgboost.sklearn import XGBRegressor\n",
    "from sklearn.model_selection import cross_val_score\n",
    "from sklearn.model_selection import cross_val_predict\n",
    "from sklearn.model_selection import GridSearchCV\n",
    "from sklearn.model_selection import KFold\n",
    "from sklearn.preprocessing import StandardScaler\n",
    "import warnings\n",
    "warnings.filterwarnings('ignore')"
   ]
  },
  {
   "cell_type": "markdown",
   "metadata": {},
   "source": [
    "### Set up the Metric"
   ]
  },
  {
   "cell_type": "code",
   "execution_count": 2,
   "metadata": {},
   "outputs": [],
   "source": [
    "metric = 'neg_mean_squared_error'\n",
    "kf = KFold(n_splits=8, shuffle=True, random_state=0)"
   ]
  },
  {
   "cell_type": "code",
   "execution_count": 3,
   "metadata": {},
   "outputs": [],
   "source": [
    "def performance(model):\n",
    "    score = np.sqrt(-cross_val_score(model, X_train, y_train, cv=kf, scoring=metric, n_jobs=4)).mean()\n",
    "    return score"
   ]
  },
  {
   "cell_type": "code",
   "execution_count": 4,
   "metadata": {},
   "outputs": [],
   "source": [
    "def grid_search(model, params):\n",
    "    grid = GridSearchCV(model, params, cv=kf, scoring=metric, n_jobs=4, verbose=True).fit(X_train, y_train)\n",
    "    print(grid.best_params_)\n",
    "    print(np.sqrt(-grid.best_score_))\n",
    "    return grid.best_estimator_"
   ]
  },
  {
   "cell_type": "markdown",
   "metadata": {},
   "source": [
    "### Prepare the Data"
   ]
  },
  {
   "cell_type": "code",
   "execution_count": 5,
   "metadata": {},
   "outputs": [],
   "source": [
    "train = pd.read_csv('train.csv')\n",
    "test = pd.read_csv('test.csv')\n",
    "test_id = test['Id']\n",
    "train.columns = [i.lower() for i in train.columns]\n",
    "test.columns = [i.lower() for i in test.columns]"
   ]
  },
  {
   "cell_type": "code",
   "execution_count": 6,
   "metadata": {},
   "outputs": [
    {
     "data": {
      "text/plain": [
       "((1460, 81), (1459, 80))"
      ]
     },
     "execution_count": 6,
     "metadata": {},
     "output_type": "execute_result"
    }
   ],
   "source": [
    "train.shape, test.shape"
   ]
  },
  {
   "cell_type": "code",
   "execution_count": 7,
   "metadata": {},
   "outputs": [
    {
     "data": {
      "text/html": [
       "<div>\n",
       "<style scoped>\n",
       "    .dataframe tbody tr th:only-of-type {\n",
       "        vertical-align: middle;\n",
       "    }\n",
       "\n",
       "    .dataframe tbody tr th {\n",
       "        vertical-align: top;\n",
       "    }\n",
       "\n",
       "    .dataframe thead th {\n",
       "        text-align: right;\n",
       "    }\n",
       "</style>\n",
       "<table border=\"1\" class=\"dataframe\">\n",
       "  <thead>\n",
       "    <tr style=\"text-align: right;\">\n",
       "      <th></th>\n",
       "      <th>id</th>\n",
       "      <th>mssubclass</th>\n",
       "      <th>mszoning</th>\n",
       "      <th>lotfrontage</th>\n",
       "      <th>lotarea</th>\n",
       "      <th>street</th>\n",
       "      <th>alley</th>\n",
       "      <th>lotshape</th>\n",
       "      <th>landcontour</th>\n",
       "      <th>utilities</th>\n",
       "      <th>...</th>\n",
       "      <th>poolarea</th>\n",
       "      <th>poolqc</th>\n",
       "      <th>fence</th>\n",
       "      <th>miscfeature</th>\n",
       "      <th>miscval</th>\n",
       "      <th>mosold</th>\n",
       "      <th>yrsold</th>\n",
       "      <th>saletype</th>\n",
       "      <th>salecondition</th>\n",
       "      <th>saleprice</th>\n",
       "    </tr>\n",
       "  </thead>\n",
       "  <tbody>\n",
       "    <tr>\n",
       "      <th>0</th>\n",
       "      <td>1</td>\n",
       "      <td>60</td>\n",
       "      <td>RL</td>\n",
       "      <td>65.0</td>\n",
       "      <td>8450</td>\n",
       "      <td>Pave</td>\n",
       "      <td>NaN</td>\n",
       "      <td>Reg</td>\n",
       "      <td>Lvl</td>\n",
       "      <td>AllPub</td>\n",
       "      <td>...</td>\n",
       "      <td>0</td>\n",
       "      <td>NaN</td>\n",
       "      <td>NaN</td>\n",
       "      <td>NaN</td>\n",
       "      <td>0</td>\n",
       "      <td>2</td>\n",
       "      <td>2008</td>\n",
       "      <td>WD</td>\n",
       "      <td>Normal</td>\n",
       "      <td>208500</td>\n",
       "    </tr>\n",
       "    <tr>\n",
       "      <th>1</th>\n",
       "      <td>2</td>\n",
       "      <td>20</td>\n",
       "      <td>RL</td>\n",
       "      <td>80.0</td>\n",
       "      <td>9600</td>\n",
       "      <td>Pave</td>\n",
       "      <td>NaN</td>\n",
       "      <td>Reg</td>\n",
       "      <td>Lvl</td>\n",
       "      <td>AllPub</td>\n",
       "      <td>...</td>\n",
       "      <td>0</td>\n",
       "      <td>NaN</td>\n",
       "      <td>NaN</td>\n",
       "      <td>NaN</td>\n",
       "      <td>0</td>\n",
       "      <td>5</td>\n",
       "      <td>2007</td>\n",
       "      <td>WD</td>\n",
       "      <td>Normal</td>\n",
       "      <td>181500</td>\n",
       "    </tr>\n",
       "    <tr>\n",
       "      <th>2</th>\n",
       "      <td>3</td>\n",
       "      <td>60</td>\n",
       "      <td>RL</td>\n",
       "      <td>68.0</td>\n",
       "      <td>11250</td>\n",
       "      <td>Pave</td>\n",
       "      <td>NaN</td>\n",
       "      <td>IR1</td>\n",
       "      <td>Lvl</td>\n",
       "      <td>AllPub</td>\n",
       "      <td>...</td>\n",
       "      <td>0</td>\n",
       "      <td>NaN</td>\n",
       "      <td>NaN</td>\n",
       "      <td>NaN</td>\n",
       "      <td>0</td>\n",
       "      <td>9</td>\n",
       "      <td>2008</td>\n",
       "      <td>WD</td>\n",
       "      <td>Normal</td>\n",
       "      <td>223500</td>\n",
       "    </tr>\n",
       "    <tr>\n",
       "      <th>3</th>\n",
       "      <td>4</td>\n",
       "      <td>70</td>\n",
       "      <td>RL</td>\n",
       "      <td>60.0</td>\n",
       "      <td>9550</td>\n",
       "      <td>Pave</td>\n",
       "      <td>NaN</td>\n",
       "      <td>IR1</td>\n",
       "      <td>Lvl</td>\n",
       "      <td>AllPub</td>\n",
       "      <td>...</td>\n",
       "      <td>0</td>\n",
       "      <td>NaN</td>\n",
       "      <td>NaN</td>\n",
       "      <td>NaN</td>\n",
       "      <td>0</td>\n",
       "      <td>2</td>\n",
       "      <td>2006</td>\n",
       "      <td>WD</td>\n",
       "      <td>Abnorml</td>\n",
       "      <td>140000</td>\n",
       "    </tr>\n",
       "    <tr>\n",
       "      <th>4</th>\n",
       "      <td>5</td>\n",
       "      <td>60</td>\n",
       "      <td>RL</td>\n",
       "      <td>84.0</td>\n",
       "      <td>14260</td>\n",
       "      <td>Pave</td>\n",
       "      <td>NaN</td>\n",
       "      <td>IR1</td>\n",
       "      <td>Lvl</td>\n",
       "      <td>AllPub</td>\n",
       "      <td>...</td>\n",
       "      <td>0</td>\n",
       "      <td>NaN</td>\n",
       "      <td>NaN</td>\n",
       "      <td>NaN</td>\n",
       "      <td>0</td>\n",
       "      <td>12</td>\n",
       "      <td>2008</td>\n",
       "      <td>WD</td>\n",
       "      <td>Normal</td>\n",
       "      <td>250000</td>\n",
       "    </tr>\n",
       "  </tbody>\n",
       "</table>\n",
       "<p>5 rows × 81 columns</p>\n",
       "</div>"
      ],
      "text/plain": [
       "   id  mssubclass mszoning  lotfrontage  lotarea street alley lotshape  \\\n",
       "0   1          60       RL         65.0     8450   Pave   NaN      Reg   \n",
       "1   2          20       RL         80.0     9600   Pave   NaN      Reg   \n",
       "2   3          60       RL         68.0    11250   Pave   NaN      IR1   \n",
       "3   4          70       RL         60.0     9550   Pave   NaN      IR1   \n",
       "4   5          60       RL         84.0    14260   Pave   NaN      IR1   \n",
       "\n",
       "  landcontour utilities    ...     poolarea poolqc fence miscfeature miscval  \\\n",
       "0         Lvl    AllPub    ...            0    NaN   NaN         NaN       0   \n",
       "1         Lvl    AllPub    ...            0    NaN   NaN         NaN       0   \n",
       "2         Lvl    AllPub    ...            0    NaN   NaN         NaN       0   \n",
       "3         Lvl    AllPub    ...            0    NaN   NaN         NaN       0   \n",
       "4         Lvl    AllPub    ...            0    NaN   NaN         NaN       0   \n",
       "\n",
       "  mosold yrsold  saletype  salecondition  saleprice  \n",
       "0      2   2008        WD         Normal     208500  \n",
       "1      5   2007        WD         Normal     181500  \n",
       "2      9   2008        WD         Normal     223500  \n",
       "3      2   2006        WD        Abnorml     140000  \n",
       "4     12   2008        WD         Normal     250000  \n",
       "\n",
       "[5 rows x 81 columns]"
      ]
     },
     "execution_count": 7,
     "metadata": {},
     "output_type": "execute_result"
    }
   ],
   "source": [
    "train.head()"
   ]
  },
  {
   "cell_type": "markdown",
   "metadata": {},
   "source": [
    "### Get Rid of Outliers"
   ]
  },
  {
   "cell_type": "code",
   "execution_count": 8,
   "metadata": {},
   "outputs": [],
   "source": [
    "train = train.drop(train[train.lotfrontage>300].index)\n",
    "train = train.drop(train[train.lotarea>100000].index)\n",
    "train = train.drop(train[train.grlivarea>4000].index)"
   ]
  },
  {
   "cell_type": "code",
   "execution_count": 9,
   "metadata": {},
   "outputs": [
    {
     "data": {
      "text/plain": [
       "(1451, 81)"
      ]
     },
     "execution_count": 9,
     "metadata": {},
     "output_type": "execute_result"
    }
   ],
   "source": [
    "train.shape"
   ]
  },
  {
   "cell_type": "code",
   "execution_count": 10,
   "metadata": {},
   "outputs": [
    {
     "data": {
      "text/plain": [
       "Index(['id', 'mssubclass', 'mszoning', 'lotfrontage', 'lotarea', 'street',\n",
       "       'alley', 'lotshape', 'landcontour', 'utilities', 'lotconfig',\n",
       "       'landslope', 'neighborhood', 'condition1', 'condition2', 'bldgtype',\n",
       "       'housestyle', 'overallqual', 'overallcond', 'yearbuilt', 'yearremodadd',\n",
       "       'roofstyle', 'roofmatl', 'exterior1st', 'exterior2nd', 'masvnrtype',\n",
       "       'masvnrarea', 'exterqual', 'extercond', 'foundation', 'bsmtqual',\n",
       "       'bsmtcond', 'bsmtexposure', 'bsmtfintype1', 'bsmtfinsf1',\n",
       "       'bsmtfintype2', 'bsmtfinsf2', 'bsmtunfsf', 'totalbsmtsf', 'heating',\n",
       "       'heatingqc', 'centralair', 'electrical', '1stflrsf', '2ndflrsf',\n",
       "       'lowqualfinsf', 'grlivarea', 'bsmtfullbath', 'bsmthalfbath', 'fullbath',\n",
       "       'halfbath', 'bedroomabvgr', 'kitchenabvgr', 'kitchenqual',\n",
       "       'totrmsabvgrd', 'functional', 'fireplaces', 'fireplacequ', 'garagetype',\n",
       "       'garageyrblt', 'garagefinish', 'garagecars', 'garagearea', 'garagequal',\n",
       "       'garagecond', 'paveddrive', 'wooddecksf', 'openporchsf',\n",
       "       'enclosedporch', '3ssnporch', 'screenporch', 'poolarea', 'poolqc',\n",
       "       'fence', 'miscfeature', 'miscval', 'mosold', 'yrsold', 'saletype',\n",
       "       'salecondition', 'saleprice'],\n",
       "      dtype='object')"
      ]
     },
     "execution_count": 10,
     "metadata": {},
     "output_type": "execute_result"
    }
   ],
   "source": [
    "train.columns"
   ]
  },
  {
   "cell_type": "markdown",
   "metadata": {},
   "source": [
    "### Combine the Data for Processing"
   ]
  },
  {
   "cell_type": "code",
   "execution_count": 11,
   "metadata": {},
   "outputs": [],
   "source": [
    "sep = train.shape[0]\n",
    "combine = train.drop('saleprice', axis=1).append(test)"
   ]
  },
  {
   "cell_type": "code",
   "execution_count": 12,
   "metadata": {},
   "outputs": [
    {
     "data": {
      "text/plain": [
       "(2910, 80)"
      ]
     },
     "execution_count": 12,
     "metadata": {},
     "output_type": "execute_result"
    }
   ],
   "source": [
    "combine.shape"
   ]
  },
  {
   "cell_type": "markdown",
   "metadata": {},
   "source": [
    "### Fill in the Missing Values"
   ]
  },
  {
   "cell_type": "code",
   "execution_count": 13,
   "metadata": {},
   "outputs": [],
   "source": [
    "combine['mszoning'] = combine.mszoning.fillna(combine.mszoning.mode()[0])\n",
    "combine['lotfrontage'] = combine.groupby('neighborhood').lotfrontage.transform(lambda x: x.fillna(x.median()))\n",
    "combine['alley'] = combine.alley.fillna('None')\n",
    "combine = combine.drop('utilities', axis=1)\n",
    "combine['exterior1st'] = combine.exterior1st.fillna(combine.exterior1st.mode()[0])\n",
    "combine['exterior2nd'] = combine.exterior2nd.fillna(combine.exterior2nd.mode()[0])\n",
    "combine['masvnrarea'] = combine.masvnrarea.fillna(0.0)\n",
    "combine['masvnrtype'] = combine.masvnrtype.fillna('None')\n",
    "combine['bsmtqual'] = combine.bsmtqual.fillna('None')\n",
    "combine['bsmtcond'] = combine.bsmtcond.fillna('None')\n",
    "combine['bsmtexposure'] = combine.bsmtexposure.fillna('None')\n",
    "combine['bsmtfintype1'] = combine.bsmtfintype1.fillna('None')\n",
    "combine['bsmtfinsf1'] = combine.bsmtfinsf1.fillna(0.0)\n",
    "combine['bsmtfintype2'] = combine.bsmtfintype2.fillna('None')\n",
    "combine['bsmtfinsf2'] = combine.bsmtfinsf2.fillna(0.0)\n",
    "combine['bsmtunfsf'] = combine.bsmtunfsf.fillna(0.0)\n",
    "combine['totalbsmtsf'] = combine.totalbsmtsf.fillna(0.0)\n",
    "combine['electrical'] = combine.electrical.fillna(combine.electrical.mode()[0])\n",
    "combine['bsmtfullbath'] = combine.bsmtfullbath.fillna(0.0)\n",
    "combine['bsmthalfbath'] = combine.bsmthalfbath.fillna(0.0)\n",
    "combine['kitchenqual'] = combine.kitchenqual.fillna(combine.kitchenqual.mode()[0])\n",
    "combine['functional'] = combine.functional.fillna(combine.functional.mode()[0])\n",
    "combine['fireplacequ'] = combine.fireplacequ.fillna('None')\n",
    "combine['garagetype'] = combine.garagetype.fillna('None')\n",
    "combine['garageyrblt'] = combine.garageyrblt.fillna(combine.garageyrblt.min()-1)\n",
    "combine['garagefinish'] = combine.garagefinish.fillna('None')\n",
    "combine['garagecars'] = combine.garagecars.fillna(0.0)\n",
    "combine['garagearea'] = combine.garagearea.fillna(0.0)\n",
    "combine['garagequal'] = combine.garagequal.fillna('None')\n",
    "combine['garagecond'] = combine.garagecond.fillna('None')\n",
    "combine['poolqc'] = combine.poolqc.fillna('None')\n",
    "combine['fence'] = combine.fence.fillna('None')\n",
    "combine['miscfeature'] = combine.miscfeature.fillna('None')\n",
    "combine['saletype'] = combine.saletype.fillna(combine.saletype.mode()[0])"
   ]
  },
  {
   "cell_type": "code",
   "execution_count": 14,
   "metadata": {},
   "outputs": [
    {
     "data": {
      "text/plain": [
       "Series([], dtype: int64)"
      ]
     },
     "execution_count": 14,
     "metadata": {},
     "output_type": "execute_result"
    }
   ],
   "source": [
    "combine.isnull().sum()[combine.isnull().sum()!=0]"
   ]
  },
  {
   "cell_type": "markdown",
   "metadata": {},
   "source": [
    "### Feature Engineering"
   ]
  },
  {
   "cell_type": "code",
   "execution_count": 15,
   "metadata": {},
   "outputs": [],
   "source": [
    "to_drop = ['id', 'lotshape']\n",
    "to_category = ['mssubclass', 'mszoning', 'street', 'alley',\n",
    "               'landcontour', 'lotconfig', 'landslope', 'neighborhood',\n",
    "               'condition1', 'condition2', 'bldgtype', 'housestyle',\n",
    "               'roofstyle', 'roofmatl', 'overallcond', 'overallqual',\n",
    "               'exterior1st', 'exterior2nd', 'masvnrtype', 'exterqual',\n",
    "               'extercond', 'foundation', 'bsmtqual', 'bsmtcond', 'bsmtexposure',\n",
    "               'bsmtfintype1', 'bsmtfintype2', 'heating', 'heatingqc',\n",
    "               'centralair', 'electrical', 'kitchenqual', 'functional',\n",
    "               'fireplacequ', 'garagetype', 'garagefinish', 'garagequal',\n",
    "               'garagecond', 'paveddrive', 'poolqc', 'fence', 'miscfeature',\n",
    "               'mosold', 'saletype', 'salecondition', 'yrsold']\n",
    "num_feats = ['lotfrontage', 'lotarea', 'masvnrarea', 'garageyrblt', 'yearremodadd',\n",
    "          'bsmtfinsf1', 'bsmtfinsf2', 'bsmtunfsf', 'totalbsmtsf', '1stflrsf',\n",
    "          '2ndflrsf', 'lowqualfinsf', 'grlivarea', 'bsmtfullbath', 'bsmthalfbath',\n",
    "          'fullbath', 'halfbath', 'bedroomabvgr', 'kitchenabvgr', 'totrmsabvgrd',\n",
    "          'fireplaces', 'garagecars', 'garagearea', 'wooddecksf',\n",
    "          'openporchsf', 'enclosedporch', '3ssnporch', 'screenporch', 'poolarea',\n",
    "          'miscval', 'yearbuilt', 'totalsf']"
   ]
  },
  {
   "cell_type": "code",
   "execution_count": 16,
   "metadata": {},
   "outputs": [],
   "source": [
    "combine['is_reglotshape'] = combine.lotshape.apply(lambda x: 1 if x=='Reg' else 0)\n",
    "combine['totalsf'] = combine['totalbsmtsf'] + combine['1stflrsf'] + combine['2ndflrsf']"
   ]
  },
  {
   "cell_type": "code",
   "execution_count": 17,
   "metadata": {},
   "outputs": [],
   "source": [
    "combine = combine.drop(to_drop, axis=1)\n",
    "for feat in to_category:\n",
    "    combine[feat] = combine[feat].astype('category')\n",
    "for feat in num_feats:\n",
    "    if abs(combine[feat].skew()) > 0.75:\n",
    "        combine[feat] = np.log1p(combine[feat])\n",
    "combine = pd.get_dummies(combine)"
   ]
  },
  {
   "cell_type": "code",
   "execution_count": 18,
   "metadata": {},
   "outputs": [],
   "source": [
    "combine = pd.DataFrame(StandardScaler().fit_transform(combine), columns=combine.columns)"
   ]
  },
  {
   "cell_type": "code",
   "execution_count": 19,
   "metadata": {},
   "outputs": [],
   "source": [
    "def prepare_data(combine):\n",
    "    X_train = combine[:sep]\n",
    "    y_train = np.log(train['saleprice'])\n",
    "    X_test = combine[sep:]\n",
    "    return X_train, y_train, X_test"
   ]
  },
  {
   "cell_type": "code",
   "execution_count": 20,
   "metadata": {},
   "outputs": [],
   "source": [
    "X_train, y_train, X_test = prepare_data(combine)"
   ]
  },
  {
   "cell_type": "markdown",
   "metadata": {},
   "source": [
    "### Feature Selection based on Lasso Result"
   ]
  },
  {
   "cell_type": "code",
   "execution_count": 21,
   "metadata": {},
   "outputs": [],
   "source": [
    "base_regs = []"
   ]
  },
  {
   "cell_type": "code",
   "execution_count": 22,
   "metadata": {},
   "outputs": [
    {
     "name": "stdout",
     "output_type": "stream",
     "text": [
      "Fitting 8 folds for each of 20 candidates, totalling 160 fits\n"
     ]
    },
    {
     "name": "stderr",
     "output_type": "stream",
     "text": [
      "[Parallel(n_jobs=4)]: Done  42 tasks      | elapsed:    5.7s\n",
      "[Parallel(n_jobs=4)]: Done 153 out of 160 | elapsed:   10.5s remaining:    0.5s\n",
      "[Parallel(n_jobs=4)]: Done 160 out of 160 | elapsed:   10.6s finished\n"
     ]
    },
    {
     "name": "stdout",
     "output_type": "stream",
     "text": [
      "{'alpha': 0.0026366508987303583}\n",
      "0.11130984834575268\n"
     ]
    }
   ],
   "source": [
    "params = {\n",
    "    'alpha': np.logspace(-4, -1, 20)\n",
    "}\n",
    "reg = grid_search(Lasso(), params)"
   ]
  },
  {
   "cell_type": "code",
   "execution_count": 23,
   "metadata": {},
   "outputs": [
    {
     "name": "stdout",
     "output_type": "stream",
     "text": [
      "Fitting 8 folds for each of 20 candidates, totalling 160 fits\n"
     ]
    },
    {
     "name": "stderr",
     "output_type": "stream",
     "text": [
      "[Parallel(n_jobs=4)]: Done  76 tasks      | elapsed:    3.0s\n"
     ]
    },
    {
     "name": "stdout",
     "output_type": "stream",
     "text": [
      "{'alpha': 0.0008858667904100823}\n",
      "0.10761658095500862\n"
     ]
    },
    {
     "name": "stderr",
     "output_type": "stream",
     "text": [
      "[Parallel(n_jobs=4)]: Done 160 out of 160 | elapsed:    4.5s finished\n"
     ]
    }
   ],
   "source": [
    "coefs = reg.coef_\n",
    "features = combine.columns.tolist()\n",
    "\n",
    "for i in range(len(coefs)):\n",
    "    if coefs[i] == 0:\n",
    "        combine = combine.drop(features[i], axis=1)\n",
    "\n",
    "X_train, y_train, X_test = prepare_data(combine)\n",
    "\n",
    "params = {\n",
    "    'alpha': np.logspace(-4, -1, 20)\n",
    "}\n",
    "reg = grid_search(Lasso(), params)"
   ]
  },
  {
   "cell_type": "markdown",
   "metadata": {},
   "source": [
    "### Model Tuning and Keep the Base Models"
   ]
  },
  {
   "cell_type": "code",
   "execution_count": 24,
   "metadata": {},
   "outputs": [],
   "source": [
    "base_regs.append(reg)"
   ]
  },
  {
   "cell_type": "code",
   "execution_count": 25,
   "metadata": {},
   "outputs": [
    {
     "name": "stdout",
     "output_type": "stream",
     "text": [
      "Fitting 8 folds for each of 50 candidates, totalling 400 fits\n"
     ]
    },
    {
     "name": "stderr",
     "output_type": "stream",
     "text": [
      "[Parallel(n_jobs=4)]: Done 300 tasks      | elapsed:    1.9s\n"
     ]
    },
    {
     "name": "stdout",
     "output_type": "stream",
     "text": [
      "{'alpha': 126.48552168552958}\n",
      "0.10710308769916094\n"
     ]
    },
    {
     "name": "stderr",
     "output_type": "stream",
     "text": [
      "[Parallel(n_jobs=4)]: Done 400 out of 400 | elapsed:    2.4s finished\n"
     ]
    }
   ],
   "source": [
    "params = {\n",
    "    'alpha': np.logspace(-1, 3, 50)\n",
    "}\n",
    "reg = grid_search(Ridge(), params)"
   ]
  },
  {
   "cell_type": "code",
   "execution_count": 26,
   "metadata": {},
   "outputs": [],
   "source": [
    "base_regs.append(reg)"
   ]
  },
  {
   "cell_type": "code",
   "execution_count": 27,
   "metadata": {},
   "outputs": [
    {
     "name": "stdout",
     "output_type": "stream",
     "text": [
      "Fitting 8 folds for each of 80 candidates, totalling 640 fits\n"
     ]
    },
    {
     "name": "stderr",
     "output_type": "stream",
     "text": [
      "[Parallel(n_jobs=4)]: Done  76 tasks      | elapsed:    4.1s\n"
     ]
    },
    {
     "name": "stdout",
     "output_type": "stream",
     "text": [
      "{'alpha': 0.01, 'l1_ratio': 0.1}\n",
      "0.10746445363814439\n"
     ]
    },
    {
     "name": "stderr",
     "output_type": "stream",
     "text": [
      "[Parallel(n_jobs=4)]: Done 640 out of 640 | elapsed:    9.4s finished\n"
     ]
    }
   ],
   "source": [
    "params = {\n",
    "    'alpha': np.logspace(-3, 4, 8),\n",
    "    'l1_ratio': np.arange(0.1, 1.1, 0.1)\n",
    "}\n",
    "reg = grid_search(ElasticNet(), params)"
   ]
  },
  {
   "cell_type": "code",
   "execution_count": 28,
   "metadata": {},
   "outputs": [],
   "source": [
    "base_regs.append(reg)"
   ]
  },
  {
   "cell_type": "code",
   "execution_count": 29,
   "metadata": {},
   "outputs": [
    {
     "name": "stdout",
     "output_type": "stream",
     "text": [
      "Fitting 8 folds for each of 1 candidates, totalling 8 fits\n"
     ]
    },
    {
     "name": "stderr",
     "output_type": "stream",
     "text": [
      "[Parallel(n_jobs=4)]: Done   8 out of   8 | elapsed:    9.4s finished\n"
     ]
    },
    {
     "name": "stdout",
     "output_type": "stream",
     "text": [
      "{'max_depth': 14, 'max_features': 0.5, 'min_samples_split': 5, 'n_estimators': 200, 'random_state': 0}\n",
      "0.13508738934910777\n"
     ]
    }
   ],
   "source": [
    "params = {\n",
    "    'n_estimators': [200],\n",
    "    'random_state': [0],\n",
    "    'max_depth': [14],\n",
    "    'min_samples_split': [5],\n",
    "    'max_features': [0.5]\n",
    "}\n",
    "reg = grid_search(RandomForestRegressor(), params)"
   ]
  },
  {
   "cell_type": "code",
   "execution_count": 30,
   "metadata": {},
   "outputs": [],
   "source": [
    "base_regs.append(reg)"
   ]
  },
  {
   "cell_type": "code",
   "execution_count": 31,
   "metadata": {},
   "outputs": [
    {
     "name": "stdout",
     "output_type": "stream",
     "text": [
      "Fitting 8 folds for each of 1 candidates, totalling 8 fits\n"
     ]
    },
    {
     "name": "stderr",
     "output_type": "stream",
     "text": [
      "[Parallel(n_jobs=4)]: Done   8 out of   8 | elapsed:    5.4s finished\n"
     ]
    },
    {
     "name": "stdout",
     "output_type": "stream",
     "text": [
      "{'max_depth': 17, 'max_features': 0.5, 'min_samples_split': 3, 'n_estimators': 100, 'random_state': 0}\n",
      "0.13485883632237716\n"
     ]
    }
   ],
   "source": [
    "params = {\n",
    "    'n_estimators': [100],\n",
    "    'random_state': [0],\n",
    "    'max_depth': [17],\n",
    "    'min_samples_split': [3],\n",
    "    'max_features': [0.5]\n",
    "}\n",
    "reg = grid_search(RandomForestRegressor(), params)"
   ]
  },
  {
   "cell_type": "code",
   "execution_count": 32,
   "metadata": {},
   "outputs": [],
   "source": [
    "base_regs.append(reg)"
   ]
  },
  {
   "cell_type": "code",
   "execution_count": 33,
   "metadata": {},
   "outputs": [
    {
     "name": "stdout",
     "output_type": "stream",
     "text": [
      "Fitting 8 folds for each of 1 candidates, totalling 8 fits\n"
     ]
    },
    {
     "name": "stderr",
     "output_type": "stream",
     "text": [
      "[Parallel(n_jobs=4)]: Done   8 out of   8 | elapsed:   16.4s finished\n"
     ]
    },
    {
     "name": "stdout",
     "output_type": "stream",
     "text": [
      "{'learning_rate': 0.05, 'max_depth': 4, 'max_features': 0.5, 'n_estimators': 1000, 'random_state': 0, 'subsample': 0.3}\n",
      "0.11422744775507698\n"
     ]
    }
   ],
   "source": [
    "params = {\n",
    "    'n_estimators': [1000],\n",
    "    'learning_rate': [0.05],\n",
    "    'random_state': [0],\n",
    "    'max_depth': [4],\n",
    "    'subsample': [0.3],\n",
    "    'max_features': [0.5]\n",
    "}\n",
    "reg = grid_search(GradientBoostingRegressor(), params)"
   ]
  },
  {
   "cell_type": "code",
   "execution_count": 34,
   "metadata": {},
   "outputs": [],
   "source": [
    "base_regs.append(reg)"
   ]
  },
  {
   "cell_type": "code",
   "execution_count": 35,
   "metadata": {},
   "outputs": [
    {
     "name": "stdout",
     "output_type": "stream",
     "text": [
      "Fitting 8 folds for each of 1 candidates, totalling 8 fits\n"
     ]
    },
    {
     "name": "stderr",
     "output_type": "stream",
     "text": [
      "[Parallel(n_jobs=4)]: Done   8 out of   8 | elapsed:   47.7s finished\n"
     ]
    },
    {
     "name": "stdout",
     "output_type": "stream",
     "text": [
      "{'colsample_bytree': 1.0, 'learning_rate': 0.02, 'max_depth': 7, 'n_estimators': 1000, 'random_state': 0, 'reg_alpha': 0.001, 'reg_lambda': 1.0, 'subsample': 0.3}\n",
      "0.11470753366792613\n"
     ]
    }
   ],
   "source": [
    "params = {\n",
    "    'n_estimators': [1000],\n",
    "    'learning_rate': [0.02],\n",
    "    'random_state': [0],\n",
    "    'max_depth': [7],\n",
    "    'subsample': [0.3],\n",
    "    'colsample_bytree': [1.0],\n",
    "    'reg_alpha': [0.001],\n",
    "    'reg_lambda': [1.0]\n",
    "}\n",
    "reg = grid_search(XGBRegressor(), params)"
   ]
  },
  {
   "cell_type": "code",
   "execution_count": 36,
   "metadata": {},
   "outputs": [],
   "source": [
    "base_regs.append(reg)"
   ]
  },
  {
   "cell_type": "markdown",
   "metadata": {},
   "source": [
    "### Use Ridge as a Blender"
   ]
  },
  {
   "cell_type": "code",
   "execution_count": 37,
   "metadata": {},
   "outputs": [],
   "source": [
    "from sklearn.model_selection import cross_val_predict"
   ]
  },
  {
   "cell_type": "code",
   "execution_count": 38,
   "metadata": {},
   "outputs": [],
   "source": [
    "preds = pd.DataFrame()\n",
    "for i, model in enumerate(base_regs):\n",
    "    preds['model_'+str(i)] = cross_val_predict(model, X_train, y_train, cv=kf, n_jobs=4)"
   ]
  },
  {
   "cell_type": "code",
   "execution_count": 39,
   "metadata": {},
   "outputs": [
    {
     "name": "stdout",
     "output_type": "stream",
     "text": [
      "0.10534820357355877\n",
      "{'alpha': 0.001}\n"
     ]
    }
   ],
   "source": [
    "params = {\n",
    "    'alpha': np.logspace(-5, 1, 7)\n",
    "}\n",
    "grid = GridSearchCV(Ridge(), params, cv=kf, scoring='neg_mean_squared_error', n_jobs=4)\n",
    "grid.fit(preds, y_train)\n",
    "print(np.sqrt(-grid.best_score_))\n",
    "print(grid.best_params_)"
   ]
  },
  {
   "cell_type": "code",
   "execution_count": 40,
   "metadata": {},
   "outputs": [],
   "source": [
    "blender = Ridge(alpha=0.001)"
   ]
  },
  {
   "cell_type": "markdown",
   "metadata": {},
   "source": [
    "### Make Prediction and Submission"
   ]
  },
  {
   "cell_type": "code",
   "execution_count": 42,
   "metadata": {},
   "outputs": [],
   "source": [
    "y_preds = pd.DataFrame()\n",
    "for i, model in enumerate(base_regs):\n",
    "    y_pred = model.fit(X_train, y_train).predict(X_test)\n",
    "    y_preds['model_'+str(i)] = y_pred"
   ]
  },
  {
   "cell_type": "code",
   "execution_count": 44,
   "metadata": {},
   "outputs": [],
   "source": [
    "y_pred = blender.fit(preds, y_train).predict(y_preds)\n",
    "y_pred = pd.Series(np.exp(y_pred), name='SalePrice')\n",
    "sub = pd.concat([test_id, y_pred], axis=1)\n",
    "sub.to_csv('submission.csv', index=False)"
   ]
  }
 ],
 "metadata": {
  "kernelspec": {
   "display_name": "Python 3",
   "language": "python",
   "name": "python3"
  },
  "language_info": {
   "codemirror_mode": {
    "name": "ipython",
    "version": 3
   },
   "file_extension": ".py",
   "mimetype": "text/x-python",
   "name": "python",
   "nbconvert_exporter": "python",
   "pygments_lexer": "ipython3",
   "version": "3.7.0"
  }
 },
 "nbformat": 4,
 "nbformat_minor": 2
}
